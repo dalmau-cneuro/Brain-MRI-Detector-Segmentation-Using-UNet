{
 "cells": [
  {
   "cell_type": "markdown",
   "id": "7d6411b4",
   "metadata": {
    "papermill": {
     "duration": 0.00344,
     "end_time": "2022-10-14T15:59:21.313736",
     "exception": false,
     "start_time": "2022-10-14T15:59:21.310296",
     "status": "completed"
    },
    "tags": []
   },
   "source": [
    "# <p style=\"background-color:red;color:white;font-size:22px;text-align:center;border-radius:10px 10px;font-weight:bold;border:2px solid black\">Brain MRI Detector | Segmentation | Using UNet</p>\n",
    "\n",
    "<center><img src= \"https://www.mayoclinic.org/-/media/kcms/gbs/patient-consumer/images/2014/10/30/15/17/mcdc7_brain_cancer-8col.jpg\" alt =\"Brain-MRI\" style='width:300px;'></center>\n",
    "\n",
    "**Image source** : Mayo Clinic"
   ]
  },
  {
   "cell_type": "markdown",
   "id": "3090bbe4",
   "metadata": {
    "papermill": {
     "duration": 0.002075,
     "end_time": "2022-10-14T15:59:21.319043",
     "exception": false,
     "start_time": "2022-10-14T15:59:21.316968",
     "status": "completed"
    },
    "tags": []
   },
   "source": [
    "<span style=\"color:red;background-color:white;font-size:22px\">Quick Navigation</span> <a id=1></a> <br>\n",
    "\n",
    "1. [Introduction](#1) <br>\n",
    "\n",
    "    1.1 [Image Segmentation](#1.1) <br>\n",
    "\n",
    "3. [EDA](#3) <br>"
   ]
  },
  {
   "cell_type": "markdown",
   "id": "aa9c3b46",
   "metadata": {
    "papermill": {
     "duration": 0.001958,
     "end_time": "2022-10-14T15:59:21.323318",
     "exception": false,
     "start_time": "2022-10-14T15:59:21.321360",
     "status": "completed"
    },
    "tags": []
   },
   "source": [
    "<span style=\"color:red;background-color:white;font-size:22px\">Introduction</span> <a id=1></a> <br> \n",
    "\n",
    "A brain tumor is a mass or growth of abnormal cells in your brain.Many different types of brain tumors exist. Some brain tumors are noncancerous (benign), and some brain tumors are cancerous (malignant). Brain tumors can begin in your brain (primary brain tumors), or cancer can begin in other parts of your body and spread to your brain as secondary (metastatic) brain tumors.\n",
    "\n",
    "How quickly a brain tumor grows can vary greatly. The growth rate as well as the location of a brain tumor determines how it will affect the function of your nervous system.\n",
    "\n",
    "Brain tumor treatment options depend on the type of brain tumor you have, as well as its size and location. <br>\n",
    "**Source credits** : [Mayo Clinic](https://www.mayoclinic.org/diseases-conditions/brain-tumor/symptoms-causes/syc-20350084)"
   ]
  },
  {
   "cell_type": "markdown",
   "id": "defc93c9",
   "metadata": {
    "papermill": {
     "duration": 0.001923,
     "end_time": "2022-10-14T15:59:21.327408",
     "exception": false,
     "start_time": "2022-10-14T15:59:21.325485",
     "status": "completed"
    },
    "tags": []
   },
   "source": [
    "<span style=\"color:red;background-color:white;font-size:22px\">What is Image Segmentation?</span> <a id=1.1></a> <br> \n",
    " *  The objective of the Image Segmentation is to classify each pixel of an image with the class it represents, by predicting each pixel in image. <br>\n",
    " *  Here in this notebook,we will implement the U-Net model, its a U-shaped architecture (in keras). \n",
    "We will also apply our model to a Brain MRI tumor detection problem to see how it performs."
   ]
  },
  {
   "cell_type": "markdown",
   "id": "cc2bf2fe",
   "metadata": {
    "papermill": {
     "duration": 0.002176,
     "end_time": "2022-10-14T15:59:21.331732",
     "exception": false,
     "start_time": "2022-10-14T15:59:21.329556",
     "status": "completed"
    },
    "tags": []
   },
   "source": [
    "<span style=\"color:red;background-color:white;font-size:22px\">Import Libraries</span> <a id=1.1></a> <br>"
   ]
  },
  {
   "cell_type": "code",
   "execution_count": 1,
   "id": "717f27ea",
   "metadata": {
    "_cell_guid": "b1076dfc-b9ad-4769-8c92-a6c4dae69d19",
    "_uuid": "8f2839f25d086af736a60e9eeb907d3b93b6e0e5",
    "execution": {
     "iopub.execute_input": "2022-10-14T15:59:21.338473Z",
     "iopub.status.busy": "2022-10-14T15:59:21.337722Z",
     "iopub.status.idle": "2022-10-14T15:59:29.477987Z",
     "shell.execute_reply": "2022-10-14T15:59:29.476517Z"
    },
    "papermill": {
     "duration": 8.147268,
     "end_time": "2022-10-14T15:59:29.481201",
     "exception": false,
     "start_time": "2022-10-14T15:59:21.333933",
     "status": "completed"
    },
    "tags": []
   },
   "outputs": [],
   "source": [
    "import os\n",
    "import numpy as np\n",
    "import pandas as pd\n",
    "import matplotlib.pyplot as plt\n",
    "import seaborn as sns\n",
    "import random\n",
    "import glob\n",
    "\n",
    "from skimage import io\n",
    "\n",
    "import tensorflow as tf\n",
    "from skimage.color import rgb2gray\n",
    "from tensorflow.python.keras import Sequential\n",
    "from tensorflow.keras import layers, optimizers\n",
    "from tensorflow.keras.layers import *\n",
    "from tensorflow.keras.models import Model\n",
    "from tensorflow.keras.initializers import glorot_uniform\n",
    "from tensorflow.keras.models import Model, load_model, save_model\n",
    "from tensorflow.keras.callbacks import ReduceLROnPlateau, EarlyStopping, ModelCheckpoint, LearningRateScheduler\n",
    "from tensorflow.keras.layers import Input, Activation, BatchNormalization, Dropout, Lambda, Conv2D, Conv2DTranspose, MaxPooling2D, concatenate\n",
    "from sklearn.model_selection import train_test_split\n",
    "\n",
    "from tensorflow.keras.optimizers import Adam\n",
    "\n",
    "from tensorflow.keras import backend as K\n",
    "from tensorflow.keras.preprocessing.image import ImageDataGenerator\n",
    "\n",
    "import cv2\n",
    "from sklearn.preprocessing import StandardScaler, normalize\n",
    "from IPython.display import display"
   ]
  },
  {
   "cell_type": "markdown",
   "id": "f7815213",
   "metadata": {
    "papermill": {
     "duration": 0.002018,
     "end_time": "2022-10-14T15:59:29.485688",
     "exception": false,
     "start_time": "2022-10-14T15:59:29.483670",
     "status": "completed"
    },
    "tags": []
   },
   "source": [
    "<span style=\"color:#FF0000;background-color:white;font-size:22px\">Observation</span>  <br>"
   ]
  }
 ],
 "metadata": {
  "kernelspec": {
   "display_name": "Python 3",
   "language": "python",
   "name": "python3"
  },
  "language_info": {
   "codemirror_mode": {
    "name": "ipython",
    "version": 3
   },
   "file_extension": ".py",
   "mimetype": "text/x-python",
   "name": "python",
   "nbconvert_exporter": "python",
   "pygments_lexer": "ipython3",
   "version": "3.7.12"
  },
  "papermill": {
   "default_parameters": {},
   "duration": 20.167339,
   "end_time": "2022-10-14T15:59:32.270473",
   "environment_variables": {},
   "exception": null,
   "input_path": "__notebook__.ipynb",
   "output_path": "__notebook__.ipynb",
   "parameters": {},
   "start_time": "2022-10-14T15:59:12.103134",
   "version": "2.3.4"
  }
 },
 "nbformat": 4,
 "nbformat_minor": 5
}
