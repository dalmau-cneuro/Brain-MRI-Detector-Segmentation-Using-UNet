{
 "cells": [
  {
   "cell_type": "markdown",
   "metadata": {},
   "source": [
    "<a href=\"https://www.kaggle.com/code/tejasurya/unet-from-scratch-segmentation-tumour?scriptVersionId=131333196\" target=\"_blank\"><img align=\"left\" alt=\"Kaggle\" title=\"Open in Kaggle\" src=\"https://kaggle.com/static/images/open-in-kaggle.svg\"></a>"
   ]
  },
  {
   "cell_type": "markdown",
   "id": "2eae21ba",
   "metadata": {
    "papermill": {
     "duration": 0.015496,
     "end_time": "2023-05-28T13:28:27.453266",
     "exception": false,
     "start_time": "2023-05-28T13:28:27.43777",
     "status": "completed"
    },
    "tags": []
   },
   "source": [
    "# <p style=\"background-color:red;color:white;font-size:22px;text-align:center;border-radius:10px 10px;font-weight:bold;border:2px solid black\">Brain MRI Detector | Segmentation | Using UNet</p>\n",
    "\n",
    "<center><img src= \"https://www.mayoclinic.org/-/media/kcms/gbs/patient-consumer/images/2014/10/30/15/17/mcdc7_brain_cancer-8col.jpg\" alt =\"Brain-MRI\" style='width:300px;'></center>\n",
    "\n",
    "**Image source** : Mayo Clinic"
   ]
  },
  {
   "cell_type": "markdown",
   "id": "a2d5ab09",
   "metadata": {
    "papermill": {
     "duration": 0.013744,
     "end_time": "2023-05-28T13:28:27.481134",
     "exception": false,
     "start_time": "2023-05-28T13:28:27.46739",
     "status": "completed"
    },
    "tags": []
   },
   "source": [
    "# Quick Index\n",
    "\n",
    "* [Introduction](#1)\n",
    "* [What is Image Segmentation?](#1.1)\n",
    "* [EDA](#2)\n",
    "* [Image Visualization](#2.1)\n",
    "* [Data Generator](#3)\n",
    "* [Build UNet](#4)\n",
    "    * [UNet Architecture](#4.1)\n",
    "* [UNet Implementation](#5)    \n",
    "    * [Callbacks](#5.1)\n",
    "    * [Performance Metrics](#5.2)\n",
    "    * [Model Fit](#5.3)\n",
    "    * [Save UNet Model](#5.4)\n",
    "* [Evaluation](#6)\n",
    "* [Prediction](#7)"
   ]
  },
  {
   "cell_type": "markdown",
   "id": "031d8cfc",
   "metadata": {
    "papermill": {
     "duration": 0.013696,
     "end_time": "2023-05-28T13:28:27.510242",
     "exception": false,
     "start_time": "2023-05-28T13:28:27.496546",
     "status": "completed"
    },
    "tags": []
   },
   "source": [
    "# <span class=\"list-group-item list-group-item-action active\" style=\"color:red;background-color:white;font-size:22px\">Introduction</span> <a id=1></a> \n",
    "A brain tumor is a mass or growth of abnormal cells in your brain.Many different types of brain tumors exist. Some brain tumors are noncancerous (benign), and some brain tumors are cancerous (malignant). Brain tumors can begin in your brain (primary brain tumors), or cancer can begin in other parts of your body and spread to your brain as secondary (metastatic) brain tumors.\n",
    "\n",
    "How quickly a brain tumor grows can vary greatly. The growth rate as well as the location of a brain tumor determines how it will affect the function of your nervous system.\n",
    "\n",
    "Brain tumor treatment options depend on the type of brain tumor you have, as well as its size and location. <br>\n",
    "**Source credits** : [Mayo Clinic](https://www.mayoclinic.org/diseases-conditions/brain-tumor/symptoms-causes/syc-20350084)"
   ]
  },
  {
   "cell_type": "markdown",
   "id": "6beb8dbc",
   "metadata": {
    "papermill": {
     "duration": 0.0137,
     "end_time": "2023-05-28T13:28:27.537811",
     "exception": false,
     "start_time": "2023-05-28T13:28:27.524111",
     "status": "completed"
    },
    "tags": []
   },
   "source": [
    "# <span class=\"list-group-item list-group-item-action active\" style=\"color:red;background-color:white;font-size:22px\">What is Image Segmentation?</span> <a id=1.1></a> <br> \n",
    " *  The objective of the Image Segmentation is to classify each pixel of an image with the class it represents, by predicting each pixel in image. <br>\n",
    " *  Here in this notebook,we will implement the U-Net model, its a U-shaped architecture (in keras). \n",
    "We will also apply our model to a Brain MRI tumor detection problem to see how it performs."
   ]
  },
  {
   "cell_type": "markdown",
   "id": "36804288",
   "metadata": {
    "papermill": {
     "duration": 0.013751,
     "end_time": "2023-05-28T13:28:27.565395",
     "exception": false,
     "start_time": "2023-05-28T13:28:27.551644",
     "status": "completed"
    },
    "tags": []
   },
   "source": [
    "# <span class=\"list-group-item list-group-item-action active\" style=\"color:red;background-color:white;font-size:22px\">Import Libraries</span> <a id=1.1.1></a> <br>"
   ]
  },
  {
   "cell_type": "code",
   "execution_count": null,
   "id": "954a2560",
   "metadata": {
    "_cell_guid": "b1076dfc-b9ad-4769-8c92-a6c4dae69d19",
    "_kg_hide-input": true,
    "_uuid": "8f2839f25d086af736a60e9eeb907d3b93b6e0e5",
    "execution": {
     "iopub.execute_input": "2023-05-28T13:28:27.595168Z",
     "iopub.status.busy": "2023-05-28T13:28:27.594619Z",
     "iopub.status.idle": "2023-05-28T13:28:34.39132Z",
     "shell.execute_reply": "2023-05-28T13:28:34.390351Z"
    },
    "papermill": {
     "duration": 6.814748,
     "end_time": "2023-05-28T13:28:34.394067",
     "exception": false,
     "start_time": "2023-05-28T13:28:27.579319",
     "status": "completed"
    },
    "tags": []
   },
   "outputs": [],
   "source": [
    "# Librerías estándar\n",
    "import os\n",
    "import time\n",
    "import glob\n",
    "import random\n",
    "# import warnings\n",
    "\n",
    "# warnings.filterwarnings(\"ignore\")\n",
    "\n",
    "# Librerías de ciencia de datos y visualización\n",
    "import numpy as np\n",
    "import pandas as pd\n",
    "import matplotlib.pyplot as plt\n",
    "import seaborn as sns\n",
    "\n",
    "# Jupyter/IPython\n",
    "from IPython.display import Image, display\n",
    "\n",
    "# Procesamiento de imágenes\n",
    "from skimage import io\n",
    "from skimage.color import rgb2gray\n",
    "import cv2\n",
    "\n",
    "# Machine Learning y Deep Learning\n",
    "from sklearn.model_selection import train_test_split\n",
    "from sklearn.preprocessing import StandardScaler, normalize\n",
    "\n",
    "# import tensorflow as tf\n",
    "from tensorflow.keras import layers, optimizers, backend as K # type: ignore\n",
    "from tensorflow.keras.layers import ( # type: ignore\n",
    "    Input, Activation, BatchNormalization, Dropout, Lambda, Conv2D,\n",
    "    Conv2DTranspose, MaxPooling2D, concatenate\n",
    ")\n",
    "from tensorflow.keras.models import Model, load_model, save_model # type: ignore\n",
    "from tensorflow.keras.callbacks import ( # type: ignore\n",
    "    ReduceLROnPlateau, EarlyStopping, ModelCheckpoint, LearningRateScheduler\n",
    ")\n",
    "from tensorflow.keras.initializers import glorot_uniform # type: ignore\n",
    "from tensorflow.keras.preprocessing.image import ImageDataGenerator # type: ignore\n",
    "from tensorflow.keras.utils import plot_model # type: ignore"
   ]
  },
  {
   "cell_type": "markdown",
   "id": "54638669",
   "metadata": {},
   "source": [
    "Las líneas de código siguientes tienen como objetivo cargar y explorar un conjunto de datos relacionado con imágenes de resonancia magnética del cerebro. En primer lugar, se utiliza la función pd.read_csv() de la biblioteca pandas para leer un archivo CSV llamado data.csv, ubicado en una ruta específica. Este archivo contiene información relevante sobre los tumores y los pacientes. Al hacerlo, se crea un objeto DataFrame denominado img_data, que permite manipular y analizar los datos de manera eficiente.\n",
    "\n",
    "Para facilitar la comprensión de la información cargada, se emplea la función img_data.head(), que muestra las primeras cinco filas del DataFrame. Esto proporciona una vista rápida de la estructura y el contenido de los datos, permitiendo al usuario tener una mejor idea de la información disponible para el análisis y la segmentación de las imágenes de los tumores cerebrales."
   ]
  },
  {
   "cell_type": "code",
   "execution_count": 2,
   "id": "bb2f8133",
   "metadata": {
    "execution": {
     "iopub.execute_input": "2023-05-28T13:28:34.424946Z",
     "iopub.status.busy": "2023-05-28T13:28:34.423685Z",
     "iopub.status.idle": "2023-05-28T13:28:34.469167Z",
     "shell.execute_reply": "2023-05-28T13:28:34.468117Z"
    },
    "papermill": {
     "duration": 0.063736,
     "end_time": "2023-05-28T13:28:34.472174",
     "exception": false,
     "start_time": "2023-05-28T13:28:34.408438",
     "status": "completed"
    },
    "tags": []
   },
   "outputs": [
    {
     "data": {
      "application/vnd.microsoft.datawrangler.viewer.v0+json": {
       "columns": [
        {
         "name": "index",
         "rawType": "int64",
         "type": "integer"
        },
        {
         "name": "Patient",
         "rawType": "object",
         "type": "string"
        },
        {
         "name": "RNASeqCluster",
         "rawType": "float64",
         "type": "float"
        },
        {
         "name": "MethylationCluster",
         "rawType": "float64",
         "type": "float"
        },
        {
         "name": "miRNACluster",
         "rawType": "int64",
         "type": "integer"
        },
        {
         "name": "CNCluster",
         "rawType": "float64",
         "type": "float"
        },
        {
         "name": "RPPACluster",
         "rawType": "float64",
         "type": "float"
        },
        {
         "name": "OncosignCluster",
         "rawType": "float64",
         "type": "float"
        },
        {
         "name": "COCCluster",
         "rawType": "int64",
         "type": "integer"
        },
        {
         "name": "histological_type",
         "rawType": "float64",
         "type": "float"
        },
        {
         "name": "neoplasm_histologic_grade",
         "rawType": "float64",
         "type": "float"
        },
        {
         "name": "tumor_tissue_site",
         "rawType": "float64",
         "type": "float"
        },
        {
         "name": "laterality",
         "rawType": "float64",
         "type": "float"
        },
        {
         "name": "tumor_location",
         "rawType": "float64",
         "type": "float"
        },
        {
         "name": "gender",
         "rawType": "float64",
         "type": "float"
        },
        {
         "name": "age_at_initial_pathologic",
         "rawType": "float64",
         "type": "float"
        },
        {
         "name": "race",
         "rawType": "float64",
         "type": "float"
        },
        {
         "name": "ethnicity",
         "rawType": "float64",
         "type": "float"
        },
        {
         "name": "death01",
         "rawType": "float64",
         "type": "float"
        }
       ],
       "ref": "ad3d09af-0b7a-4f9b-ab98-f6e9412c00a0",
       "rows": [
        [
         "0",
         "TCGA_CS_4941",
         "2.0",
         "4.0",
         "2",
         "2.0",
         null,
         "3.0",
         "2",
         "1.0",
         "2.0",
         "1.0",
         "3.0",
         "2.0",
         "2.0",
         "67.0",
         "3.0",
         "2.0",
         "1.0"
        ],
        [
         "1",
         "TCGA_CS_4942",
         "1.0",
         "5.0",
         "2",
         "1.0",
         "1.0",
         "2.0",
         "1",
         "1.0",
         "2.0",
         "1.0",
         "3.0",
         "2.0",
         "1.0",
         "44.0",
         "2.0",
         null,
         "1.0"
        ],
        [
         "2",
         "TCGA_CS_4943",
         "1.0",
         "5.0",
         "2",
         "1.0",
         "2.0",
         "2.0",
         "1",
         "1.0",
         "2.0",
         "1.0",
         "1.0",
         "2.0",
         "2.0",
         "37.0",
         "3.0",
         null,
         "0.0"
        ],
        [
         "3",
         "TCGA_CS_4944",
         null,
         "5.0",
         "2",
         "1.0",
         "2.0",
         "1.0",
         "1",
         "1.0",
         "1.0",
         "1.0",
         "3.0",
         "6.0",
         "2.0",
         "50.0",
         "3.0",
         null,
         "0.0"
        ],
        [
         "4",
         "TCGA_CS_5393",
         "4.0",
         "5.0",
         "2",
         "1.0",
         "2.0",
         "3.0",
         "1",
         "1.0",
         "2.0",
         "1.0",
         "1.0",
         "6.0",
         "2.0",
         "39.0",
         "3.0",
         null,
         "0.0"
        ]
       ],
       "shape": {
        "columns": 18,
        "rows": 5
       }
      },
      "text/html": [
       "<div>\n",
       "<style scoped>\n",
       "    .dataframe tbody tr th:only-of-type {\n",
       "        vertical-align: middle;\n",
       "    }\n",
       "\n",
       "    .dataframe tbody tr th {\n",
       "        vertical-align: top;\n",
       "    }\n",
       "\n",
       "    .dataframe thead th {\n",
       "        text-align: right;\n",
       "    }\n",
       "</style>\n",
       "<table border=\"1\" class=\"dataframe\">\n",
       "  <thead>\n",
       "    <tr style=\"text-align: right;\">\n",
       "      <th></th>\n",
       "      <th>Patient</th>\n",
       "      <th>RNASeqCluster</th>\n",
       "      <th>MethylationCluster</th>\n",
       "      <th>miRNACluster</th>\n",
       "      <th>CNCluster</th>\n",
       "      <th>RPPACluster</th>\n",
       "      <th>OncosignCluster</th>\n",
       "      <th>COCCluster</th>\n",
       "      <th>histological_type</th>\n",
       "      <th>neoplasm_histologic_grade</th>\n",
       "      <th>tumor_tissue_site</th>\n",
       "      <th>laterality</th>\n",
       "      <th>tumor_location</th>\n",
       "      <th>gender</th>\n",
       "      <th>age_at_initial_pathologic</th>\n",
       "      <th>race</th>\n",
       "      <th>ethnicity</th>\n",
       "      <th>death01</th>\n",
       "    </tr>\n",
       "  </thead>\n",
       "  <tbody>\n",
       "    <tr>\n",
       "      <th>0</th>\n",
       "      <td>TCGA_CS_4941</td>\n",
       "      <td>2.0</td>\n",
       "      <td>4.0</td>\n",
       "      <td>2</td>\n",
       "      <td>2.0</td>\n",
       "      <td>NaN</td>\n",
       "      <td>3.0</td>\n",
       "      <td>2</td>\n",
       "      <td>1.0</td>\n",
       "      <td>2.0</td>\n",
       "      <td>1.0</td>\n",
       "      <td>3.0</td>\n",
       "      <td>2.0</td>\n",
       "      <td>2.0</td>\n",
       "      <td>67.0</td>\n",
       "      <td>3.0</td>\n",
       "      <td>2.0</td>\n",
       "      <td>1.0</td>\n",
       "    </tr>\n",
       "    <tr>\n",
       "      <th>1</th>\n",
       "      <td>TCGA_CS_4942</td>\n",
       "      <td>1.0</td>\n",
       "      <td>5.0</td>\n",
       "      <td>2</td>\n",
       "      <td>1.0</td>\n",
       "      <td>1.0</td>\n",
       "      <td>2.0</td>\n",
       "      <td>1</td>\n",
       "      <td>1.0</td>\n",
       "      <td>2.0</td>\n",
       "      <td>1.0</td>\n",
       "      <td>3.0</td>\n",
       "      <td>2.0</td>\n",
       "      <td>1.0</td>\n",
       "      <td>44.0</td>\n",
       "      <td>2.0</td>\n",
       "      <td>NaN</td>\n",
       "      <td>1.0</td>\n",
       "    </tr>\n",
       "    <tr>\n",
       "      <th>2</th>\n",
       "      <td>TCGA_CS_4943</td>\n",
       "      <td>1.0</td>\n",
       "      <td>5.0</td>\n",
       "      <td>2</td>\n",
       "      <td>1.0</td>\n",
       "      <td>2.0</td>\n",
       "      <td>2.0</td>\n",
       "      <td>1</td>\n",
       "      <td>1.0</td>\n",
       "      <td>2.0</td>\n",
       "      <td>1.0</td>\n",
       "      <td>1.0</td>\n",
       "      <td>2.0</td>\n",
       "      <td>2.0</td>\n",
       "      <td>37.0</td>\n",
       "      <td>3.0</td>\n",
       "      <td>NaN</td>\n",
       "      <td>0.0</td>\n",
       "    </tr>\n",
       "    <tr>\n",
       "      <th>3</th>\n",
       "      <td>TCGA_CS_4944</td>\n",
       "      <td>NaN</td>\n",
       "      <td>5.0</td>\n",
       "      <td>2</td>\n",
       "      <td>1.0</td>\n",
       "      <td>2.0</td>\n",
       "      <td>1.0</td>\n",
       "      <td>1</td>\n",
       "      <td>1.0</td>\n",
       "      <td>1.0</td>\n",
       "      <td>1.0</td>\n",
       "      <td>3.0</td>\n",
       "      <td>6.0</td>\n",
       "      <td>2.0</td>\n",
       "      <td>50.0</td>\n",
       "      <td>3.0</td>\n",
       "      <td>NaN</td>\n",
       "      <td>0.0</td>\n",
       "    </tr>\n",
       "    <tr>\n",
       "      <th>4</th>\n",
       "      <td>TCGA_CS_5393</td>\n",
       "      <td>4.0</td>\n",
       "      <td>5.0</td>\n",
       "      <td>2</td>\n",
       "      <td>1.0</td>\n",
       "      <td>2.0</td>\n",
       "      <td>3.0</td>\n",
       "      <td>1</td>\n",
       "      <td>1.0</td>\n",
       "      <td>2.0</td>\n",
       "      <td>1.0</td>\n",
       "      <td>1.0</td>\n",
       "      <td>6.0</td>\n",
       "      <td>2.0</td>\n",
       "      <td>39.0</td>\n",
       "      <td>3.0</td>\n",
       "      <td>NaN</td>\n",
       "      <td>0.0</td>\n",
       "    </tr>\n",
       "  </tbody>\n",
       "</table>\n",
       "</div>"
      ],
      "text/plain": [
       "        Patient  RNASeqCluster  MethylationCluster  miRNACluster  CNCluster  \\\n",
       "0  TCGA_CS_4941            2.0                 4.0             2        2.0   \n",
       "1  TCGA_CS_4942            1.0                 5.0             2        1.0   \n",
       "2  TCGA_CS_4943            1.0                 5.0             2        1.0   \n",
       "3  TCGA_CS_4944            NaN                 5.0             2        1.0   \n",
       "4  TCGA_CS_5393            4.0                 5.0             2        1.0   \n",
       "\n",
       "   RPPACluster  OncosignCluster  COCCluster  histological_type  \\\n",
       "0          NaN              3.0           2                1.0   \n",
       "1          1.0              2.0           1                1.0   \n",
       "2          2.0              2.0           1                1.0   \n",
       "3          2.0              1.0           1                1.0   \n",
       "4          2.0              3.0           1                1.0   \n",
       "\n",
       "   neoplasm_histologic_grade  tumor_tissue_site  laterality  tumor_location  \\\n",
       "0                        2.0                1.0         3.0             2.0   \n",
       "1                        2.0                1.0         3.0             2.0   \n",
       "2                        2.0                1.0         1.0             2.0   \n",
       "3                        1.0                1.0         3.0             6.0   \n",
       "4                        2.0                1.0         1.0             6.0   \n",
       "\n",
       "   gender  age_at_initial_pathologic  race  ethnicity  death01  \n",
       "0     2.0                       67.0   3.0        2.0      1.0  \n",
       "1     1.0                       44.0   2.0        NaN      1.0  \n",
       "2     2.0                       37.0   3.0        NaN      0.0  \n",
       "3     2.0                       50.0   3.0        NaN      0.0  \n",
       "4     2.0                       39.0   3.0        NaN      0.0  "
      ]
     },
     "execution_count": 2,
     "metadata": {},
     "output_type": "execute_result"
    }
   ],
   "source": [
    "img_data = pd.read_csv('data/input/Brain MRI segmentation/kaggle_3m/data.csv')\n",
    "img_data.head()"
   ]
  },
  {
   "cell_type": "markdown",
   "id": "d6e69fdb",
   "metadata": {},
   "source": [
    "La línea de código `img_data.info()` se utiliza para obtener un resumen detallado de la estructura del DataFrame `img_data`, que contiene los datos cargados desde el archivo CSV. Al ejecutarla, se genera un informe que incluye el número de entradas y columnas, los nombres de cada columna, el tipo de datos de cada una y la cantidad de valores no nulos. Esta información es crucial para evaluar la calidad de los datos, identificar posibles problemas como valores faltantes y comprender la estructura general del conjunto de datos antes de realizar análisis más profundos."
   ]
  },
  {
   "cell_type": "code",
   "execution_count": 3,
   "id": "7b91ccf4",
   "metadata": {
    "execution": {
     "iopub.execute_input": "2023-05-28T13:28:34.50283Z",
     "iopub.status.busy": "2023-05-28T13:28:34.501936Z",
     "iopub.status.idle": "2023-05-28T13:28:34.524535Z",
     "shell.execute_reply": "2023-05-28T13:28:34.522852Z"
    },
    "papermill": {
     "duration": 0.040076,
     "end_time": "2023-05-28T13:28:34.526686",
     "exception": false,
     "start_time": "2023-05-28T13:28:34.48661",
     "status": "completed"
    },
    "tags": []
   },
   "outputs": [
    {
     "name": "stdout",
     "output_type": "stream",
     "text": [
      "<class 'pandas.core.frame.DataFrame'>\n",
      "RangeIndex: 110 entries, 0 to 109\n",
      "Data columns (total 18 columns):\n",
      " #   Column                     Non-Null Count  Dtype  \n",
      "---  ------                     --------------  -----  \n",
      " 0   Patient                    110 non-null    object \n",
      " 1   RNASeqCluster              92 non-null     float64\n",
      " 2   MethylationCluster         109 non-null    float64\n",
      " 3   miRNACluster               110 non-null    int64  \n",
      " 4   CNCluster                  108 non-null    float64\n",
      " 5   RPPACluster                98 non-null     float64\n",
      " 6   OncosignCluster            105 non-null    float64\n",
      " 7   COCCluster                 110 non-null    int64  \n",
      " 8   histological_type          109 non-null    float64\n",
      " 9   neoplasm_histologic_grade  109 non-null    float64\n",
      " 10  tumor_tissue_site          109 non-null    float64\n",
      " 11  laterality                 109 non-null    float64\n",
      " 12  tumor_location             109 non-null    float64\n",
      " 13  gender                     109 non-null    float64\n",
      " 14  age_at_initial_pathologic  109 non-null    float64\n",
      " 15  race                       108 non-null    float64\n",
      " 16  ethnicity                  102 non-null    float64\n",
      " 17  death01                    109 non-null    float64\n",
      "dtypes: float64(15), int64(2), object(1)\n",
      "memory usage: 15.6+ KB\n"
     ]
    }
   ],
   "source": [
    "img_data.info()"
   ]
  },
  {
   "cell_type": "markdown",
   "id": "24bb2486",
   "metadata": {},
   "source": [
    "La expresión `img_data.shape` se utiliza para obtener las dimensiones del DataFrame `img_data`, que contiene los datos cargados desde el archivo CSV. Al acceder a esta propiedad, se devuelve una tupla que indica el número de filas y columnas en el DataFrame. Esto es útil para comprender el tamaño del conjunto de datos, lo que ayuda a planificar análisis posteriores y optimizar las operaciones que se realizarán en los datos."
   ]
  },
  {
   "cell_type": "code",
   "execution_count": 4,
   "id": "bfdd380a",
   "metadata": {
    "execution": {
     "iopub.execute_input": "2023-05-28T13:28:34.556819Z",
     "iopub.status.busy": "2023-05-28T13:28:34.556537Z",
     "iopub.status.idle": "2023-05-28T13:28:34.56252Z",
     "shell.execute_reply": "2023-05-28T13:28:34.561566Z"
    },
    "papermill": {
     "duration": 0.023435,
     "end_time": "2023-05-28T13:28:34.564617",
     "exception": false,
     "start_time": "2023-05-28T13:28:34.541182",
     "status": "completed"
    },
    "tags": []
   },
   "outputs": [
    {
     "data": {
      "text/plain": [
       "(110, 18)"
      ]
     },
     "execution_count": 4,
     "metadata": {},
     "output_type": "execute_result"
    }
   ],
   "source": [
    "img_data.shape"
   ]
  },
  {
   "cell_type": "markdown",
   "id": "daa50208",
   "metadata": {},
   "source": [
    "El código proporcionado tiene como objetivo construir una lista de rutas de archivos para las imágenes y máscaras de un conjunto de datos de resonancia magnética del cerebro. \n",
    "\n",
    "Primero, se inicializa una lista vacía llamada `data_path`. Luego, se define un patrón de ruta utilizando `os.path.join()` para crear una ruta compatible que apunte a las subcarpetas del conjunto de datos. A continuación, se utiliza `glob.glob()` para buscar todas las subcarpetas que coincidan con el patrón especificado.\n",
    "\n",
    "Dentro de un bucle, se verifica si cada subcarpeta es un directorio. Si es así, se obtiene el nombre del directorio y se itera sobre los archivos en esa subcarpeta. Para cada archivo, se construye la ruta completa utilizando `os.path.join()` y se agrega a la lista `data_path`, junto con el nombre del directorio. Si ocurre algún error durante este proceso, se captura la excepción y se imprime el mensaje de error."
   ]
  },
  {
   "cell_type": "code",
   "execution_count": 5,
   "id": "95d2fb97",
   "metadata": {
    "execution": {
     "iopub.execute_input": "2023-05-28T13:28:34.59537Z",
     "iopub.status.busy": "2023-05-28T13:28:34.594543Z",
     "iopub.status.idle": "2023-05-28T13:28:35.415376Z",
     "shell.execute_reply": "2023-05-28T13:28:35.414174Z"
    },
    "papermill": {
     "duration": 0.838709,
     "end_time": "2023-05-28T13:28:35.417753",
     "exception": false,
     "start_time": "2023-05-28T13:28:34.579044",
     "status": "completed"
    },
    "tags": []
   },
   "outputs": [],
   "source": [
    "data_path = []\n",
    "\n",
    "# Construir la ruta de forma compatible\n",
    "path_pattern = os.path.join('data', 'input', 'Brain MRI segmentation', 'kaggle_3m', '*')\n",
    "\n",
    "for sub_dir_path in glob.glob(path_pattern):\n",
    "    try:\n",
    "        if os.path.isdir(sub_dir_path):  # Verifica si es un directorio\n",
    "            dir_name = os.path.basename(sub_dir_path)\n",
    "            for filename in os.listdir(sub_dir_path):\n",
    "                mask_path = os.path.join(sub_dir_path, filename)  # Usa os.path.join para construir la ruta\n",
    "                data_path.extend([dir_name, mask_path])\n",
    "    except Exception as e:\n",
    "        print(e)"
   ]
  },
  {
   "cell_type": "markdown",
   "id": "2c897915",
   "metadata": {},
   "source": [
    "Mostrar el contenido de:"
   ]
  },
  {
   "cell_type": "code",
   "execution_count": 6,
   "id": "ed233648",
   "metadata": {},
   "outputs": [
    {
     "data": {
      "text/plain": [
       "['TCGA_CS_4941_19960909',\n",
       " 'data\\\\input\\\\Brain MRI segmentation\\\\kaggle_3m\\\\TCGA_CS_4941_19960909\\\\TCGA_CS_4941_19960909_1.tif',\n",
       " 'TCGA_CS_4941_19960909',\n",
       " 'data\\\\input\\\\Brain MRI segmentation\\\\kaggle_3m\\\\TCGA_CS_4941_19960909\\\\TCGA_CS_4941_19960909_10.tif',\n",
       " 'TCGA_CS_4941_19960909',\n",
       " 'data\\\\input\\\\Brain MRI segmentation\\\\kaggle_3m\\\\TCGA_CS_4941_19960909\\\\TCGA_CS_4941_19960909_10_mask.tif',\n",
       " 'TCGA_CS_4941_19960909',\n",
       " 'data\\\\input\\\\Brain MRI segmentation\\\\kaggle_3m\\\\TCGA_CS_4941_19960909\\\\TCGA_CS_4941_19960909_11.tif',\n",
       " 'TCGA_CS_4941_19960909',\n",
       " 'data\\\\input\\\\Brain MRI segmentation\\\\kaggle_3m\\\\TCGA_CS_4941_19960909\\\\TCGA_CS_4941_19960909_11_mask.tif',\n",
       " 'TCGA_CS_4941_19960909',\n",
       " 'data\\\\input\\\\Brain MRI segmentation\\\\kaggle_3m\\\\TCGA_CS_4941_19960909\\\\TCGA_CS_4941_19960909_12.tif',\n",
       " 'TCGA_CS_4941_19960909',\n",
       " 'data\\\\input\\\\Brain MRI segmentation\\\\kaggle_3m\\\\TCGA_CS_4941_19960909\\\\TCGA_CS_4941_19960909_12_mask.tif',\n",
       " 'TCGA_CS_4941_19960909',\n",
       " 'data\\\\input\\\\Brain MRI segmentation\\\\kaggle_3m\\\\TCGA_CS_4941_19960909\\\\TCGA_CS_4941_19960909_13.tif',\n",
       " 'TCGA_CS_4941_19960909',\n",
       " 'data\\\\input\\\\Brain MRI segmentation\\\\kaggle_3m\\\\TCGA_CS_4941_19960909\\\\TCGA_CS_4941_19960909_13_mask.tif',\n",
       " 'TCGA_CS_4941_19960909',\n",
       " 'data\\\\input\\\\Brain MRI segmentation\\\\kaggle_3m\\\\TCGA_CS_4941_19960909\\\\TCGA_CS_4941_19960909_14.tif',\n",
       " 'TCGA_CS_4941_19960909',\n",
       " 'data\\\\input\\\\Brain MRI segmentation\\\\kaggle_3m\\\\TCGA_CS_4941_19960909\\\\TCGA_CS_4941_19960909_14_mask.tif',\n",
       " 'TCGA_CS_4941_19960909',\n",
       " 'data\\\\input\\\\Brain MRI segmentation\\\\kaggle_3m\\\\TCGA_CS_4941_19960909\\\\TCGA_CS_4941_19960909_15.tif',\n",
       " 'TCGA_CS_4941_19960909',\n",
       " 'data\\\\input\\\\Brain MRI segmentation\\\\kaggle_3m\\\\TCGA_CS_4941_19960909\\\\TCGA_CS_4941_19960909_15_mask.tif',\n",
       " 'TCGA_CS_4941_19960909',\n",
       " 'data\\\\input\\\\Brain MRI segmentation\\\\kaggle_3m\\\\TCGA_CS_4941_19960909\\\\TCGA_CS_4941_19960909_16.tif',\n",
       " 'TCGA_CS_4941_19960909',\n",
       " 'data\\\\input\\\\Brain MRI segmentation\\\\kaggle_3m\\\\TCGA_CS_4941_19960909\\\\TCGA_CS_4941_19960909_16_mask.tif',\n",
       " 'TCGA_CS_4941_19960909',\n",
       " 'data\\\\input\\\\Brain MRI segmentation\\\\kaggle_3m\\\\TCGA_CS_4941_19960909\\\\TCGA_CS_4941_19960909_17.tif',\n",
       " 'TCGA_CS_4941_19960909',\n",
       " 'data\\\\input\\\\Brain MRI segmentation\\\\kaggle_3m\\\\TCGA_CS_4941_19960909\\\\TCGA_CS_4941_19960909_17_mask.tif',\n",
       " 'TCGA_CS_4941_19960909',\n",
       " 'data\\\\input\\\\Brain MRI segmentation\\\\kaggle_3m\\\\TCGA_CS_4941_19960909\\\\TCGA_CS_4941_19960909_18.tif',\n",
       " 'TCGA_CS_4941_19960909',\n",
       " 'data\\\\input\\\\Brain MRI segmentation\\\\kaggle_3m\\\\TCGA_CS_4941_19960909\\\\TCGA_CS_4941_19960909_18_mask.tif',\n",
       " 'TCGA_CS_4941_19960909',\n",
       " 'data\\\\input\\\\Brain MRI segmentation\\\\kaggle_3m\\\\TCGA_CS_4941_19960909\\\\TCGA_CS_4941_19960909_19.tif',\n",
       " 'TCGA_CS_4941_19960909',\n",
       " 'data\\\\input\\\\Brain MRI segmentation\\\\kaggle_3m\\\\TCGA_CS_4941_19960909\\\\TCGA_CS_4941_19960909_19_mask.tif',\n",
       " 'TCGA_CS_4941_19960909',\n",
       " 'data\\\\input\\\\Brain MRI segmentation\\\\kaggle_3m\\\\TCGA_CS_4941_19960909\\\\TCGA_CS_4941_19960909_1_mask.tif',\n",
       " 'TCGA_CS_4941_19960909',\n",
       " 'data\\\\input\\\\Brain MRI segmentation\\\\kaggle_3m\\\\TCGA_CS_4941_19960909\\\\TCGA_CS_4941_19960909_2.tif',\n",
       " 'TCGA_CS_4941_19960909',\n",
       " 'data\\\\input\\\\Brain MRI segmentation\\\\kaggle_3m\\\\TCGA_CS_4941_19960909\\\\TCGA_CS_4941_19960909_20.tif',\n",
       " 'TCGA_CS_4941_19960909',\n",
       " 'data\\\\input\\\\Brain MRI segmentation\\\\kaggle_3m\\\\TCGA_CS_4941_19960909\\\\TCGA_CS_4941_19960909_20_mask.tif',\n",
       " 'TCGA_CS_4941_19960909',\n",
       " 'data\\\\input\\\\Brain MRI segmentation\\\\kaggle_3m\\\\TCGA_CS_4941_19960909\\\\TCGA_CS_4941_19960909_21.tif',\n",
       " 'TCGA_CS_4941_19960909',\n",
       " 'data\\\\input\\\\Brain MRI segmentation\\\\kaggle_3m\\\\TCGA_CS_4941_19960909\\\\TCGA_CS_4941_19960909_21_mask.tif',\n",
       " 'TCGA_CS_4941_19960909',\n",
       " 'data\\\\input\\\\Brain MRI segmentation\\\\kaggle_3m\\\\TCGA_CS_4941_19960909\\\\TCGA_CS_4941_19960909_22.tif',\n",
       " 'TCGA_CS_4941_19960909',\n",
       " 'data\\\\input\\\\Brain MRI segmentation\\\\kaggle_3m\\\\TCGA_CS_4941_19960909\\\\TCGA_CS_4941_19960909_22_mask.tif',\n",
       " 'TCGA_CS_4941_19960909',\n",
       " 'data\\\\input\\\\Brain MRI segmentation\\\\kaggle_3m\\\\TCGA_CS_4941_19960909\\\\TCGA_CS_4941_19960909_23.tif',\n",
       " 'TCGA_CS_4941_19960909',\n",
       " 'data\\\\input\\\\Brain MRI segmentation\\\\kaggle_3m\\\\TCGA_CS_4941_19960909\\\\TCGA_CS_4941_19960909_23_mask.tif',\n",
       " 'TCGA_CS_4941_19960909',\n",
       " 'data\\\\input\\\\Brain MRI segmentation\\\\kaggle_3m\\\\TCGA_CS_4941_19960909\\\\TCGA_CS_4941_19960909_2_mask.tif',\n",
       " 'TCGA_CS_4941_19960909',\n",
       " 'data\\\\input\\\\Brain MRI segmentation\\\\kaggle_3m\\\\TCGA_CS_4941_19960909\\\\TCGA_CS_4941_19960909_3.tif',\n",
       " 'TCGA_CS_4941_19960909',\n",
       " 'data\\\\input\\\\Brain MRI segmentation\\\\kaggle_3m\\\\TCGA_CS_4941_19960909\\\\TCGA_CS_4941_19960909_3_mask.tif',\n",
       " 'TCGA_CS_4941_19960909',\n",
       " 'data\\\\input\\\\Brain MRI segmentation\\\\kaggle_3m\\\\TCGA_CS_4941_19960909\\\\TCGA_CS_4941_19960909_4.tif',\n",
       " 'TCGA_CS_4941_19960909',\n",
       " 'data\\\\input\\\\Brain MRI segmentation\\\\kaggle_3m\\\\TCGA_CS_4941_19960909\\\\TCGA_CS_4941_19960909_4_mask.tif',\n",
       " 'TCGA_CS_4941_19960909',\n",
       " 'data\\\\input\\\\Brain MRI segmentation\\\\kaggle_3m\\\\TCGA_CS_4941_19960909\\\\TCGA_CS_4941_19960909_5.tif',\n",
       " 'TCGA_CS_4941_19960909',\n",
       " 'data\\\\input\\\\Brain MRI segmentation\\\\kaggle_3m\\\\TCGA_CS_4941_19960909\\\\TCGA_CS_4941_19960909_5_mask.tif',\n",
       " 'TCGA_CS_4941_19960909',\n",
       " 'data\\\\input\\\\Brain MRI segmentation\\\\kaggle_3m\\\\TCGA_CS_4941_19960909\\\\TCGA_CS_4941_19960909_6.tif',\n",
       " 'TCGA_CS_4941_19960909',\n",
       " 'data\\\\input\\\\Brain MRI segmentation\\\\kaggle_3m\\\\TCGA_CS_4941_19960909\\\\TCGA_CS_4941_19960909_6_mask.tif',\n",
       " 'TCGA_CS_4941_19960909',\n",
       " 'data\\\\input\\\\Brain MRI segmentation\\\\kaggle_3m\\\\TCGA_CS_4941_19960909\\\\TCGA_CS_4941_19960909_7.tif',\n",
       " 'TCGA_CS_4941_19960909',\n",
       " 'data\\\\input\\\\Brain MRI segmentation\\\\kaggle_3m\\\\TCGA_CS_4941_19960909\\\\TCGA_CS_4941_19960909_7_mask.tif',\n",
       " 'TCGA_CS_4941_19960909',\n",
       " 'data\\\\input\\\\Brain MRI segmentation\\\\kaggle_3m\\\\TCGA_CS_4941_19960909\\\\TCGA_CS_4941_19960909_8.tif',\n",
       " 'TCGA_CS_4941_19960909',\n",
       " 'data\\\\input\\\\Brain MRI segmentation\\\\kaggle_3m\\\\TCGA_CS_4941_19960909\\\\TCGA_CS_4941_19960909_8_mask.tif',\n",
       " 'TCGA_CS_4941_19960909',\n",
       " 'data\\\\input\\\\Brain MRI segmentation\\\\kaggle_3m\\\\TCGA_CS_4941_19960909\\\\TCGA_CS_4941_19960909_9.tif',\n",
       " 'TCGA_CS_4941_19960909',\n",
       " 'data\\\\input\\\\Brain MRI segmentation\\\\kaggle_3m\\\\TCGA_CS_4941_19960909\\\\TCGA_CS_4941_19960909_9_mask.tif',\n",
       " 'TCGA_CS_4942_19970222',\n",
       " 'data\\\\input\\\\Brain MRI segmentation\\\\kaggle_3m\\\\TCGA_CS_4942_19970222\\\\TCGA_CS_4942_19970222_1.tif',\n",
       " 'TCGA_CS_4942_19970222',\n",
       " 'data\\\\input\\\\Brain MRI segmentation\\\\kaggle_3m\\\\TCGA_CS_4942_19970222\\\\TCGA_CS_4942_19970222_10.tif',\n",
       " 'TCGA_CS_4942_19970222',\n",
       " 'data\\\\input\\\\Brain MRI segmentation\\\\kaggle_3m\\\\TCGA_CS_4942_19970222\\\\TCGA_CS_4942_19970222_10_mask.tif',\n",
       " 'TCGA_CS_4942_19970222',\n",
       " 'data\\\\input\\\\Brain MRI segmentation\\\\kaggle_3m\\\\TCGA_CS_4942_19970222\\\\TCGA_CS_4942_19970222_11.tif',\n",
       " 'TCGA_CS_4942_19970222',\n",
       " 'data\\\\input\\\\Brain MRI segmentation\\\\kaggle_3m\\\\TCGA_CS_4942_19970222\\\\TCGA_CS_4942_19970222_11_mask.tif',\n",
       " 'TCGA_CS_4942_19970222',\n",
       " 'data\\\\input\\\\Brain MRI segmentation\\\\kaggle_3m\\\\TCGA_CS_4942_19970222\\\\TCGA_CS_4942_19970222_12.tif',\n",
       " 'TCGA_CS_4942_19970222',\n",
       " 'data\\\\input\\\\Brain MRI segmentation\\\\kaggle_3m\\\\TCGA_CS_4942_19970222\\\\TCGA_CS_4942_19970222_12_mask.tif',\n",
       " 'TCGA_CS_4942_19970222',\n",
       " 'data\\\\input\\\\Brain MRI segmentation\\\\kaggle_3m\\\\TCGA_CS_4942_19970222\\\\TCGA_CS_4942_19970222_13.tif',\n",
       " 'TCGA_CS_4942_19970222',\n",
       " 'data\\\\input\\\\Brain MRI segmentation\\\\kaggle_3m\\\\TCGA_CS_4942_19970222\\\\TCGA_CS_4942_19970222_13_mask.tif',\n",
       " 'TCGA_CS_4942_19970222',\n",
       " 'data\\\\input\\\\Brain MRI segmentation\\\\kaggle_3m\\\\TCGA_CS_4942_19970222\\\\TCGA_CS_4942_19970222_14.tif',\n",
       " 'TCGA_CS_4942_19970222',\n",
       " 'data\\\\input\\\\Brain MRI segmentation\\\\kaggle_3m\\\\TCGA_CS_4942_19970222\\\\TCGA_CS_4942_19970222_14_mask.tif',\n",
       " 'TCGA_CS_4942_19970222',\n",
       " 'data\\\\input\\\\Brain MRI segmentation\\\\kaggle_3m\\\\TCGA_CS_4942_19970222\\\\TCGA_CS_4942_19970222_15.tif',\n",
       " 'TCGA_CS_4942_19970222',\n",
       " 'data\\\\input\\\\Brain MRI segmentation\\\\kaggle_3m\\\\TCGA_CS_4942_19970222\\\\TCGA_CS_4942_19970222_15_mask.tif',\n",
       " 'TCGA_CS_4942_19970222',\n",
       " 'data\\\\input\\\\Brain MRI segmentation\\\\kaggle_3m\\\\TCGA_CS_4942_19970222\\\\TCGA_CS_4942_19970222_16.tif',\n",
       " 'TCGA_CS_4942_19970222',\n",
       " 'data\\\\input\\\\Brain MRI segmentation\\\\kaggle_3m\\\\TCGA_CS_4942_19970222\\\\TCGA_CS_4942_19970222_16_mask.tif',\n",
       " 'TCGA_CS_4942_19970222',\n",
       " 'data\\\\input\\\\Brain MRI segmentation\\\\kaggle_3m\\\\TCGA_CS_4942_19970222\\\\TCGA_CS_4942_19970222_17.tif',\n",
       " 'TCGA_CS_4942_19970222',\n",
       " 'data\\\\input\\\\Brain MRI segmentation\\\\kaggle_3m\\\\TCGA_CS_4942_19970222\\\\TCGA_CS_4942_19970222_17_mask.tif',\n",
       " 'TCGA_CS_4942_19970222',\n",
       " 'data\\\\input\\\\Brain MRI segmentation\\\\kaggle_3m\\\\TCGA_CS_4942_19970222\\\\TCGA_CS_4942_19970222_18.tif',\n",
       " 'TCGA_CS_4942_19970222',\n",
       " 'data\\\\input\\\\Brain MRI segmentation\\\\kaggle_3m\\\\TCGA_CS_4942_19970222\\\\TCGA_CS_4942_19970222_18_mask.tif',\n",
       " 'TCGA_CS_4942_19970222',\n",
       " 'data\\\\input\\\\Brain MRI segmentation\\\\kaggle_3m\\\\TCGA_CS_4942_19970222\\\\TCGA_CS_4942_19970222_19.tif',\n",
       " 'TCGA_CS_4942_19970222',\n",
       " 'data\\\\input\\\\Brain MRI segmentation\\\\kaggle_3m\\\\TCGA_CS_4942_19970222\\\\TCGA_CS_4942_19970222_19_mask.tif',\n",
       " 'TCGA_CS_4942_19970222',\n",
       " 'data\\\\input\\\\Brain MRI segmentation\\\\kaggle_3m\\\\TCGA_CS_4942_19970222\\\\TCGA_CS_4942_19970222_1_mask.tif',\n",
       " 'TCGA_CS_4942_19970222',\n",
       " 'data\\\\input\\\\Brain MRI segmentation\\\\kaggle_3m\\\\TCGA_CS_4942_19970222\\\\TCGA_CS_4942_19970222_2.tif',\n",
       " 'TCGA_CS_4942_19970222',\n",
       " 'data\\\\input\\\\Brain MRI segmentation\\\\kaggle_3m\\\\TCGA_CS_4942_19970222\\\\TCGA_CS_4942_19970222_20.tif',\n",
       " 'TCGA_CS_4942_19970222',\n",
       " 'data\\\\input\\\\Brain MRI segmentation\\\\kaggle_3m\\\\TCGA_CS_4942_19970222\\\\TCGA_CS_4942_19970222_20_mask.tif',\n",
       " 'TCGA_CS_4942_19970222',\n",
       " 'data\\\\input\\\\Brain MRI segmentation\\\\kaggle_3m\\\\TCGA_CS_4942_19970222\\\\TCGA_CS_4942_19970222_2_mask.tif',\n",
       " 'TCGA_CS_4942_19970222',\n",
       " 'data\\\\input\\\\Brain MRI segmentation\\\\kaggle_3m\\\\TCGA_CS_4942_19970222\\\\TCGA_CS_4942_19970222_3.tif',\n",
       " 'TCGA_CS_4942_19970222',\n",
       " 'data\\\\input\\\\Brain MRI segmentation\\\\kaggle_3m\\\\TCGA_CS_4942_19970222\\\\TCGA_CS_4942_19970222_3_mask.tif',\n",
       " 'TCGA_CS_4942_19970222',\n",
       " 'data\\\\input\\\\Brain MRI segmentation\\\\kaggle_3m\\\\TCGA_CS_4942_19970222\\\\TCGA_CS_4942_19970222_4.tif',\n",
       " 'TCGA_CS_4942_19970222',\n",
       " 'data\\\\input\\\\Brain MRI segmentation\\\\kaggle_3m\\\\TCGA_CS_4942_19970222\\\\TCGA_CS_4942_19970222_4_mask.tif',\n",
       " 'TCGA_CS_4942_19970222',\n",
       " 'data\\\\input\\\\Brain MRI segmentation\\\\kaggle_3m\\\\TCGA_CS_4942_19970222\\\\TCGA_CS_4942_19970222_5.tif',\n",
       " 'TCGA_CS_4942_19970222',\n",
       " 'data\\\\input\\\\Brain MRI segmentation\\\\kaggle_3m\\\\TCGA_CS_4942_19970222\\\\TCGA_CS_4942_19970222_5_mask.tif',\n",
       " 'TCGA_CS_4942_19970222',\n",
       " 'data\\\\input\\\\Brain MRI segmentation\\\\kaggle_3m\\\\TCGA_CS_4942_19970222\\\\TCGA_CS_4942_19970222_6.tif',\n",
       " 'TCGA_CS_4942_19970222',\n",
       " 'data\\\\input\\\\Brain MRI segmentation\\\\kaggle_3m\\\\TCGA_CS_4942_19970222\\\\TCGA_CS_4942_19970222_6_mask.tif',\n",
       " 'TCGA_CS_4942_19970222',\n",
       " 'data\\\\input\\\\Brain MRI segmentation\\\\kaggle_3m\\\\TCGA_CS_4942_19970222\\\\TCGA_CS_4942_19970222_7.tif',\n",
       " 'TCGA_CS_4942_19970222',\n",
       " 'data\\\\input\\\\Brain MRI segmentation\\\\kaggle_3m\\\\TCGA_CS_4942_19970222\\\\TCGA_CS_4942_19970222_7_mask.tif',\n",
       " 'TCGA_CS_4942_19970222',\n",
       " 'data\\\\input\\\\Brain MRI segmentation\\\\kaggle_3m\\\\TCGA_CS_4942_19970222\\\\TCGA_CS_4942_19970222_8.tif',\n",
       " 'TCGA_CS_4942_19970222',\n",
       " 'data\\\\input\\\\Brain MRI segmentation\\\\kaggle_3m\\\\TCGA_CS_4942_19970222\\\\TCGA_CS_4942_19970222_8_mask.tif',\n",
       " 'TCGA_CS_4942_19970222',\n",
       " 'data\\\\input\\\\Brain MRI segmentation\\\\kaggle_3m\\\\TCGA_CS_4942_19970222\\\\TCGA_CS_4942_19970222_9.tif',\n",
       " 'TCGA_CS_4942_19970222',\n",
       " 'data\\\\input\\\\Brain MRI segmentation\\\\kaggle_3m\\\\TCGA_CS_4942_19970222\\\\TCGA_CS_4942_19970222_9_mask.tif',\n",
       " 'TCGA_CS_4943_20000902',\n",
       " 'data\\\\input\\\\Brain MRI segmentation\\\\kaggle_3m\\\\TCGA_CS_4943_20000902\\\\TCGA_CS_4943_20000902_1.tif',\n",
       " 'TCGA_CS_4943_20000902',\n",
       " 'data\\\\input\\\\Brain MRI segmentation\\\\kaggle_3m\\\\TCGA_CS_4943_20000902\\\\TCGA_CS_4943_20000902_10.tif',\n",
       " 'TCGA_CS_4943_20000902',\n",
       " 'data\\\\input\\\\Brain MRI segmentation\\\\kaggle_3m\\\\TCGA_CS_4943_20000902\\\\TCGA_CS_4943_20000902_10_mask.tif',\n",
       " 'TCGA_CS_4943_20000902',\n",
       " 'data\\\\input\\\\Brain MRI segmentation\\\\kaggle_3m\\\\TCGA_CS_4943_20000902\\\\TCGA_CS_4943_20000902_11.tif',\n",
       " 'TCGA_CS_4943_20000902',\n",
       " 'data\\\\input\\\\Brain MRI segmentation\\\\kaggle_3m\\\\TCGA_CS_4943_20000902\\\\TCGA_CS_4943_20000902_11_mask.tif',\n",
       " 'TCGA_CS_4943_20000902',\n",
       " 'data\\\\input\\\\Brain MRI segmentation\\\\kaggle_3m\\\\TCGA_CS_4943_20000902\\\\TCGA_CS_4943_20000902_12.tif',\n",
       " 'TCGA_CS_4943_20000902',\n",
       " 'data\\\\input\\\\Brain MRI segmentation\\\\kaggle_3m\\\\TCGA_CS_4943_20000902\\\\TCGA_CS_4943_20000902_12_mask.tif',\n",
       " 'TCGA_CS_4943_20000902',\n",
       " 'data\\\\input\\\\Brain MRI segmentation\\\\kaggle_3m\\\\TCGA_CS_4943_20000902\\\\TCGA_CS_4943_20000902_13.tif',\n",
       " 'TCGA_CS_4943_20000902',\n",
       " 'data\\\\input\\\\Brain MRI segmentation\\\\kaggle_3m\\\\TCGA_CS_4943_20000902\\\\TCGA_CS_4943_20000902_13_mask.tif',\n",
       " 'TCGA_CS_4943_20000902',\n",
       " 'data\\\\input\\\\Brain MRI segmentation\\\\kaggle_3m\\\\TCGA_CS_4943_20000902\\\\TCGA_CS_4943_20000902_14.tif',\n",
       " 'TCGA_CS_4943_20000902',\n",
       " 'data\\\\input\\\\Brain MRI segmentation\\\\kaggle_3m\\\\TCGA_CS_4943_20000902\\\\TCGA_CS_4943_20000902_14_mask.tif',\n",
       " 'TCGA_CS_4943_20000902',\n",
       " 'data\\\\input\\\\Brain MRI segmentation\\\\kaggle_3m\\\\TCGA_CS_4943_20000902\\\\TCGA_CS_4943_20000902_15.tif',\n",
       " 'TCGA_CS_4943_20000902',\n",
       " 'data\\\\input\\\\Brain MRI segmentation\\\\kaggle_3m\\\\TCGA_CS_4943_20000902\\\\TCGA_CS_4943_20000902_15_mask.tif',\n",
       " 'TCGA_CS_4943_20000902',\n",
       " 'data\\\\input\\\\Brain MRI segmentation\\\\kaggle_3m\\\\TCGA_CS_4943_20000902\\\\TCGA_CS_4943_20000902_16.tif',\n",
       " 'TCGA_CS_4943_20000902',\n",
       " 'data\\\\input\\\\Brain MRI segmentation\\\\kaggle_3m\\\\TCGA_CS_4943_20000902\\\\TCGA_CS_4943_20000902_16_mask.tif',\n",
       " 'TCGA_CS_4943_20000902',\n",
       " 'data\\\\input\\\\Brain MRI segmentation\\\\kaggle_3m\\\\TCGA_CS_4943_20000902\\\\TCGA_CS_4943_20000902_17.tif',\n",
       " 'TCGA_CS_4943_20000902',\n",
       " 'data\\\\input\\\\Brain MRI segmentation\\\\kaggle_3m\\\\TCGA_CS_4943_20000902\\\\TCGA_CS_4943_20000902_17_mask.tif',\n",
       " 'TCGA_CS_4943_20000902',\n",
       " 'data\\\\input\\\\Brain MRI segmentation\\\\kaggle_3m\\\\TCGA_CS_4943_20000902\\\\TCGA_CS_4943_20000902_18.tif',\n",
       " 'TCGA_CS_4943_20000902',\n",
       " 'data\\\\input\\\\Brain MRI segmentation\\\\kaggle_3m\\\\TCGA_CS_4943_20000902\\\\TCGA_CS_4943_20000902_18_mask.tif',\n",
       " 'TCGA_CS_4943_20000902',\n",
       " 'data\\\\input\\\\Brain MRI segmentation\\\\kaggle_3m\\\\TCGA_CS_4943_20000902\\\\TCGA_CS_4943_20000902_19.tif',\n",
       " 'TCGA_CS_4943_20000902',\n",
       " 'data\\\\input\\\\Brain MRI segmentation\\\\kaggle_3m\\\\TCGA_CS_4943_20000902\\\\TCGA_CS_4943_20000902_19_mask.tif',\n",
       " 'TCGA_CS_4943_20000902',\n",
       " 'data\\\\input\\\\Brain MRI segmentation\\\\kaggle_3m\\\\TCGA_CS_4943_20000902\\\\TCGA_CS_4943_20000902_1_mask.tif',\n",
       " 'TCGA_CS_4943_20000902',\n",
       " 'data\\\\input\\\\Brain MRI segmentation\\\\kaggle_3m\\\\TCGA_CS_4943_20000902\\\\TCGA_CS_4943_20000902_2.tif',\n",
       " 'TCGA_CS_4943_20000902',\n",
       " 'data\\\\input\\\\Brain MRI segmentation\\\\kaggle_3m\\\\TCGA_CS_4943_20000902\\\\TCGA_CS_4943_20000902_20.tif',\n",
       " 'TCGA_CS_4943_20000902',\n",
       " 'data\\\\input\\\\Brain MRI segmentation\\\\kaggle_3m\\\\TCGA_CS_4943_20000902\\\\TCGA_CS_4943_20000902_20_mask.tif',\n",
       " 'TCGA_CS_4943_20000902',\n",
       " 'data\\\\input\\\\Brain MRI segmentation\\\\kaggle_3m\\\\TCGA_CS_4943_20000902\\\\TCGA_CS_4943_20000902_2_mask.tif',\n",
       " 'TCGA_CS_4943_20000902',\n",
       " 'data\\\\input\\\\Brain MRI segmentation\\\\kaggle_3m\\\\TCGA_CS_4943_20000902\\\\TCGA_CS_4943_20000902_3.tif',\n",
       " 'TCGA_CS_4943_20000902',\n",
       " 'data\\\\input\\\\Brain MRI segmentation\\\\kaggle_3m\\\\TCGA_CS_4943_20000902\\\\TCGA_CS_4943_20000902_3_mask.tif',\n",
       " 'TCGA_CS_4943_20000902',\n",
       " 'data\\\\input\\\\Brain MRI segmentation\\\\kaggle_3m\\\\TCGA_CS_4943_20000902\\\\TCGA_CS_4943_20000902_4.tif',\n",
       " 'TCGA_CS_4943_20000902',\n",
       " 'data\\\\input\\\\Brain MRI segmentation\\\\kaggle_3m\\\\TCGA_CS_4943_20000902\\\\TCGA_CS_4943_20000902_4_mask.tif',\n",
       " 'TCGA_CS_4943_20000902',\n",
       " 'data\\\\input\\\\Brain MRI segmentation\\\\kaggle_3m\\\\TCGA_CS_4943_20000902\\\\TCGA_CS_4943_20000902_5.tif',\n",
       " 'TCGA_CS_4943_20000902',\n",
       " 'data\\\\input\\\\Brain MRI segmentation\\\\kaggle_3m\\\\TCGA_CS_4943_20000902\\\\TCGA_CS_4943_20000902_5_mask.tif',\n",
       " 'TCGA_CS_4943_20000902',\n",
       " 'data\\\\input\\\\Brain MRI segmentation\\\\kaggle_3m\\\\TCGA_CS_4943_20000902\\\\TCGA_CS_4943_20000902_6.tif',\n",
       " 'TCGA_CS_4943_20000902',\n",
       " 'data\\\\input\\\\Brain MRI segmentation\\\\kaggle_3m\\\\TCGA_CS_4943_20000902\\\\TCGA_CS_4943_20000902_6_mask.tif',\n",
       " 'TCGA_CS_4943_20000902',\n",
       " 'data\\\\input\\\\Brain MRI segmentation\\\\kaggle_3m\\\\TCGA_CS_4943_20000902\\\\TCGA_CS_4943_20000902_7.tif',\n",
       " 'TCGA_CS_4943_20000902',\n",
       " 'data\\\\input\\\\Brain MRI segmentation\\\\kaggle_3m\\\\TCGA_CS_4943_20000902\\\\TCGA_CS_4943_20000902_7_mask.tif',\n",
       " 'TCGA_CS_4943_20000902',\n",
       " 'data\\\\input\\\\Brain MRI segmentation\\\\kaggle_3m\\\\TCGA_CS_4943_20000902\\\\TCGA_CS_4943_20000902_8.tif',\n",
       " 'TCGA_CS_4943_20000902',\n",
       " 'data\\\\input\\\\Brain MRI segmentation\\\\kaggle_3m\\\\TCGA_CS_4943_20000902\\\\TCGA_CS_4943_20000902_8_mask.tif',\n",
       " 'TCGA_CS_4943_20000902',\n",
       " 'data\\\\input\\\\Brain MRI segmentation\\\\kaggle_3m\\\\TCGA_CS_4943_20000902\\\\TCGA_CS_4943_20000902_9.tif',\n",
       " 'TCGA_CS_4943_20000902',\n",
       " 'data\\\\input\\\\Brain MRI segmentation\\\\kaggle_3m\\\\TCGA_CS_4943_20000902\\\\TCGA_CS_4943_20000902_9_mask.tif',\n",
       " 'TCGA_CS_4944_20010208',\n",
       " 'data\\\\input\\\\Brain MRI segmentation\\\\kaggle_3m\\\\TCGA_CS_4944_20010208\\\\TCGA_CS_4944_20010208_1.tif',\n",
       " 'TCGA_CS_4944_20010208',\n",
       " 'data\\\\input\\\\Brain MRI segmentation\\\\kaggle_3m\\\\TCGA_CS_4944_20010208\\\\TCGA_CS_4944_20010208_10.tif',\n",
       " 'TCGA_CS_4944_20010208',\n",
       " 'data\\\\input\\\\Brain MRI segmentation\\\\kaggle_3m\\\\TCGA_CS_4944_20010208\\\\TCGA_CS_4944_20010208_10_mask.tif',\n",
       " 'TCGA_CS_4944_20010208',\n",
       " 'data\\\\input\\\\Brain MRI segmentation\\\\kaggle_3m\\\\TCGA_CS_4944_20010208\\\\TCGA_CS_4944_20010208_11.tif',\n",
       " 'TCGA_CS_4944_20010208',\n",
       " 'data\\\\input\\\\Brain MRI segmentation\\\\kaggle_3m\\\\TCGA_CS_4944_20010208\\\\TCGA_CS_4944_20010208_11_mask.tif',\n",
       " 'TCGA_CS_4944_20010208',\n",
       " 'data\\\\input\\\\Brain MRI segmentation\\\\kaggle_3m\\\\TCGA_CS_4944_20010208\\\\TCGA_CS_4944_20010208_12.tif',\n",
       " 'TCGA_CS_4944_20010208',\n",
       " 'data\\\\input\\\\Brain MRI segmentation\\\\kaggle_3m\\\\TCGA_CS_4944_20010208\\\\TCGA_CS_4944_20010208_12_mask.tif',\n",
       " 'TCGA_CS_4944_20010208',\n",
       " 'data\\\\input\\\\Brain MRI segmentation\\\\kaggle_3m\\\\TCGA_CS_4944_20010208\\\\TCGA_CS_4944_20010208_13.tif',\n",
       " 'TCGA_CS_4944_20010208',\n",
       " 'data\\\\input\\\\Brain MRI segmentation\\\\kaggle_3m\\\\TCGA_CS_4944_20010208\\\\TCGA_CS_4944_20010208_13_mask.tif',\n",
       " 'TCGA_CS_4944_20010208',\n",
       " 'data\\\\input\\\\Brain MRI segmentation\\\\kaggle_3m\\\\TCGA_CS_4944_20010208\\\\TCGA_CS_4944_20010208_14.tif',\n",
       " 'TCGA_CS_4944_20010208',\n",
       " 'data\\\\input\\\\Brain MRI segmentation\\\\kaggle_3m\\\\TCGA_CS_4944_20010208\\\\TCGA_CS_4944_20010208_14_mask.tif',\n",
       " 'TCGA_CS_4944_20010208',\n",
       " 'data\\\\input\\\\Brain MRI segmentation\\\\kaggle_3m\\\\TCGA_CS_4944_20010208\\\\TCGA_CS_4944_20010208_15.tif',\n",
       " 'TCGA_CS_4944_20010208',\n",
       " 'data\\\\input\\\\Brain MRI segmentation\\\\kaggle_3m\\\\TCGA_CS_4944_20010208\\\\TCGA_CS_4944_20010208_15_mask.tif',\n",
       " 'TCGA_CS_4944_20010208',\n",
       " 'data\\\\input\\\\Brain MRI segmentation\\\\kaggle_3m\\\\TCGA_CS_4944_20010208\\\\TCGA_CS_4944_20010208_16.tif',\n",
       " 'TCGA_CS_4944_20010208',\n",
       " 'data\\\\input\\\\Brain MRI segmentation\\\\kaggle_3m\\\\TCGA_CS_4944_20010208\\\\TCGA_CS_4944_20010208_16_mask.tif',\n",
       " 'TCGA_CS_4944_20010208',\n",
       " 'data\\\\input\\\\Brain MRI segmentation\\\\kaggle_3m\\\\TCGA_CS_4944_20010208\\\\TCGA_CS_4944_20010208_17.tif',\n",
       " 'TCGA_CS_4944_20010208',\n",
       " 'data\\\\input\\\\Brain MRI segmentation\\\\kaggle_3m\\\\TCGA_CS_4944_20010208\\\\TCGA_CS_4944_20010208_17_mask.tif',\n",
       " 'TCGA_CS_4944_20010208',\n",
       " 'data\\\\input\\\\Brain MRI segmentation\\\\kaggle_3m\\\\TCGA_CS_4944_20010208\\\\TCGA_CS_4944_20010208_18.tif',\n",
       " 'TCGA_CS_4944_20010208',\n",
       " 'data\\\\input\\\\Brain MRI segmentation\\\\kaggle_3m\\\\TCGA_CS_4944_20010208\\\\TCGA_CS_4944_20010208_18_mask.tif',\n",
       " 'TCGA_CS_4944_20010208',\n",
       " 'data\\\\input\\\\Brain MRI segmentation\\\\kaggle_3m\\\\TCGA_CS_4944_20010208\\\\TCGA_CS_4944_20010208_19.tif',\n",
       " 'TCGA_CS_4944_20010208',\n",
       " 'data\\\\input\\\\Brain MRI segmentation\\\\kaggle_3m\\\\TCGA_CS_4944_20010208\\\\TCGA_CS_4944_20010208_19_mask.tif',\n",
       " 'TCGA_CS_4944_20010208',\n",
       " 'data\\\\input\\\\Brain MRI segmentation\\\\kaggle_3m\\\\TCGA_CS_4944_20010208\\\\TCGA_CS_4944_20010208_1_mask.tif',\n",
       " 'TCGA_CS_4944_20010208',\n",
       " 'data\\\\input\\\\Brain MRI segmentation\\\\kaggle_3m\\\\TCGA_CS_4944_20010208\\\\TCGA_CS_4944_20010208_2.tif',\n",
       " 'TCGA_CS_4944_20010208',\n",
       " 'data\\\\input\\\\Brain MRI segmentation\\\\kaggle_3m\\\\TCGA_CS_4944_20010208\\\\TCGA_CS_4944_20010208_20.tif',\n",
       " 'TCGA_CS_4944_20010208',\n",
       " 'data\\\\input\\\\Brain MRI segmentation\\\\kaggle_3m\\\\TCGA_CS_4944_20010208\\\\TCGA_CS_4944_20010208_20_mask.tif',\n",
       " 'TCGA_CS_4944_20010208',\n",
       " 'data\\\\input\\\\Brain MRI segmentation\\\\kaggle_3m\\\\TCGA_CS_4944_20010208\\\\TCGA_CS_4944_20010208_2_mask.tif',\n",
       " 'TCGA_CS_4944_20010208',\n",
       " 'data\\\\input\\\\Brain MRI segmentation\\\\kaggle_3m\\\\TCGA_CS_4944_20010208\\\\TCGA_CS_4944_20010208_3.tif',\n",
       " 'TCGA_CS_4944_20010208',\n",
       " 'data\\\\input\\\\Brain MRI segmentation\\\\kaggle_3m\\\\TCGA_CS_4944_20010208\\\\TCGA_CS_4944_20010208_3_mask.tif',\n",
       " 'TCGA_CS_4944_20010208',\n",
       " 'data\\\\input\\\\Brain MRI segmentation\\\\kaggle_3m\\\\TCGA_CS_4944_20010208\\\\TCGA_CS_4944_20010208_4.tif',\n",
       " 'TCGA_CS_4944_20010208',\n",
       " 'data\\\\input\\\\Brain MRI segmentation\\\\kaggle_3m\\\\TCGA_CS_4944_20010208\\\\TCGA_CS_4944_20010208_4_mask.tif',\n",
       " 'TCGA_CS_4944_20010208',\n",
       " 'data\\\\input\\\\Brain MRI segmentation\\\\kaggle_3m\\\\TCGA_CS_4944_20010208\\\\TCGA_CS_4944_20010208_5.tif',\n",
       " 'TCGA_CS_4944_20010208',\n",
       " 'data\\\\input\\\\Brain MRI segmentation\\\\kaggle_3m\\\\TCGA_CS_4944_20010208\\\\TCGA_CS_4944_20010208_5_mask.tif',\n",
       " 'TCGA_CS_4944_20010208',\n",
       " 'data\\\\input\\\\Brain MRI segmentation\\\\kaggle_3m\\\\TCGA_CS_4944_20010208\\\\TCGA_CS_4944_20010208_6.tif',\n",
       " 'TCGA_CS_4944_20010208',\n",
       " 'data\\\\input\\\\Brain MRI segmentation\\\\kaggle_3m\\\\TCGA_CS_4944_20010208\\\\TCGA_CS_4944_20010208_6_mask.tif',\n",
       " 'TCGA_CS_4944_20010208',\n",
       " 'data\\\\input\\\\Brain MRI segmentation\\\\kaggle_3m\\\\TCGA_CS_4944_20010208\\\\TCGA_CS_4944_20010208_7.tif',\n",
       " 'TCGA_CS_4944_20010208',\n",
       " 'data\\\\input\\\\Brain MRI segmentation\\\\kaggle_3m\\\\TCGA_CS_4944_20010208\\\\TCGA_CS_4944_20010208_7_mask.tif',\n",
       " 'TCGA_CS_4944_20010208',\n",
       " 'data\\\\input\\\\Brain MRI segmentation\\\\kaggle_3m\\\\TCGA_CS_4944_20010208\\\\TCGA_CS_4944_20010208_8.tif',\n",
       " 'TCGA_CS_4944_20010208',\n",
       " 'data\\\\input\\\\Brain MRI segmentation\\\\kaggle_3m\\\\TCGA_CS_4944_20010208\\\\TCGA_CS_4944_20010208_8_mask.tif',\n",
       " 'TCGA_CS_4944_20010208',\n",
       " 'data\\\\input\\\\Brain MRI segmentation\\\\kaggle_3m\\\\TCGA_CS_4944_20010208\\\\TCGA_CS_4944_20010208_9.tif',\n",
       " 'TCGA_CS_4944_20010208',\n",
       " 'data\\\\input\\\\Brain MRI segmentation\\\\kaggle_3m\\\\TCGA_CS_4944_20010208\\\\TCGA_CS_4944_20010208_9_mask.tif',\n",
       " 'TCGA_CS_5393_19990606',\n",
       " 'data\\\\input\\\\Brain MRI segmentation\\\\kaggle_3m\\\\TCGA_CS_5393_19990606\\\\TCGA_CS_5393_19990606_1.tif',\n",
       " 'TCGA_CS_5393_19990606',\n",
       " 'data\\\\input\\\\Brain MRI segmentation\\\\kaggle_3m\\\\TCGA_CS_5393_19990606\\\\TCGA_CS_5393_19990606_10.tif',\n",
       " 'TCGA_CS_5393_19990606',\n",
       " 'data\\\\input\\\\Brain MRI segmentation\\\\kaggle_3m\\\\TCGA_CS_5393_19990606\\\\TCGA_CS_5393_19990606_10_mask.tif',\n",
       " 'TCGA_CS_5393_19990606',\n",
       " 'data\\\\input\\\\Brain MRI segmentation\\\\kaggle_3m\\\\TCGA_CS_5393_19990606\\\\TCGA_CS_5393_19990606_11.tif',\n",
       " 'TCGA_CS_5393_19990606',\n",
       " 'data\\\\input\\\\Brain MRI segmentation\\\\kaggle_3m\\\\TCGA_CS_5393_19990606\\\\TCGA_CS_5393_19990606_11_mask.tif',\n",
       " 'TCGA_CS_5393_19990606',\n",
       " 'data\\\\input\\\\Brain MRI segmentation\\\\kaggle_3m\\\\TCGA_CS_5393_19990606\\\\TCGA_CS_5393_19990606_12.tif',\n",
       " 'TCGA_CS_5393_19990606',\n",
       " 'data\\\\input\\\\Brain MRI segmentation\\\\kaggle_3m\\\\TCGA_CS_5393_19990606\\\\TCGA_CS_5393_19990606_12_mask.tif',\n",
       " 'TCGA_CS_5393_19990606',\n",
       " 'data\\\\input\\\\Brain MRI segmentation\\\\kaggle_3m\\\\TCGA_CS_5393_19990606\\\\TCGA_CS_5393_19990606_13.tif',\n",
       " 'TCGA_CS_5393_19990606',\n",
       " 'data\\\\input\\\\Brain MRI segmentation\\\\kaggle_3m\\\\TCGA_CS_5393_19990606\\\\TCGA_CS_5393_19990606_13_mask.tif',\n",
       " 'TCGA_CS_5393_19990606',\n",
       " 'data\\\\input\\\\Brain MRI segmentation\\\\kaggle_3m\\\\TCGA_CS_5393_19990606\\\\TCGA_CS_5393_19990606_14.tif',\n",
       " 'TCGA_CS_5393_19990606',\n",
       " 'data\\\\input\\\\Brain MRI segmentation\\\\kaggle_3m\\\\TCGA_CS_5393_19990606\\\\TCGA_CS_5393_19990606_14_mask.tif',\n",
       " 'TCGA_CS_5393_19990606',\n",
       " 'data\\\\input\\\\Brain MRI segmentation\\\\kaggle_3m\\\\TCGA_CS_5393_19990606\\\\TCGA_CS_5393_19990606_15.tif',\n",
       " 'TCGA_CS_5393_19990606',\n",
       " 'data\\\\input\\\\Brain MRI segmentation\\\\kaggle_3m\\\\TCGA_CS_5393_19990606\\\\TCGA_CS_5393_19990606_15_mask.tif',\n",
       " 'TCGA_CS_5393_19990606',\n",
       " 'data\\\\input\\\\Brain MRI segmentation\\\\kaggle_3m\\\\TCGA_CS_5393_19990606\\\\TCGA_CS_5393_19990606_16.tif',\n",
       " 'TCGA_CS_5393_19990606',\n",
       " 'data\\\\input\\\\Brain MRI segmentation\\\\kaggle_3m\\\\TCGA_CS_5393_19990606\\\\TCGA_CS_5393_19990606_16_mask.tif',\n",
       " 'TCGA_CS_5393_19990606',\n",
       " 'data\\\\input\\\\Brain MRI segmentation\\\\kaggle_3m\\\\TCGA_CS_5393_19990606\\\\TCGA_CS_5393_19990606_17.tif',\n",
       " 'TCGA_CS_5393_19990606',\n",
       " 'data\\\\input\\\\Brain MRI segmentation\\\\kaggle_3m\\\\TCGA_CS_5393_19990606\\\\TCGA_CS_5393_19990606_17_mask.tif',\n",
       " 'TCGA_CS_5393_19990606',\n",
       " 'data\\\\input\\\\Brain MRI segmentation\\\\kaggle_3m\\\\TCGA_CS_5393_19990606\\\\TCGA_CS_5393_19990606_18.tif',\n",
       " 'TCGA_CS_5393_19990606',\n",
       " 'data\\\\input\\\\Brain MRI segmentation\\\\kaggle_3m\\\\TCGA_CS_5393_19990606\\\\TCGA_CS_5393_19990606_18_mask.tif',\n",
       " 'TCGA_CS_5393_19990606',\n",
       " 'data\\\\input\\\\Brain MRI segmentation\\\\kaggle_3m\\\\TCGA_CS_5393_19990606\\\\TCGA_CS_5393_19990606_19.tif',\n",
       " 'TCGA_CS_5393_19990606',\n",
       " 'data\\\\input\\\\Brain MRI segmentation\\\\kaggle_3m\\\\TCGA_CS_5393_19990606\\\\TCGA_CS_5393_19990606_19_mask.tif',\n",
       " 'TCGA_CS_5393_19990606',\n",
       " 'data\\\\input\\\\Brain MRI segmentation\\\\kaggle_3m\\\\TCGA_CS_5393_19990606\\\\TCGA_CS_5393_19990606_1_mask.tif',\n",
       " 'TCGA_CS_5393_19990606',\n",
       " 'data\\\\input\\\\Brain MRI segmentation\\\\kaggle_3m\\\\TCGA_CS_5393_19990606\\\\TCGA_CS_5393_19990606_2.tif',\n",
       " 'TCGA_CS_5393_19990606',\n",
       " 'data\\\\input\\\\Brain MRI segmentation\\\\kaggle_3m\\\\TCGA_CS_5393_19990606\\\\TCGA_CS_5393_19990606_20.tif',\n",
       " 'TCGA_CS_5393_19990606',\n",
       " 'data\\\\input\\\\Brain MRI segmentation\\\\kaggle_3m\\\\TCGA_CS_5393_19990606\\\\TCGA_CS_5393_19990606_20_mask.tif',\n",
       " 'TCGA_CS_5393_19990606',\n",
       " 'data\\\\input\\\\Brain MRI segmentation\\\\kaggle_3m\\\\TCGA_CS_5393_19990606\\\\TCGA_CS_5393_19990606_2_mask.tif',\n",
       " 'TCGA_CS_5393_19990606',\n",
       " 'data\\\\input\\\\Brain MRI segmentation\\\\kaggle_3m\\\\TCGA_CS_5393_19990606\\\\TCGA_CS_5393_19990606_3.tif',\n",
       " 'TCGA_CS_5393_19990606',\n",
       " 'data\\\\input\\\\Brain MRI segmentation\\\\kaggle_3m\\\\TCGA_CS_5393_19990606\\\\TCGA_CS_5393_19990606_3_mask.tif',\n",
       " 'TCGA_CS_5393_19990606',\n",
       " 'data\\\\input\\\\Brain MRI segmentation\\\\kaggle_3m\\\\TCGA_CS_5393_19990606\\\\TCGA_CS_5393_19990606_4.tif',\n",
       " 'TCGA_CS_5393_19990606',\n",
       " 'data\\\\input\\\\Brain MRI segmentation\\\\kaggle_3m\\\\TCGA_CS_5393_19990606\\\\TCGA_CS_5393_19990606_4_mask.tif',\n",
       " 'TCGA_CS_5393_19990606',\n",
       " 'data\\\\input\\\\Brain MRI segmentation\\\\kaggle_3m\\\\TCGA_CS_5393_19990606\\\\TCGA_CS_5393_19990606_5.tif',\n",
       " 'TCGA_CS_5393_19990606',\n",
       " 'data\\\\input\\\\Brain MRI segmentation\\\\kaggle_3m\\\\TCGA_CS_5393_19990606\\\\TCGA_CS_5393_19990606_5_mask.tif',\n",
       " 'TCGA_CS_5393_19990606',\n",
       " 'data\\\\input\\\\Brain MRI segmentation\\\\kaggle_3m\\\\TCGA_CS_5393_19990606\\\\TCGA_CS_5393_19990606_6.tif',\n",
       " 'TCGA_CS_5393_19990606',\n",
       " 'data\\\\input\\\\Brain MRI segmentation\\\\kaggle_3m\\\\TCGA_CS_5393_19990606\\\\TCGA_CS_5393_19990606_6_mask.tif',\n",
       " 'TCGA_CS_5393_19990606',\n",
       " 'data\\\\input\\\\Brain MRI segmentation\\\\kaggle_3m\\\\TCGA_CS_5393_19990606\\\\TCGA_CS_5393_19990606_7.tif',\n",
       " 'TCGA_CS_5393_19990606',\n",
       " 'data\\\\input\\\\Brain MRI segmentation\\\\kaggle_3m\\\\TCGA_CS_5393_19990606\\\\TCGA_CS_5393_19990606_7_mask.tif',\n",
       " 'TCGA_CS_5393_19990606',\n",
       " 'data\\\\input\\\\Brain MRI segmentation\\\\kaggle_3m\\\\TCGA_CS_5393_19990606\\\\TCGA_CS_5393_19990606_8.tif',\n",
       " 'TCGA_CS_5393_19990606',\n",
       " 'data\\\\input\\\\Brain MRI segmentation\\\\kaggle_3m\\\\TCGA_CS_5393_19990606\\\\TCGA_CS_5393_19990606_8_mask.tif',\n",
       " 'TCGA_CS_5393_19990606',\n",
       " 'data\\\\input\\\\Brain MRI segmentation\\\\kaggle_3m\\\\TCGA_CS_5393_19990606\\\\TCGA_CS_5393_19990606_9.tif',\n",
       " 'TCGA_CS_5393_19990606',\n",
       " 'data\\\\input\\\\Brain MRI segmentation\\\\kaggle_3m\\\\TCGA_CS_5393_19990606\\\\TCGA_CS_5393_19990606_9_mask.tif',\n",
       " 'TCGA_CS_5395_19981004',\n",
       " 'data\\\\input\\\\Brain MRI segmentation\\\\kaggle_3m\\\\TCGA_CS_5395_19981004\\\\TCGA_CS_5395_19981004_1.tif',\n",
       " 'TCGA_CS_5395_19981004',\n",
       " 'data\\\\input\\\\Brain MRI segmentation\\\\kaggle_3m\\\\TCGA_CS_5395_19981004\\\\TCGA_CS_5395_19981004_10.tif',\n",
       " 'TCGA_CS_5395_19981004',\n",
       " 'data\\\\input\\\\Brain MRI segmentation\\\\kaggle_3m\\\\TCGA_CS_5395_19981004\\\\TCGA_CS_5395_19981004_10_mask.tif',\n",
       " 'TCGA_CS_5395_19981004',\n",
       " 'data\\\\input\\\\Brain MRI segmentation\\\\kaggle_3m\\\\TCGA_CS_5395_19981004\\\\TCGA_CS_5395_19981004_11.tif',\n",
       " 'TCGA_CS_5395_19981004',\n",
       " 'data\\\\input\\\\Brain MRI segmentation\\\\kaggle_3m\\\\TCGA_CS_5395_19981004\\\\TCGA_CS_5395_19981004_11_mask.tif',\n",
       " 'TCGA_CS_5395_19981004',\n",
       " 'data\\\\input\\\\Brain MRI segmentation\\\\kaggle_3m\\\\TCGA_CS_5395_19981004\\\\TCGA_CS_5395_19981004_12.tif',\n",
       " 'TCGA_CS_5395_19981004',\n",
       " 'data\\\\input\\\\Brain MRI segmentation\\\\kaggle_3m\\\\TCGA_CS_5395_19981004\\\\TCGA_CS_5395_19981004_12_mask.tif',\n",
       " 'TCGA_CS_5395_19981004',\n",
       " 'data\\\\input\\\\Brain MRI segmentation\\\\kaggle_3m\\\\TCGA_CS_5395_19981004\\\\TCGA_CS_5395_19981004_13.tif',\n",
       " 'TCGA_CS_5395_19981004',\n",
       " 'data\\\\input\\\\Brain MRI segmentation\\\\kaggle_3m\\\\TCGA_CS_5395_19981004\\\\TCGA_CS_5395_19981004_13_mask.tif',\n",
       " 'TCGA_CS_5395_19981004',\n",
       " 'data\\\\input\\\\Brain MRI segmentation\\\\kaggle_3m\\\\TCGA_CS_5395_19981004\\\\TCGA_CS_5395_19981004_14.tif',\n",
       " 'TCGA_CS_5395_19981004',\n",
       " 'data\\\\input\\\\Brain MRI segmentation\\\\kaggle_3m\\\\TCGA_CS_5395_19981004\\\\TCGA_CS_5395_19981004_14_mask.tif',\n",
       " 'TCGA_CS_5395_19981004',\n",
       " 'data\\\\input\\\\Brain MRI segmentation\\\\kaggle_3m\\\\TCGA_CS_5395_19981004\\\\TCGA_CS_5395_19981004_15.tif',\n",
       " 'TCGA_CS_5395_19981004',\n",
       " 'data\\\\input\\\\Brain MRI segmentation\\\\kaggle_3m\\\\TCGA_CS_5395_19981004\\\\TCGA_CS_5395_19981004_15_mask.tif',\n",
       " 'TCGA_CS_5395_19981004',\n",
       " 'data\\\\input\\\\Brain MRI segmentation\\\\kaggle_3m\\\\TCGA_CS_5395_19981004\\\\TCGA_CS_5395_19981004_16.tif',\n",
       " 'TCGA_CS_5395_19981004',\n",
       " 'data\\\\input\\\\Brain MRI segmentation\\\\kaggle_3m\\\\TCGA_CS_5395_19981004\\\\TCGA_CS_5395_19981004_16_mask.tif',\n",
       " 'TCGA_CS_5395_19981004',\n",
       " 'data\\\\input\\\\Brain MRI segmentation\\\\kaggle_3m\\\\TCGA_CS_5395_19981004\\\\TCGA_CS_5395_19981004_17.tif',\n",
       " 'TCGA_CS_5395_19981004',\n",
       " 'data\\\\input\\\\Brain MRI segmentation\\\\kaggle_3m\\\\TCGA_CS_5395_19981004\\\\TCGA_CS_5395_19981004_17_mask.tif',\n",
       " 'TCGA_CS_5395_19981004',\n",
       " 'data\\\\input\\\\Brain MRI segmentation\\\\kaggle_3m\\\\TCGA_CS_5395_19981004\\\\TCGA_CS_5395_19981004_18.tif',\n",
       " 'TCGA_CS_5395_19981004',\n",
       " 'data\\\\input\\\\Brain MRI segmentation\\\\kaggle_3m\\\\TCGA_CS_5395_19981004\\\\TCGA_CS_5395_19981004_18_mask.tif',\n",
       " 'TCGA_CS_5395_19981004',\n",
       " 'data\\\\input\\\\Brain MRI segmentation\\\\kaggle_3m\\\\TCGA_CS_5395_19981004\\\\TCGA_CS_5395_19981004_19.tif',\n",
       " 'TCGA_CS_5395_19981004',\n",
       " 'data\\\\input\\\\Brain MRI segmentation\\\\kaggle_3m\\\\TCGA_CS_5395_19981004\\\\TCGA_CS_5395_19981004_19_mask.tif',\n",
       " 'TCGA_CS_5395_19981004',\n",
       " 'data\\\\input\\\\Brain MRI segmentation\\\\kaggle_3m\\\\TCGA_CS_5395_19981004\\\\TCGA_CS_5395_19981004_1_mask.tif',\n",
       " 'TCGA_CS_5395_19981004',\n",
       " 'data\\\\input\\\\Brain MRI segmentation\\\\kaggle_3m\\\\TCGA_CS_5395_19981004\\\\TCGA_CS_5395_19981004_2.tif',\n",
       " 'TCGA_CS_5395_19981004',\n",
       " 'data\\\\input\\\\Brain MRI segmentation\\\\kaggle_3m\\\\TCGA_CS_5395_19981004\\\\TCGA_CS_5395_19981004_20.tif',\n",
       " 'TCGA_CS_5395_19981004',\n",
       " 'data\\\\input\\\\Brain MRI segmentation\\\\kaggle_3m\\\\TCGA_CS_5395_19981004\\\\TCGA_CS_5395_19981004_20_mask.tif',\n",
       " 'TCGA_CS_5395_19981004',\n",
       " 'data\\\\input\\\\Brain MRI segmentation\\\\kaggle_3m\\\\TCGA_CS_5395_19981004\\\\TCGA_CS_5395_19981004_2_mask.tif',\n",
       " 'TCGA_CS_5395_19981004',\n",
       " 'data\\\\input\\\\Brain MRI segmentation\\\\kaggle_3m\\\\TCGA_CS_5395_19981004\\\\TCGA_CS_5395_19981004_3.tif',\n",
       " 'TCGA_CS_5395_19981004',\n",
       " 'data\\\\input\\\\Brain MRI segmentation\\\\kaggle_3m\\\\TCGA_CS_5395_19981004\\\\TCGA_CS_5395_19981004_3_mask.tif',\n",
       " 'TCGA_CS_5395_19981004',\n",
       " 'data\\\\input\\\\Brain MRI segmentation\\\\kaggle_3m\\\\TCGA_CS_5395_19981004\\\\TCGA_CS_5395_19981004_4.tif',\n",
       " 'TCGA_CS_5395_19981004',\n",
       " 'data\\\\input\\\\Brain MRI segmentation\\\\kaggle_3m\\\\TCGA_CS_5395_19981004\\\\TCGA_CS_5395_19981004_4_mask.tif',\n",
       " 'TCGA_CS_5395_19981004',\n",
       " 'data\\\\input\\\\Brain MRI segmentation\\\\kaggle_3m\\\\TCGA_CS_5395_19981004\\\\TCGA_CS_5395_19981004_5.tif',\n",
       " 'TCGA_CS_5395_19981004',\n",
       " 'data\\\\input\\\\Brain MRI segmentation\\\\kaggle_3m\\\\TCGA_CS_5395_19981004\\\\TCGA_CS_5395_19981004_5_mask.tif',\n",
       " 'TCGA_CS_5395_19981004',\n",
       " 'data\\\\input\\\\Brain MRI segmentation\\\\kaggle_3m\\\\TCGA_CS_5395_19981004\\\\TCGA_CS_5395_19981004_6.tif',\n",
       " 'TCGA_CS_5395_19981004',\n",
       " 'data\\\\input\\\\Brain MRI segmentation\\\\kaggle_3m\\\\TCGA_CS_5395_19981004\\\\TCGA_CS_5395_19981004_6_mask.tif',\n",
       " 'TCGA_CS_5395_19981004',\n",
       " 'data\\\\input\\\\Brain MRI segmentation\\\\kaggle_3m\\\\TCGA_CS_5395_19981004\\\\TCGA_CS_5395_19981004_7.tif',\n",
       " 'TCGA_CS_5395_19981004',\n",
       " 'data\\\\input\\\\Brain MRI segmentation\\\\kaggle_3m\\\\TCGA_CS_5395_19981004\\\\TCGA_CS_5395_19981004_7_mask.tif',\n",
       " 'TCGA_CS_5395_19981004',\n",
       " 'data\\\\input\\\\Brain MRI segmentation\\\\kaggle_3m\\\\TCGA_CS_5395_19981004\\\\TCGA_CS_5395_19981004_8.tif',\n",
       " 'TCGA_CS_5395_19981004',\n",
       " 'data\\\\input\\\\Brain MRI segmentation\\\\kaggle_3m\\\\TCGA_CS_5395_19981004\\\\TCGA_CS_5395_19981004_8_mask.tif',\n",
       " 'TCGA_CS_5395_19981004',\n",
       " 'data\\\\input\\\\Brain MRI segmentation\\\\kaggle_3m\\\\TCGA_CS_5395_19981004\\\\TCGA_CS_5395_19981004_9.tif',\n",
       " 'TCGA_CS_5395_19981004',\n",
       " 'data\\\\input\\\\Brain MRI segmentation\\\\kaggle_3m\\\\TCGA_CS_5395_19981004\\\\TCGA_CS_5395_19981004_9_mask.tif',\n",
       " 'TCGA_CS_5396_20010302',\n",
       " 'data\\\\input\\\\Brain MRI segmentation\\\\kaggle_3m\\\\TCGA_CS_5396_20010302\\\\TCGA_CS_5396_20010302_1.tif',\n",
       " 'TCGA_CS_5396_20010302',\n",
       " 'data\\\\input\\\\Brain MRI segmentation\\\\kaggle_3m\\\\TCGA_CS_5396_20010302\\\\TCGA_CS_5396_20010302_10.tif',\n",
       " 'TCGA_CS_5396_20010302',\n",
       " 'data\\\\input\\\\Brain MRI segmentation\\\\kaggle_3m\\\\TCGA_CS_5396_20010302\\\\TCGA_CS_5396_20010302_10_mask.tif',\n",
       " 'TCGA_CS_5396_20010302',\n",
       " 'data\\\\input\\\\Brain MRI segmentation\\\\kaggle_3m\\\\TCGA_CS_5396_20010302\\\\TCGA_CS_5396_20010302_11.tif',\n",
       " 'TCGA_CS_5396_20010302',\n",
       " 'data\\\\input\\\\Brain MRI segmentation\\\\kaggle_3m\\\\TCGA_CS_5396_20010302\\\\TCGA_CS_5396_20010302_11_mask.tif',\n",
       " 'TCGA_CS_5396_20010302',\n",
       " 'data\\\\input\\\\Brain MRI segmentation\\\\kaggle_3m\\\\TCGA_CS_5396_20010302\\\\TCGA_CS_5396_20010302_12.tif',\n",
       " 'TCGA_CS_5396_20010302',\n",
       " 'data\\\\input\\\\Brain MRI segmentation\\\\kaggle_3m\\\\TCGA_CS_5396_20010302\\\\TCGA_CS_5396_20010302_12_mask.tif',\n",
       " 'TCGA_CS_5396_20010302',\n",
       " 'data\\\\input\\\\Brain MRI segmentation\\\\kaggle_3m\\\\TCGA_CS_5396_20010302\\\\TCGA_CS_5396_20010302_13.tif',\n",
       " 'TCGA_CS_5396_20010302',\n",
       " 'data\\\\input\\\\Brain MRI segmentation\\\\kaggle_3m\\\\TCGA_CS_5396_20010302\\\\TCGA_CS_5396_20010302_13_mask.tif',\n",
       " 'TCGA_CS_5396_20010302',\n",
       " 'data\\\\input\\\\Brain MRI segmentation\\\\kaggle_3m\\\\TCGA_CS_5396_20010302\\\\TCGA_CS_5396_20010302_14.tif',\n",
       " 'TCGA_CS_5396_20010302',\n",
       " 'data\\\\input\\\\Brain MRI segmentation\\\\kaggle_3m\\\\TCGA_CS_5396_20010302\\\\TCGA_CS_5396_20010302_14_mask.tif',\n",
       " 'TCGA_CS_5396_20010302',\n",
       " 'data\\\\input\\\\Brain MRI segmentation\\\\kaggle_3m\\\\TCGA_CS_5396_20010302\\\\TCGA_CS_5396_20010302_15.tif',\n",
       " 'TCGA_CS_5396_20010302',\n",
       " 'data\\\\input\\\\Brain MRI segmentation\\\\kaggle_3m\\\\TCGA_CS_5396_20010302\\\\TCGA_CS_5396_20010302_15_mask.tif',\n",
       " 'TCGA_CS_5396_20010302',\n",
       " 'data\\\\input\\\\Brain MRI segmentation\\\\kaggle_3m\\\\TCGA_CS_5396_20010302\\\\TCGA_CS_5396_20010302_16.tif',\n",
       " 'TCGA_CS_5396_20010302',\n",
       " 'data\\\\input\\\\Brain MRI segmentation\\\\kaggle_3m\\\\TCGA_CS_5396_20010302\\\\TCGA_CS_5396_20010302_16_mask.tif',\n",
       " 'TCGA_CS_5396_20010302',\n",
       " 'data\\\\input\\\\Brain MRI segmentation\\\\kaggle_3m\\\\TCGA_CS_5396_20010302\\\\TCGA_CS_5396_20010302_17.tif',\n",
       " 'TCGA_CS_5396_20010302',\n",
       " 'data\\\\input\\\\Brain MRI segmentation\\\\kaggle_3m\\\\TCGA_CS_5396_20010302\\\\TCGA_CS_5396_20010302_17_mask.tif',\n",
       " 'TCGA_CS_5396_20010302',\n",
       " 'data\\\\input\\\\Brain MRI segmentation\\\\kaggle_3m\\\\TCGA_CS_5396_20010302\\\\TCGA_CS_5396_20010302_18.tif',\n",
       " 'TCGA_CS_5396_20010302',\n",
       " 'data\\\\input\\\\Brain MRI segmentation\\\\kaggle_3m\\\\TCGA_CS_5396_20010302\\\\TCGA_CS_5396_20010302_18_mask.tif',\n",
       " 'TCGA_CS_5396_20010302',\n",
       " 'data\\\\input\\\\Brain MRI segmentation\\\\kaggle_3m\\\\TCGA_CS_5396_20010302\\\\TCGA_CS_5396_20010302_19.tif',\n",
       " 'TCGA_CS_5396_20010302',\n",
       " 'data\\\\input\\\\Brain MRI segmentation\\\\kaggle_3m\\\\TCGA_CS_5396_20010302\\\\TCGA_CS_5396_20010302_19_mask.tif',\n",
       " 'TCGA_CS_5396_20010302',\n",
       " 'data\\\\input\\\\Brain MRI segmentation\\\\kaggle_3m\\\\TCGA_CS_5396_20010302\\\\TCGA_CS_5396_20010302_1_mask.tif',\n",
       " 'TCGA_CS_5396_20010302',\n",
       " 'data\\\\input\\\\Brain MRI segmentation\\\\kaggle_3m\\\\TCGA_CS_5396_20010302\\\\TCGA_CS_5396_20010302_2.tif',\n",
       " 'TCGA_CS_5396_20010302',\n",
       " 'data\\\\input\\\\Brain MRI segmentation\\\\kaggle_3m\\\\TCGA_CS_5396_20010302\\\\TCGA_CS_5396_20010302_20.tif',\n",
       " 'TCGA_CS_5396_20010302',\n",
       " 'data\\\\input\\\\Brain MRI segmentation\\\\kaggle_3m\\\\TCGA_CS_5396_20010302\\\\TCGA_CS_5396_20010302_20_mask.tif',\n",
       " 'TCGA_CS_5396_20010302',\n",
       " 'data\\\\input\\\\Brain MRI segmentation\\\\kaggle_3m\\\\TCGA_CS_5396_20010302\\\\TCGA_CS_5396_20010302_21.tif',\n",
       " 'TCGA_CS_5396_20010302',\n",
       " 'data\\\\input\\\\Brain MRI segmentation\\\\kaggle_3m\\\\TCGA_CS_5396_20010302\\\\TCGA_CS_5396_20010302_21_mask.tif',\n",
       " 'TCGA_CS_5396_20010302',\n",
       " 'data\\\\input\\\\Brain MRI segmentation\\\\kaggle_3m\\\\TCGA_CS_5396_20010302\\\\TCGA_CS_5396_20010302_22.tif',\n",
       " 'TCGA_CS_5396_20010302',\n",
       " 'data\\\\input\\\\Brain MRI segmentation\\\\kaggle_3m\\\\TCGA_CS_5396_20010302\\\\TCGA_CS_5396_20010302_22_mask.tif',\n",
       " 'TCGA_CS_5396_20010302',\n",
       " 'data\\\\input\\\\Brain MRI segmentation\\\\kaggle_3m\\\\TCGA_CS_5396_20010302\\\\TCGA_CS_5396_20010302_23.tif',\n",
       " 'TCGA_CS_5396_20010302',\n",
       " 'data\\\\input\\\\Brain MRI segmentation\\\\kaggle_3m\\\\TCGA_CS_5396_20010302\\\\TCGA_CS_5396_20010302_23_mask.tif',\n",
       " 'TCGA_CS_5396_20010302',\n",
       " 'data\\\\input\\\\Brain MRI segmentation\\\\kaggle_3m\\\\TCGA_CS_5396_20010302\\\\TCGA_CS_5396_20010302_24.tif',\n",
       " 'TCGA_CS_5396_20010302',\n",
       " 'data\\\\input\\\\Brain MRI segmentation\\\\kaggle_3m\\\\TCGA_CS_5396_20010302\\\\TCGA_CS_5396_20010302_24_mask.tif',\n",
       " 'TCGA_CS_5396_20010302',\n",
       " 'data\\\\input\\\\Brain MRI segmentation\\\\kaggle_3m\\\\TCGA_CS_5396_20010302\\\\TCGA_CS_5396_20010302_2_mask.tif',\n",
       " 'TCGA_CS_5396_20010302',\n",
       " 'data\\\\input\\\\Brain MRI segmentation\\\\kaggle_3m\\\\TCGA_CS_5396_20010302\\\\TCGA_CS_5396_20010302_3.tif',\n",
       " 'TCGA_CS_5396_20010302',\n",
       " 'data\\\\input\\\\Brain MRI segmentation\\\\kaggle_3m\\\\TCGA_CS_5396_20010302\\\\TCGA_CS_5396_20010302_3_mask.tif',\n",
       " 'TCGA_CS_5396_20010302',\n",
       " 'data\\\\input\\\\Brain MRI segmentation\\\\kaggle_3m\\\\TCGA_CS_5396_20010302\\\\TCGA_CS_5396_20010302_4.tif',\n",
       " 'TCGA_CS_5396_20010302',\n",
       " 'data\\\\input\\\\Brain MRI segmentation\\\\kaggle_3m\\\\TCGA_CS_5396_20010302\\\\TCGA_CS_5396_20010302_4_mask.tif',\n",
       " 'TCGA_CS_5396_20010302',\n",
       " 'data\\\\input\\\\Brain MRI segmentation\\\\kaggle_3m\\\\TCGA_CS_5396_20010302\\\\TCGA_CS_5396_20010302_5.tif',\n",
       " 'TCGA_CS_5396_20010302',\n",
       " 'data\\\\input\\\\Brain MRI segmentation\\\\kaggle_3m\\\\TCGA_CS_5396_20010302\\\\TCGA_CS_5396_20010302_5_mask.tif',\n",
       " 'TCGA_CS_5396_20010302',\n",
       " 'data\\\\input\\\\Brain MRI segmentation\\\\kaggle_3m\\\\TCGA_CS_5396_20010302\\\\TCGA_CS_5396_20010302_6.tif',\n",
       " 'TCGA_CS_5396_20010302',\n",
       " 'data\\\\input\\\\Brain MRI segmentation\\\\kaggle_3m\\\\TCGA_CS_5396_20010302\\\\TCGA_CS_5396_20010302_6_mask.tif',\n",
       " 'TCGA_CS_5396_20010302',\n",
       " 'data\\\\input\\\\Brain MRI segmentation\\\\kaggle_3m\\\\TCGA_CS_5396_20010302\\\\TCGA_CS_5396_20010302_7.tif',\n",
       " 'TCGA_CS_5396_20010302',\n",
       " 'data\\\\input\\\\Brain MRI segmentation\\\\kaggle_3m\\\\TCGA_CS_5396_20010302\\\\TCGA_CS_5396_20010302_7_mask.tif',\n",
       " 'TCGA_CS_5396_20010302',\n",
       " 'data\\\\input\\\\Brain MRI segmentation\\\\kaggle_3m\\\\TCGA_CS_5396_20010302\\\\TCGA_CS_5396_20010302_8.tif',\n",
       " 'TCGA_CS_5396_20010302',\n",
       " 'data\\\\input\\\\Brain MRI segmentation\\\\kaggle_3m\\\\TCGA_CS_5396_20010302\\\\TCGA_CS_5396_20010302_8_mask.tif',\n",
       " 'TCGA_CS_5396_20010302',\n",
       " 'data\\\\input\\\\Brain MRI segmentation\\\\kaggle_3m\\\\TCGA_CS_5396_20010302\\\\TCGA_CS_5396_20010302_9.tif',\n",
       " 'TCGA_CS_5396_20010302',\n",
       " 'data\\\\input\\\\Brain MRI segmentation\\\\kaggle_3m\\\\TCGA_CS_5396_20010302\\\\TCGA_CS_5396_20010302_9_mask.tif',\n",
       " 'TCGA_CS_5397_20010315',\n",
       " 'data\\\\input\\\\Brain MRI segmentation\\\\kaggle_3m\\\\TCGA_CS_5397_20010315\\\\TCGA_CS_5397_20010315_1.tif',\n",
       " 'TCGA_CS_5397_20010315',\n",
       " 'data\\\\input\\\\Brain MRI segmentation\\\\kaggle_3m\\\\TCGA_CS_5397_20010315\\\\TCGA_CS_5397_20010315_10.tif',\n",
       " 'TCGA_CS_5397_20010315',\n",
       " 'data\\\\input\\\\Brain MRI segmentation\\\\kaggle_3m\\\\TCGA_CS_5397_20010315\\\\TCGA_CS_5397_20010315_10_mask.tif',\n",
       " 'TCGA_CS_5397_20010315',\n",
       " 'data\\\\input\\\\Brain MRI segmentation\\\\kaggle_3m\\\\TCGA_CS_5397_20010315\\\\TCGA_CS_5397_20010315_11.tif',\n",
       " 'TCGA_CS_5397_20010315',\n",
       " 'data\\\\input\\\\Brain MRI segmentation\\\\kaggle_3m\\\\TCGA_CS_5397_20010315\\\\TCGA_CS_5397_20010315_11_mask.tif',\n",
       " 'TCGA_CS_5397_20010315',\n",
       " 'data\\\\input\\\\Brain MRI segmentation\\\\kaggle_3m\\\\TCGA_CS_5397_20010315\\\\TCGA_CS_5397_20010315_12.tif',\n",
       " 'TCGA_CS_5397_20010315',\n",
       " 'data\\\\input\\\\Brain MRI segmentation\\\\kaggle_3m\\\\TCGA_CS_5397_20010315\\\\TCGA_CS_5397_20010315_12_mask.tif',\n",
       " 'TCGA_CS_5397_20010315',\n",
       " 'data\\\\input\\\\Brain MRI segmentation\\\\kaggle_3m\\\\TCGA_CS_5397_20010315\\\\TCGA_CS_5397_20010315_13.tif',\n",
       " 'TCGA_CS_5397_20010315',\n",
       " 'data\\\\input\\\\Brain MRI segmentation\\\\kaggle_3m\\\\TCGA_CS_5397_20010315\\\\TCGA_CS_5397_20010315_13_mask.tif',\n",
       " 'TCGA_CS_5397_20010315',\n",
       " 'data\\\\input\\\\Brain MRI segmentation\\\\kaggle_3m\\\\TCGA_CS_5397_20010315\\\\TCGA_CS_5397_20010315_14.tif',\n",
       " 'TCGA_CS_5397_20010315',\n",
       " 'data\\\\input\\\\Brain MRI segmentation\\\\kaggle_3m\\\\TCGA_CS_5397_20010315\\\\TCGA_CS_5397_20010315_14_mask.tif',\n",
       " 'TCGA_CS_5397_20010315',\n",
       " 'data\\\\input\\\\Brain MRI segmentation\\\\kaggle_3m\\\\TCGA_CS_5397_20010315\\\\TCGA_CS_5397_20010315_15.tif',\n",
       " 'TCGA_CS_5397_20010315',\n",
       " 'data\\\\input\\\\Brain MRI segmentation\\\\kaggle_3m\\\\TCGA_CS_5397_20010315\\\\TCGA_CS_5397_20010315_15_mask.tif',\n",
       " 'TCGA_CS_5397_20010315',\n",
       " 'data\\\\input\\\\Brain MRI segmentation\\\\kaggle_3m\\\\TCGA_CS_5397_20010315\\\\TCGA_CS_5397_20010315_16.tif',\n",
       " 'TCGA_CS_5397_20010315',\n",
       " 'data\\\\input\\\\Brain MRI segmentation\\\\kaggle_3m\\\\TCGA_CS_5397_20010315\\\\TCGA_CS_5397_20010315_16_mask.tif',\n",
       " 'TCGA_CS_5397_20010315',\n",
       " 'data\\\\input\\\\Brain MRI segmentation\\\\kaggle_3m\\\\TCGA_CS_5397_20010315\\\\TCGA_CS_5397_20010315_17.tif',\n",
       " 'TCGA_CS_5397_20010315',\n",
       " 'data\\\\input\\\\Brain MRI segmentation\\\\kaggle_3m\\\\TCGA_CS_5397_20010315\\\\TCGA_CS_5397_20010315_17_mask.tif',\n",
       " 'TCGA_CS_5397_20010315',\n",
       " 'data\\\\input\\\\Brain MRI segmentation\\\\kaggle_3m\\\\TCGA_CS_5397_20010315\\\\TCGA_CS_5397_20010315_18.tif',\n",
       " 'TCGA_CS_5397_20010315',\n",
       " 'data\\\\input\\\\Brain MRI segmentation\\\\kaggle_3m\\\\TCGA_CS_5397_20010315\\\\TCGA_CS_5397_20010315_18_mask.tif',\n",
       " 'TCGA_CS_5397_20010315',\n",
       " 'data\\\\input\\\\Brain MRI segmentation\\\\kaggle_3m\\\\TCGA_CS_5397_20010315\\\\TCGA_CS_5397_20010315_19.tif',\n",
       " 'TCGA_CS_5397_20010315',\n",
       " 'data\\\\input\\\\Brain MRI segmentation\\\\kaggle_3m\\\\TCGA_CS_5397_20010315\\\\TCGA_CS_5397_20010315_19_mask.tif',\n",
       " 'TCGA_CS_5397_20010315',\n",
       " 'data\\\\input\\\\Brain MRI segmentation\\\\kaggle_3m\\\\TCGA_CS_5397_20010315\\\\TCGA_CS_5397_20010315_1_mask.tif',\n",
       " 'TCGA_CS_5397_20010315',\n",
       " 'data\\\\input\\\\Brain MRI segmentation\\\\kaggle_3m\\\\TCGA_CS_5397_20010315\\\\TCGA_CS_5397_20010315_2.tif',\n",
       " 'TCGA_CS_5397_20010315',\n",
       " 'data\\\\input\\\\Brain MRI segmentation\\\\kaggle_3m\\\\TCGA_CS_5397_20010315\\\\TCGA_CS_5397_20010315_20.tif',\n",
       " 'TCGA_CS_5397_20010315',\n",
       " 'data\\\\input\\\\Brain MRI segmentation\\\\kaggle_3m\\\\TCGA_CS_5397_20010315\\\\TCGA_CS_5397_20010315_20_mask.tif',\n",
       " 'TCGA_CS_5397_20010315',\n",
       " 'data\\\\input\\\\Brain MRI segmentation\\\\kaggle_3m\\\\TCGA_CS_5397_20010315\\\\TCGA_CS_5397_20010315_21.tif',\n",
       " 'TCGA_CS_5397_20010315',\n",
       " 'data\\\\input\\\\Brain MRI segmentation\\\\kaggle_3m\\\\TCGA_CS_5397_20010315\\\\TCGA_CS_5397_20010315_21_mask.tif',\n",
       " 'TCGA_CS_5397_20010315',\n",
       " 'data\\\\input\\\\Brain MRI segmentation\\\\kaggle_3m\\\\TCGA_CS_5397_20010315\\\\TCGA_CS_5397_20010315_22.tif',\n",
       " 'TCGA_CS_5397_20010315',\n",
       " 'data\\\\input\\\\Brain MRI segmentation\\\\kaggle_3m\\\\TCGA_CS_5397_20010315\\\\TCGA_CS_5397_20010315_22_mask.tif',\n",
       " 'TCGA_CS_5397_20010315',\n",
       " 'data\\\\input\\\\Brain MRI segmentation\\\\kaggle_3m\\\\TCGA_CS_5397_20010315\\\\TCGA_CS_5397_20010315_2_mask.tif',\n",
       " 'TCGA_CS_5397_20010315',\n",
       " 'data\\\\input\\\\Brain MRI segmentation\\\\kaggle_3m\\\\TCGA_CS_5397_20010315\\\\TCGA_CS_5397_20010315_3.tif',\n",
       " 'TCGA_CS_5397_20010315',\n",
       " 'data\\\\input\\\\Brain MRI segmentation\\\\kaggle_3m\\\\TCGA_CS_5397_20010315\\\\TCGA_CS_5397_20010315_3_mask.tif',\n",
       " 'TCGA_CS_5397_20010315',\n",
       " 'data\\\\input\\\\Brain MRI segmentation\\\\kaggle_3m\\\\TCGA_CS_5397_20010315\\\\TCGA_CS_5397_20010315_4.tif',\n",
       " 'TCGA_CS_5397_20010315',\n",
       " 'data\\\\input\\\\Brain MRI segmentation\\\\kaggle_3m\\\\TCGA_CS_5397_20010315\\\\TCGA_CS_5397_20010315_4_mask.tif',\n",
       " 'TCGA_CS_5397_20010315',\n",
       " 'data\\\\input\\\\Brain MRI segmentation\\\\kaggle_3m\\\\TCGA_CS_5397_20010315\\\\TCGA_CS_5397_20010315_5.tif',\n",
       " 'TCGA_CS_5397_20010315',\n",
       " 'data\\\\input\\\\Brain MRI segmentation\\\\kaggle_3m\\\\TCGA_CS_5397_20010315\\\\TCGA_CS_5397_20010315_5_mask.tif',\n",
       " 'TCGA_CS_5397_20010315',\n",
       " 'data\\\\input\\\\Brain MRI segmentation\\\\kaggle_3m\\\\TCGA_CS_5397_20010315\\\\TCGA_CS_5397_20010315_6.tif',\n",
       " 'TCGA_CS_5397_20010315',\n",
       " 'data\\\\input\\\\Brain MRI segmentation\\\\kaggle_3m\\\\TCGA_CS_5397_20010315\\\\TCGA_CS_5397_20010315_6_mask.tif',\n",
       " 'TCGA_CS_5397_20010315',\n",
       " 'data\\\\input\\\\Brain MRI segmentation\\\\kaggle_3m\\\\TCGA_CS_5397_20010315\\\\TCGA_CS_5397_20010315_7.tif',\n",
       " 'TCGA_CS_5397_20010315',\n",
       " 'data\\\\input\\\\Brain MRI segmentation\\\\kaggle_3m\\\\TCGA_CS_5397_20010315\\\\TCGA_CS_5397_20010315_7_mask.tif',\n",
       " 'TCGA_CS_5397_20010315',\n",
       " 'data\\\\input\\\\Brain MRI segmentation\\\\kaggle_3m\\\\TCGA_CS_5397_20010315\\\\TCGA_CS_5397_20010315_8.tif',\n",
       " 'TCGA_CS_5397_20010315',\n",
       " 'data\\\\input\\\\Brain MRI segmentation\\\\kaggle_3m\\\\TCGA_CS_5397_20010315\\\\TCGA_CS_5397_20010315_8_mask.tif',\n",
       " 'TCGA_CS_5397_20010315',\n",
       " 'data\\\\input\\\\Brain MRI segmentation\\\\kaggle_3m\\\\TCGA_CS_5397_20010315\\\\TCGA_CS_5397_20010315_9.tif',\n",
       " 'TCGA_CS_5397_20010315',\n",
       " 'data\\\\input\\\\Brain MRI segmentation\\\\kaggle_3m\\\\TCGA_CS_5397_20010315\\\\TCGA_CS_5397_20010315_9_mask.tif',\n",
       " 'TCGA_CS_6186_20000601',\n",
       " 'data\\\\input\\\\Brain MRI segmentation\\\\kaggle_3m\\\\TCGA_CS_6186_20000601\\\\TCGA_CS_6186_20000601_1.tif',\n",
       " 'TCGA_CS_6186_20000601',\n",
       " 'data\\\\input\\\\Brain MRI segmentation\\\\kaggle_3m\\\\TCGA_CS_6186_20000601\\\\TCGA_CS_6186_20000601_10.tif',\n",
       " 'TCGA_CS_6186_20000601',\n",
       " 'data\\\\input\\\\Brain MRI segmentation\\\\kaggle_3m\\\\TCGA_CS_6186_20000601\\\\TCGA_CS_6186_20000601_10_mask.tif',\n",
       " 'TCGA_CS_6186_20000601',\n",
       " 'data\\\\input\\\\Brain MRI segmentation\\\\kaggle_3m\\\\TCGA_CS_6186_20000601\\\\TCGA_CS_6186_20000601_11.tif',\n",
       " 'TCGA_CS_6186_20000601',\n",
       " 'data\\\\input\\\\Brain MRI segmentation\\\\kaggle_3m\\\\TCGA_CS_6186_20000601\\\\TCGA_CS_6186_20000601_11_mask.tif',\n",
       " 'TCGA_CS_6186_20000601',\n",
       " 'data\\\\input\\\\Brain MRI segmentation\\\\kaggle_3m\\\\TCGA_CS_6186_20000601\\\\TCGA_CS_6186_20000601_12.tif',\n",
       " 'TCGA_CS_6186_20000601',\n",
       " 'data\\\\input\\\\Brain MRI segmentation\\\\kaggle_3m\\\\TCGA_CS_6186_20000601\\\\TCGA_CS_6186_20000601_12_mask.tif',\n",
       " 'TCGA_CS_6186_20000601',\n",
       " 'data\\\\input\\\\Brain MRI segmentation\\\\kaggle_3m\\\\TCGA_CS_6186_20000601\\\\TCGA_CS_6186_20000601_13.tif',\n",
       " 'TCGA_CS_6186_20000601',\n",
       " 'data\\\\input\\\\Brain MRI segmentation\\\\kaggle_3m\\\\TCGA_CS_6186_20000601\\\\TCGA_CS_6186_20000601_13_mask.tif',\n",
       " 'TCGA_CS_6186_20000601',\n",
       " 'data\\\\input\\\\Brain MRI segmentation\\\\kaggle_3m\\\\TCGA_CS_6186_20000601\\\\TCGA_CS_6186_20000601_14.tif',\n",
       " 'TCGA_CS_6186_20000601',\n",
       " 'data\\\\input\\\\Brain MRI segmentation\\\\kaggle_3m\\\\TCGA_CS_6186_20000601\\\\TCGA_CS_6186_20000601_14_mask.tif',\n",
       " 'TCGA_CS_6186_20000601',\n",
       " 'data\\\\input\\\\Brain MRI segmentation\\\\kaggle_3m\\\\TCGA_CS_6186_20000601\\\\TCGA_CS_6186_20000601_15.tif',\n",
       " 'TCGA_CS_6186_20000601',\n",
       " 'data\\\\input\\\\Brain MRI segmentation\\\\kaggle_3m\\\\TCGA_CS_6186_20000601\\\\TCGA_CS_6186_20000601_15_mask.tif',\n",
       " 'TCGA_CS_6186_20000601',\n",
       " 'data\\\\input\\\\Brain MRI segmentation\\\\kaggle_3m\\\\TCGA_CS_6186_20000601\\\\TCGA_CS_6186_20000601_16.tif',\n",
       " 'TCGA_CS_6186_20000601',\n",
       " 'data\\\\input\\\\Brain MRI segmentation\\\\kaggle_3m\\\\TCGA_CS_6186_20000601\\\\TCGA_CS_6186_20000601_16_mask.tif',\n",
       " 'TCGA_CS_6186_20000601',\n",
       " 'data\\\\input\\\\Brain MRI segmentation\\\\kaggle_3m\\\\TCGA_CS_6186_20000601\\\\TCGA_CS_6186_20000601_17.tif',\n",
       " 'TCGA_CS_6186_20000601',\n",
       " 'data\\\\input\\\\Brain MRI segmentation\\\\kaggle_3m\\\\TCGA_CS_6186_20000601\\\\TCGA_CS_6186_20000601_17_mask.tif',\n",
       " 'TCGA_CS_6186_20000601',\n",
       " 'data\\\\input\\\\Brain MRI segmentation\\\\kaggle_3m\\\\TCGA_CS_6186_20000601\\\\TCGA_CS_6186_20000601_18.tif',\n",
       " 'TCGA_CS_6186_20000601',\n",
       " 'data\\\\input\\\\Brain MRI segmentation\\\\kaggle_3m\\\\TCGA_CS_6186_20000601\\\\TCGA_CS_6186_20000601_18_mask.tif',\n",
       " 'TCGA_CS_6186_20000601',\n",
       " 'data\\\\input\\\\Brain MRI segmentation\\\\kaggle_3m\\\\TCGA_CS_6186_20000601\\\\TCGA_CS_6186_20000601_19.tif',\n",
       " 'TCGA_CS_6186_20000601',\n",
       " 'data\\\\input\\\\Brain MRI segmentation\\\\kaggle_3m\\\\TCGA_CS_6186_20000601\\\\TCGA_CS_6186_20000601_19_mask.tif',\n",
       " 'TCGA_CS_6186_20000601',\n",
       " 'data\\\\input\\\\Brain MRI segmentation\\\\kaggle_3m\\\\TCGA_CS_6186_20000601\\\\TCGA_CS_6186_20000601_1_mask.tif',\n",
       " 'TCGA_CS_6186_20000601',\n",
       " 'data\\\\input\\\\Brain MRI segmentation\\\\kaggle_3m\\\\TCGA_CS_6186_20000601\\\\TCGA_CS_6186_20000601_2.tif',\n",
       " 'TCGA_CS_6186_20000601',\n",
       " 'data\\\\input\\\\Brain MRI segmentation\\\\kaggle_3m\\\\TCGA_CS_6186_20000601\\\\TCGA_CS_6186_20000601_20.tif',\n",
       " 'TCGA_CS_6186_20000601',\n",
       " 'data\\\\input\\\\Brain MRI segmentation\\\\kaggle_3m\\\\TCGA_CS_6186_20000601\\\\TCGA_CS_6186_20000601_20_mask.tif',\n",
       " 'TCGA_CS_6186_20000601',\n",
       " 'data\\\\input\\\\Brain MRI segmentation\\\\kaggle_3m\\\\TCGA_CS_6186_20000601\\\\TCGA_CS_6186_20000601_21.tif',\n",
       " 'TCGA_CS_6186_20000601',\n",
       " 'data\\\\input\\\\Brain MRI segmentation\\\\kaggle_3m\\\\TCGA_CS_6186_20000601\\\\TCGA_CS_6186_20000601_21_mask.tif',\n",
       " 'TCGA_CS_6186_20000601',\n",
       " 'data\\\\input\\\\Brain MRI segmentation\\\\kaggle_3m\\\\TCGA_CS_6186_20000601\\\\TCGA_CS_6186_20000601_22.tif',\n",
       " 'TCGA_CS_6186_20000601',\n",
       " 'data\\\\input\\\\Brain MRI segmentation\\\\kaggle_3m\\\\TCGA_CS_6186_20000601\\\\TCGA_CS_6186_20000601_22_mask.tif',\n",
       " 'TCGA_CS_6186_20000601',\n",
       " 'data\\\\input\\\\Brain MRI segmentation\\\\kaggle_3m\\\\TCGA_CS_6186_20000601\\\\TCGA_CS_6186_20000601_23.tif',\n",
       " 'TCGA_CS_6186_20000601',\n",
       " 'data\\\\input\\\\Brain MRI segmentation\\\\kaggle_3m\\\\TCGA_CS_6186_20000601\\\\TCGA_CS_6186_20000601_23_mask.tif',\n",
       " 'TCGA_CS_6186_20000601',\n",
       " 'data\\\\input\\\\Brain MRI segmentation\\\\kaggle_3m\\\\TCGA_CS_6186_20000601\\\\TCGA_CS_6186_20000601_24.tif',\n",
       " 'TCGA_CS_6186_20000601',\n",
       " 'data\\\\input\\\\Brain MRI segmentation\\\\kaggle_3m\\\\TCGA_CS_6186_20000601\\\\TCGA_CS_6186_20000601_24_mask.tif',\n",
       " 'TCGA_CS_6186_20000601',\n",
       " 'data\\\\input\\\\Brain MRI segmentation\\\\kaggle_3m\\\\TCGA_CS_6186_20000601\\\\TCGA_CS_6186_20000601_25.tif',\n",
       " 'TCGA_CS_6186_20000601',\n",
       " 'data\\\\input\\\\Brain MRI segmentation\\\\kaggle_3m\\\\TCGA_CS_6186_20000601\\\\TCGA_CS_6186_20000601_25_mask.tif',\n",
       " 'TCGA_CS_6186_20000601',\n",
       " 'data\\\\input\\\\Brain MRI segmentation\\\\kaggle_3m\\\\TCGA_CS_6186_20000601\\\\TCGA_CS_6186_20000601_2_mask.tif',\n",
       " 'TCGA_CS_6186_20000601',\n",
       " 'data\\\\input\\\\Brain MRI segmentation\\\\kaggle_3m\\\\TCGA_CS_6186_20000601\\\\TCGA_CS_6186_20000601_3.tif',\n",
       " 'TCGA_CS_6186_20000601',\n",
       " 'data\\\\input\\\\Brain MRI segmentation\\\\kaggle_3m\\\\TCGA_CS_6186_20000601\\\\TCGA_CS_6186_20000601_3_mask.tif',\n",
       " 'TCGA_CS_6186_20000601',\n",
       " 'data\\\\input\\\\Brain MRI segmentation\\\\kaggle_3m\\\\TCGA_CS_6186_20000601\\\\TCGA_CS_6186_20000601_4.tif',\n",
       " 'TCGA_CS_6186_20000601',\n",
       " 'data\\\\input\\\\Brain MRI segmentation\\\\kaggle_3m\\\\TCGA_CS_6186_20000601\\\\TCGA_CS_6186_20000601_4_mask.tif',\n",
       " 'TCGA_CS_6186_20000601',\n",
       " 'data\\\\input\\\\Brain MRI segmentation\\\\kaggle_3m\\\\TCGA_CS_6186_20000601\\\\TCGA_CS_6186_20000601_5.tif',\n",
       " 'TCGA_CS_6186_20000601',\n",
       " 'data\\\\input\\\\Brain MRI segmentation\\\\kaggle_3m\\\\TCGA_CS_6186_20000601\\\\TCGA_CS_6186_20000601_5_mask.tif',\n",
       " 'TCGA_CS_6186_20000601',\n",
       " 'data\\\\input\\\\Brain MRI segmentation\\\\kaggle_3m\\\\TCGA_CS_6186_20000601\\\\TCGA_CS_6186_20000601_6.tif',\n",
       " 'TCGA_CS_6186_20000601',\n",
       " 'data\\\\input\\\\Brain MRI segmentation\\\\kaggle_3m\\\\TCGA_CS_6186_20000601\\\\TCGA_CS_6186_20000601_6_mask.tif',\n",
       " 'TCGA_CS_6186_20000601',\n",
       " 'data\\\\input\\\\Brain MRI segmentation\\\\kaggle_3m\\\\TCGA_CS_6186_20000601\\\\TCGA_CS_6186_20000601_7.tif',\n",
       " 'TCGA_CS_6186_20000601',\n",
       " 'data\\\\input\\\\Brain MRI segmentation\\\\kaggle_3m\\\\TCGA_CS_6186_20000601\\\\TCGA_CS_6186_20000601_7_mask.tif',\n",
       " 'TCGA_CS_6186_20000601',\n",
       " 'data\\\\input\\\\Brain MRI segmentation\\\\kaggle_3m\\\\TCGA_CS_6186_20000601\\\\TCGA_CS_6186_20000601_8.tif',\n",
       " 'TCGA_CS_6186_20000601',\n",
       " 'data\\\\input\\\\Brain MRI segmentation\\\\kaggle_3m\\\\TCGA_CS_6186_20000601\\\\TCGA_CS_6186_20000601_8_mask.tif',\n",
       " 'TCGA_CS_6186_20000601',\n",
       " 'data\\\\input\\\\Brain MRI segmentation\\\\kaggle_3m\\\\TCGA_CS_6186_20000601\\\\TCGA_CS_6186_20000601_9.tif',\n",
       " 'TCGA_CS_6186_20000601',\n",
       " 'data\\\\input\\\\Brain MRI segmentation\\\\kaggle_3m\\\\TCGA_CS_6186_20000601\\\\TCGA_CS_6186_20000601_9_mask.tif',\n",
       " 'TCGA_CS_6188_20010812',\n",
       " 'data\\\\input\\\\Brain MRI segmentation\\\\kaggle_3m\\\\TCGA_CS_6188_20010812\\\\TCGA_CS_6188_20010812_1.tif',\n",
       " 'TCGA_CS_6188_20010812',\n",
       " 'data\\\\input\\\\Brain MRI segmentation\\\\kaggle_3m\\\\TCGA_CS_6188_20010812\\\\TCGA_CS_6188_20010812_10.tif',\n",
       " 'TCGA_CS_6188_20010812',\n",
       " 'data\\\\input\\\\Brain MRI segmentation\\\\kaggle_3m\\\\TCGA_CS_6188_20010812\\\\TCGA_CS_6188_20010812_10_mask.tif',\n",
       " 'TCGA_CS_6188_20010812',\n",
       " 'data\\\\input\\\\Brain MRI segmentation\\\\kaggle_3m\\\\TCGA_CS_6188_20010812\\\\TCGA_CS_6188_20010812_11.tif',\n",
       " 'TCGA_CS_6188_20010812',\n",
       " 'data\\\\input\\\\Brain MRI segmentation\\\\kaggle_3m\\\\TCGA_CS_6188_20010812\\\\TCGA_CS_6188_20010812_11_mask.tif',\n",
       " 'TCGA_CS_6188_20010812',\n",
       " 'data\\\\input\\\\Brain MRI segmentation\\\\kaggle_3m\\\\TCGA_CS_6188_20010812\\\\TCGA_CS_6188_20010812_12.tif',\n",
       " 'TCGA_CS_6188_20010812',\n",
       " 'data\\\\input\\\\Brain MRI segmentation\\\\kaggle_3m\\\\TCGA_CS_6188_20010812\\\\TCGA_CS_6188_20010812_12_mask.tif',\n",
       " 'TCGA_CS_6188_20010812',\n",
       " 'data\\\\input\\\\Brain MRI segmentation\\\\kaggle_3m\\\\TCGA_CS_6188_20010812\\\\TCGA_CS_6188_20010812_13.tif',\n",
       " 'TCGA_CS_6188_20010812',\n",
       " 'data\\\\input\\\\Brain MRI segmentation\\\\kaggle_3m\\\\TCGA_CS_6188_20010812\\\\TCGA_CS_6188_20010812_13_mask.tif',\n",
       " 'TCGA_CS_6188_20010812',\n",
       " 'data\\\\input\\\\Brain MRI segmentation\\\\kaggle_3m\\\\TCGA_CS_6188_20010812\\\\TCGA_CS_6188_20010812_14.tif',\n",
       " 'TCGA_CS_6188_20010812',\n",
       " 'data\\\\input\\\\Brain MRI segmentation\\\\kaggle_3m\\\\TCGA_CS_6188_20010812\\\\TCGA_CS_6188_20010812_14_mask.tif',\n",
       " 'TCGA_CS_6188_20010812',\n",
       " 'data\\\\input\\\\Brain MRI segmentation\\\\kaggle_3m\\\\TCGA_CS_6188_20010812\\\\TCGA_CS_6188_20010812_15.tif',\n",
       " 'TCGA_CS_6188_20010812',\n",
       " 'data\\\\input\\\\Brain MRI segmentation\\\\kaggle_3m\\\\TCGA_CS_6188_20010812\\\\TCGA_CS_6188_20010812_15_mask.tif',\n",
       " 'TCGA_CS_6188_20010812',\n",
       " 'data\\\\input\\\\Brain MRI segmentation\\\\kaggle_3m\\\\TCGA_CS_6188_20010812\\\\TCGA_CS_6188_20010812_16.tif',\n",
       " 'TCGA_CS_6188_20010812',\n",
       " 'data\\\\input\\\\Brain MRI segmentation\\\\kaggle_3m\\\\TCGA_CS_6188_20010812\\\\TCGA_CS_6188_20010812_16_mask.tif',\n",
       " 'TCGA_CS_6188_20010812',\n",
       " 'data\\\\input\\\\Brain MRI segmentation\\\\kaggle_3m\\\\TCGA_CS_6188_20010812\\\\TCGA_CS_6188_20010812_17.tif',\n",
       " 'TCGA_CS_6188_20010812',\n",
       " 'data\\\\input\\\\Brain MRI segmentation\\\\kaggle_3m\\\\TCGA_CS_6188_20010812\\\\TCGA_CS_6188_20010812_17_mask.tif',\n",
       " 'TCGA_CS_6188_20010812',\n",
       " 'data\\\\input\\\\Brain MRI segmentation\\\\kaggle_3m\\\\TCGA_CS_6188_20010812\\\\TCGA_CS_6188_20010812_18.tif',\n",
       " 'TCGA_CS_6188_20010812',\n",
       " 'data\\\\input\\\\Brain MRI segmentation\\\\kaggle_3m\\\\TCGA_CS_6188_20010812\\\\TCGA_CS_6188_20010812_18_mask.tif',\n",
       " 'TCGA_CS_6188_20010812',\n",
       " 'data\\\\input\\\\Brain MRI segmentation\\\\kaggle_3m\\\\TCGA_CS_6188_20010812\\\\TCGA_CS_6188_20010812_19.tif',\n",
       " 'TCGA_CS_6188_20010812',\n",
       " 'data\\\\input\\\\Brain MRI segmentation\\\\kaggle_3m\\\\TCGA_CS_6188_20010812\\\\TCGA_CS_6188_20010812_19_mask.tif',\n",
       " 'TCGA_CS_6188_20010812',\n",
       " 'data\\\\input\\\\Brain MRI segmentation\\\\kaggle_3m\\\\TCGA_CS_6188_20010812\\\\TCGA_CS_6188_20010812_1_mask.tif',\n",
       " 'TCGA_CS_6188_20010812',\n",
       " 'data\\\\input\\\\Brain MRI segmentation\\\\kaggle_3m\\\\TCGA_CS_6188_20010812\\\\TCGA_CS_6188_20010812_2.tif',\n",
       " 'TCGA_CS_6188_20010812',\n",
       " 'data\\\\input\\\\Brain MRI segmentation\\\\kaggle_3m\\\\TCGA_CS_6188_20010812\\\\TCGA_CS_6188_20010812_20.tif',\n",
       " 'TCGA_CS_6188_20010812',\n",
       " 'data\\\\input\\\\Brain MRI segmentation\\\\kaggle_3m\\\\TCGA_CS_6188_20010812\\\\TCGA_CS_6188_20010812_20_mask.tif',\n",
       " 'TCGA_CS_6188_20010812',\n",
       " 'data\\\\input\\\\Brain MRI segmentation\\\\kaggle_3m\\\\TCGA_CS_6188_20010812\\\\TCGA_CS_6188_20010812_21.tif',\n",
       " 'TCGA_CS_6188_20010812',\n",
       " 'data\\\\input\\\\Brain MRI segmentation\\\\kaggle_3m\\\\TCGA_CS_6188_20010812\\\\TCGA_CS_6188_20010812_21_mask.tif',\n",
       " 'TCGA_CS_6188_20010812',\n",
       " 'data\\\\input\\\\Brain MRI segmentation\\\\kaggle_3m\\\\TCGA_CS_6188_20010812\\\\TCGA_CS_6188_20010812_22.tif',\n",
       " 'TCGA_CS_6188_20010812',\n",
       " 'data\\\\input\\\\Brain MRI segmentation\\\\kaggle_3m\\\\TCGA_CS_6188_20010812\\\\TCGA_CS_6188_20010812_22_mask.tif',\n",
       " 'TCGA_CS_6188_20010812',\n",
       " 'data\\\\input\\\\Brain MRI segmentation\\\\kaggle_3m\\\\TCGA_CS_6188_20010812\\\\TCGA_CS_6188_20010812_23.tif',\n",
       " 'TCGA_CS_6188_20010812',\n",
       " 'data\\\\input\\\\Brain MRI segmentation\\\\kaggle_3m\\\\TCGA_CS_6188_20010812\\\\TCGA_CS_6188_20010812_23_mask.tif',\n",
       " 'TCGA_CS_6188_20010812',\n",
       " 'data\\\\input\\\\Brain MRI segmentation\\\\kaggle_3m\\\\TCGA_CS_6188_20010812\\\\TCGA_CS_6188_20010812_24.tif',\n",
       " 'TCGA_CS_6188_20010812',\n",
       " 'data\\\\input\\\\Brain MRI segmentation\\\\kaggle_3m\\\\TCGA_CS_6188_20010812\\\\TCGA_CS_6188_20010812_24_mask.tif',\n",
       " 'TCGA_CS_6188_20010812',\n",
       " 'data\\\\input\\\\Brain MRI segmentation\\\\kaggle_3m\\\\TCGA_CS_6188_20010812\\\\TCGA_CS_6188_20010812_2_mask.tif',\n",
       " 'TCGA_CS_6188_20010812',\n",
       " 'data\\\\input\\\\Brain MRI segmentation\\\\kaggle_3m\\\\TCGA_CS_6188_20010812\\\\TCGA_CS_6188_20010812_3.tif',\n",
       " 'TCGA_CS_6188_20010812',\n",
       " 'data\\\\input\\\\Brain MRI segmentation\\\\kaggle_3m\\\\TCGA_CS_6188_20010812\\\\TCGA_CS_6188_20010812_3_mask.tif',\n",
       " 'TCGA_CS_6188_20010812',\n",
       " 'data\\\\input\\\\Brain MRI segmentation\\\\kaggle_3m\\\\TCGA_CS_6188_20010812\\\\TCGA_CS_6188_20010812_4.tif',\n",
       " 'TCGA_CS_6188_20010812',\n",
       " 'data\\\\input\\\\Brain MRI segmentation\\\\kaggle_3m\\\\TCGA_CS_6188_20010812\\\\TCGA_CS_6188_20010812_4_mask.tif',\n",
       " 'TCGA_CS_6188_20010812',\n",
       " 'data\\\\input\\\\Brain MRI segmentation\\\\kaggle_3m\\\\TCGA_CS_6188_20010812\\\\TCGA_CS_6188_20010812_5.tif',\n",
       " 'TCGA_CS_6188_20010812',\n",
       " 'data\\\\input\\\\Brain MRI segmentation\\\\kaggle_3m\\\\TCGA_CS_6188_20010812\\\\TCGA_CS_6188_20010812_5_mask.tif',\n",
       " 'TCGA_CS_6188_20010812',\n",
       " 'data\\\\input\\\\Brain MRI segmentation\\\\kaggle_3m\\\\TCGA_CS_6188_20010812\\\\TCGA_CS_6188_20010812_6.tif',\n",
       " 'TCGA_CS_6188_20010812',\n",
       " 'data\\\\input\\\\Brain MRI segmentation\\\\kaggle_3m\\\\TCGA_CS_6188_20010812\\\\TCGA_CS_6188_20010812_6_mask.tif',\n",
       " 'TCGA_CS_6188_20010812',\n",
       " 'data\\\\input\\\\Brain MRI segmentation\\\\kaggle_3m\\\\TCGA_CS_6188_20010812\\\\TCGA_CS_6188_20010812_7.tif',\n",
       " 'TCGA_CS_6188_20010812',\n",
       " 'data\\\\input\\\\Brain MRI segmentation\\\\kaggle_3m\\\\TCGA_CS_6188_20010812\\\\TCGA_CS_6188_20010812_7_mask.tif',\n",
       " 'TCGA_CS_6188_20010812',\n",
       " 'data\\\\input\\\\Brain MRI segmentation\\\\kaggle_3m\\\\TCGA_CS_6188_20010812\\\\TCGA_CS_6188_20010812_8.tif',\n",
       " 'TCGA_CS_6188_20010812',\n",
       " 'data\\\\input\\\\Brain MRI segmentation\\\\kaggle_3m\\\\TCGA_CS_6188_20010812\\\\TCGA_CS_6188_20010812_8_mask.tif',\n",
       " 'TCGA_CS_6188_20010812',\n",
       " 'data\\\\input\\\\Brain MRI segmentation\\\\kaggle_3m\\\\TCGA_CS_6188_20010812\\\\TCGA_CS_6188_20010812_9.tif',\n",
       " 'TCGA_CS_6188_20010812',\n",
       " 'data\\\\input\\\\Brain MRI segmentation\\\\kaggle_3m\\\\TCGA_CS_6188_20010812\\\\TCGA_CS_6188_20010812_9_mask.tif',\n",
       " 'TCGA_CS_6290_20000917',\n",
       " 'data\\\\input\\\\Brain MRI segmentation\\\\kaggle_3m\\\\TCGA_CS_6290_20000917\\\\TCGA_CS_6290_20000917_1.tif',\n",
       " 'TCGA_CS_6290_20000917',\n",
       " 'data\\\\input\\\\Brain MRI segmentation\\\\kaggle_3m\\\\TCGA_CS_6290_20000917\\\\TCGA_CS_6290_20000917_10.tif',\n",
       " 'TCGA_CS_6290_20000917',\n",
       " 'data\\\\input\\\\Brain MRI segmentation\\\\kaggle_3m\\\\TCGA_CS_6290_20000917\\\\TCGA_CS_6290_20000917_10_mask.tif',\n",
       " 'TCGA_CS_6290_20000917',\n",
       " 'data\\\\input\\\\Brain MRI segmentation\\\\kaggle_3m\\\\TCGA_CS_6290_20000917\\\\TCGA_CS_6290_20000917_11.tif',\n",
       " 'TCGA_CS_6290_20000917',\n",
       " 'data\\\\input\\\\Brain MRI segmentation\\\\kaggle_3m\\\\TCGA_CS_6290_20000917\\\\TCGA_CS_6290_20000917_11_mask.tif',\n",
       " 'TCGA_CS_6290_20000917',\n",
       " 'data\\\\input\\\\Brain MRI segmentation\\\\kaggle_3m\\\\TCGA_CS_6290_20000917\\\\TCGA_CS_6290_20000917_12.tif',\n",
       " 'TCGA_CS_6290_20000917',\n",
       " 'data\\\\input\\\\Brain MRI segmentation\\\\kaggle_3m\\\\TCGA_CS_6290_20000917\\\\TCGA_CS_6290_20000917_12_mask.tif',\n",
       " 'TCGA_CS_6290_20000917',\n",
       " 'data\\\\input\\\\Brain MRI segmentation\\\\kaggle_3m\\\\TCGA_CS_6290_20000917\\\\TCGA_CS_6290_20000917_13.tif',\n",
       " 'TCGA_CS_6290_20000917',\n",
       " 'data\\\\input\\\\Brain MRI segmentation\\\\kaggle_3m\\\\TCGA_CS_6290_20000917\\\\TCGA_CS_6290_20000917_13_mask.tif',\n",
       " 'TCGA_CS_6290_20000917',\n",
       " 'data\\\\input\\\\Brain MRI segmentation\\\\kaggle_3m\\\\TCGA_CS_6290_20000917\\\\TCGA_CS_6290_20000917_14.tif',\n",
       " 'TCGA_CS_6290_20000917',\n",
       " 'data\\\\input\\\\Brain MRI segmentation\\\\kaggle_3m\\\\TCGA_CS_6290_20000917\\\\TCGA_CS_6290_20000917_14_mask.tif',\n",
       " 'TCGA_CS_6290_20000917',\n",
       " 'data\\\\input\\\\Brain MRI segmentation\\\\kaggle_3m\\\\TCGA_CS_6290_20000917\\\\TCGA_CS_6290_20000917_15.tif',\n",
       " 'TCGA_CS_6290_20000917',\n",
       " 'data\\\\input\\\\Brain MRI segmentation\\\\kaggle_3m\\\\TCGA_CS_6290_20000917\\\\TCGA_CS_6290_20000917_15_mask.tif',\n",
       " 'TCGA_CS_6290_20000917',\n",
       " 'data\\\\input\\\\Brain MRI segmentation\\\\kaggle_3m\\\\TCGA_CS_6290_20000917\\\\TCGA_CS_6290_20000917_16.tif',\n",
       " 'TCGA_CS_6290_20000917',\n",
       " 'data\\\\input\\\\Brain MRI segmentation\\\\kaggle_3m\\\\TCGA_CS_6290_20000917\\\\TCGA_CS_6290_20000917_16_mask.tif',\n",
       " 'TCGA_CS_6290_20000917',\n",
       " 'data\\\\input\\\\Brain MRI segmentation\\\\kaggle_3m\\\\TCGA_CS_6290_20000917\\\\TCGA_CS_6290_20000917_17.tif',\n",
       " 'TCGA_CS_6290_20000917',\n",
       " 'data\\\\input\\\\Brain MRI segmentation\\\\kaggle_3m\\\\TCGA_CS_6290_20000917\\\\TCGA_CS_6290_20000917_17_mask.tif',\n",
       " 'TCGA_CS_6290_20000917',\n",
       " 'data\\\\input\\\\Brain MRI segmentation\\\\kaggle_3m\\\\TCGA_CS_6290_20000917\\\\TCGA_CS_6290_20000917_18.tif',\n",
       " 'TCGA_CS_6290_20000917',\n",
       " 'data\\\\input\\\\Brain MRI segmentation\\\\kaggle_3m\\\\TCGA_CS_6290_20000917\\\\TCGA_CS_6290_20000917_18_mask.tif',\n",
       " 'TCGA_CS_6290_20000917',\n",
       " 'data\\\\input\\\\Brain MRI segmentation\\\\kaggle_3m\\\\TCGA_CS_6290_20000917\\\\TCGA_CS_6290_20000917_19.tif',\n",
       " 'TCGA_CS_6290_20000917',\n",
       " 'data\\\\input\\\\Brain MRI segmentation\\\\kaggle_3m\\\\TCGA_CS_6290_20000917\\\\TCGA_CS_6290_20000917_19_mask.tif',\n",
       " 'TCGA_CS_6290_20000917',\n",
       " 'data\\\\input\\\\Brain MRI segmentation\\\\kaggle_3m\\\\TCGA_CS_6290_20000917\\\\TCGA_CS_6290_20000917_1_mask.tif',\n",
       " 'TCGA_CS_6290_20000917',\n",
       " 'data\\\\input\\\\Brain MRI segmentation\\\\kaggle_3m\\\\TCGA_CS_6290_20000917\\\\TCGA_CS_6290_20000917_2.tif',\n",
       " 'TCGA_CS_6290_20000917',\n",
       " 'data\\\\input\\\\Brain MRI segmentation\\\\kaggle_3m\\\\TCGA_CS_6290_20000917\\\\TCGA_CS_6290_20000917_20.tif',\n",
       " 'TCGA_CS_6290_20000917',\n",
       " 'data\\\\input\\\\Brain MRI segmentation\\\\kaggle_3m\\\\TCGA_CS_6290_20000917\\\\TCGA_CS_6290_20000917_20_mask.tif',\n",
       " 'TCGA_CS_6290_20000917',\n",
       " 'data\\\\input\\\\Brain MRI segmentation\\\\kaggle_3m\\\\TCGA_CS_6290_20000917\\\\TCGA_CS_6290_20000917_2_mask.tif',\n",
       " 'TCGA_CS_6290_20000917',\n",
       " 'data\\\\input\\\\Brain MRI segmentation\\\\kaggle_3m\\\\TCGA_CS_6290_20000917\\\\TCGA_CS_6290_20000917_3.tif',\n",
       " 'TCGA_CS_6290_20000917',\n",
       " 'data\\\\input\\\\Brain MRI segmentation\\\\kaggle_3m\\\\TCGA_CS_6290_20000917\\\\TCGA_CS_6290_20000917_3_mask.tif',\n",
       " 'TCGA_CS_6290_20000917',\n",
       " 'data\\\\input\\\\Brain MRI segmentation\\\\kaggle_3m\\\\TCGA_CS_6290_20000917\\\\TCGA_CS_6290_20000917_4.tif',\n",
       " 'TCGA_CS_6290_20000917',\n",
       " 'data\\\\input\\\\Brain MRI segmentation\\\\kaggle_3m\\\\TCGA_CS_6290_20000917\\\\TCGA_CS_6290_20000917_4_mask.tif',\n",
       " 'TCGA_CS_6290_20000917',\n",
       " 'data\\\\input\\\\Brain MRI segmentation\\\\kaggle_3m\\\\TCGA_CS_6290_20000917\\\\TCGA_CS_6290_20000917_5.tif',\n",
       " 'TCGA_CS_6290_20000917',\n",
       " 'data\\\\input\\\\Brain MRI segmentation\\\\kaggle_3m\\\\TCGA_CS_6290_20000917\\\\TCGA_CS_6290_20000917_5_mask.tif',\n",
       " 'TCGA_CS_6290_20000917',\n",
       " 'data\\\\input\\\\Brain MRI segmentation\\\\kaggle_3m\\\\TCGA_CS_6290_20000917\\\\TCGA_CS_6290_20000917_6.tif',\n",
       " 'TCGA_CS_6290_20000917',\n",
       " 'data\\\\input\\\\Brain MRI segmentation\\\\kaggle_3m\\\\TCGA_CS_6290_20000917\\\\TCGA_CS_6290_20000917_6_mask.tif',\n",
       " 'TCGA_CS_6290_20000917',\n",
       " 'data\\\\input\\\\Brain MRI segmentation\\\\kaggle_3m\\\\TCGA_CS_6290_20000917\\\\TCGA_CS_6290_20000917_7.tif',\n",
       " 'TCGA_CS_6290_20000917',\n",
       " 'data\\\\input\\\\Brain MRI segmentation\\\\kaggle_3m\\\\TCGA_CS_6290_20000917\\\\TCGA_CS_6290_20000917_7_mask.tif',\n",
       " 'TCGA_CS_6290_20000917',\n",
       " 'data\\\\input\\\\Brain MRI segmentation\\\\kaggle_3m\\\\TCGA_CS_6290_20000917\\\\TCGA_CS_6290_20000917_8.tif',\n",
       " 'TCGA_CS_6290_20000917',\n",
       " 'data\\\\input\\\\Brain MRI segmentation\\\\kaggle_3m\\\\TCGA_CS_6290_20000917\\\\TCGA_CS_6290_20000917_8_mask.tif',\n",
       " 'TCGA_CS_6290_20000917',\n",
       " 'data\\\\input\\\\Brain MRI segmentation\\\\kaggle_3m\\\\TCGA_CS_6290_20000917\\\\TCGA_CS_6290_20000917_9.tif',\n",
       " 'TCGA_CS_6290_20000917',\n",
       " 'data\\\\input\\\\Brain MRI segmentation\\\\kaggle_3m\\\\TCGA_CS_6290_20000917\\\\TCGA_CS_6290_20000917_9_mask.tif',\n",
       " 'TCGA_CS_6665_20010817',\n",
       " 'data\\\\input\\\\Brain MRI segmentation\\\\kaggle_3m\\\\TCGA_CS_6665_20010817\\\\TCGA_CS_6665_20010817_1.tif',\n",
       " 'TCGA_CS_6665_20010817',\n",
       " 'data\\\\input\\\\Brain MRI segmentation\\\\kaggle_3m\\\\TCGA_CS_6665_20010817\\\\TCGA_CS_6665_20010817_10.tif',\n",
       " 'TCGA_CS_6665_20010817',\n",
       " 'data\\\\input\\\\Brain MRI segmentation\\\\kaggle_3m\\\\TCGA_CS_6665_20010817\\\\TCGA_CS_6665_20010817_10_mask.tif',\n",
       " 'TCGA_CS_6665_20010817',\n",
       " 'data\\\\input\\\\Brain MRI segmentation\\\\kaggle_3m\\\\TCGA_CS_6665_20010817\\\\TCGA_CS_6665_20010817_11.tif',\n",
       " 'TCGA_CS_6665_20010817',\n",
       " 'data\\\\input\\\\Brain MRI segmentation\\\\kaggle_3m\\\\TCGA_CS_6665_20010817\\\\TCGA_CS_6665_20010817_11_mask.tif',\n",
       " 'TCGA_CS_6665_20010817',\n",
       " 'data\\\\input\\\\Brain MRI segmentation\\\\kaggle_3m\\\\TCGA_CS_6665_20010817\\\\TCGA_CS_6665_20010817_12.tif',\n",
       " 'TCGA_CS_6665_20010817',\n",
       " 'data\\\\input\\\\Brain MRI segmentation\\\\kaggle_3m\\\\TCGA_CS_6665_20010817\\\\TCGA_CS_6665_20010817_12_mask.tif',\n",
       " 'TCGA_CS_6665_20010817',\n",
       " 'data\\\\input\\\\Brain MRI segmentation\\\\kaggle_3m\\\\TCGA_CS_6665_20010817\\\\TCGA_CS_6665_20010817_13.tif',\n",
       " 'TCGA_CS_6665_20010817',\n",
       " 'data\\\\input\\\\Brain MRI segmentation\\\\kaggle_3m\\\\TCGA_CS_6665_20010817\\\\TCGA_CS_6665_20010817_13_mask.tif',\n",
       " 'TCGA_CS_6665_20010817',\n",
       " 'data\\\\input\\\\Brain MRI segmentation\\\\kaggle_3m\\\\TCGA_CS_6665_20010817\\\\TCGA_CS_6665_20010817_14.tif',\n",
       " 'TCGA_CS_6665_20010817',\n",
       " 'data\\\\input\\\\Brain MRI segmentation\\\\kaggle_3m\\\\TCGA_CS_6665_20010817\\\\TCGA_CS_6665_20010817_14_mask.tif',\n",
       " 'TCGA_CS_6665_20010817',\n",
       " 'data\\\\input\\\\Brain MRI segmentation\\\\kaggle_3m\\\\TCGA_CS_6665_20010817\\\\TCGA_CS_6665_20010817_15.tif',\n",
       " 'TCGA_CS_6665_20010817',\n",
       " 'data\\\\input\\\\Brain MRI segmentation\\\\kaggle_3m\\\\TCGA_CS_6665_20010817\\\\TCGA_CS_6665_20010817_15_mask.tif',\n",
       " 'TCGA_CS_6665_20010817',\n",
       " 'data\\\\input\\\\Brain MRI segmentation\\\\kaggle_3m\\\\TCGA_CS_6665_20010817\\\\TCGA_CS_6665_20010817_16.tif',\n",
       " 'TCGA_CS_6665_20010817',\n",
       " 'data\\\\input\\\\Brain MRI segmentation\\\\kaggle_3m\\\\TCGA_CS_6665_20010817\\\\TCGA_CS_6665_20010817_16_mask.tif',\n",
       " 'TCGA_CS_6665_20010817',\n",
       " 'data\\\\input\\\\Brain MRI segmentation\\\\kaggle_3m\\\\TCGA_CS_6665_20010817\\\\TCGA_CS_6665_20010817_17.tif',\n",
       " 'TCGA_CS_6665_20010817',\n",
       " 'data\\\\input\\\\Brain MRI segmentation\\\\kaggle_3m\\\\TCGA_CS_6665_20010817\\\\TCGA_CS_6665_20010817_17_mask.tif',\n",
       " 'TCGA_CS_6665_20010817',\n",
       " 'data\\\\input\\\\Brain MRI segmentation\\\\kaggle_3m\\\\TCGA_CS_6665_20010817\\\\TCGA_CS_6665_20010817_18.tif',\n",
       " 'TCGA_CS_6665_20010817',\n",
       " 'data\\\\input\\\\Brain MRI segmentation\\\\kaggle_3m\\\\TCGA_CS_6665_20010817\\\\TCGA_CS_6665_20010817_18_mask.tif',\n",
       " 'TCGA_CS_6665_20010817',\n",
       " 'data\\\\input\\\\Brain MRI segmentation\\\\kaggle_3m\\\\TCGA_CS_6665_20010817\\\\TCGA_CS_6665_20010817_19.tif',\n",
       " 'TCGA_CS_6665_20010817',\n",
       " 'data\\\\input\\\\Brain MRI segmentation\\\\kaggle_3m\\\\TCGA_CS_6665_20010817\\\\TCGA_CS_6665_20010817_19_mask.tif',\n",
       " 'TCGA_CS_6665_20010817',\n",
       " 'data\\\\input\\\\Brain MRI segmentation\\\\kaggle_3m\\\\TCGA_CS_6665_20010817\\\\TCGA_CS_6665_20010817_1_mask.tif',\n",
       " 'TCGA_CS_6665_20010817',\n",
       " 'data\\\\input\\\\Brain MRI segmentation\\\\kaggle_3m\\\\TCGA_CS_6665_20010817\\\\TCGA_CS_6665_20010817_2.tif',\n",
       " 'TCGA_CS_6665_20010817',\n",
       " 'data\\\\input\\\\Brain MRI segmentation\\\\kaggle_3m\\\\TCGA_CS_6665_20010817\\\\TCGA_CS_6665_20010817_20.tif',\n",
       " ...]"
      ]
     },
     "execution_count": 6,
     "metadata": {},
     "output_type": "execute_result"
    }
   ],
   "source": [
    "data_path"
   ]
  },
  {
   "cell_type": "markdown",
   "id": "e4e8d737",
   "metadata": {},
   "source": [
    "En el código, `filenames` y `masks` se utilizan para separar las rutas de los archivos de imágenes y máscaras de segmentación almacenadas en la lista `data_path`. La variable `filenames` se asigna a los elementos de `data_path` que están en las posiciones pares, lo que representa las rutas de las imágenes de los pacientes. Por otro lado, `masks` se asigna a los elementos en las posiciones impares de `data_path`, que corresponden a las rutas de las máscaras de segmentación. Esta separación permite acceder fácilmente a las imágenes y sus respectivas máscaras para su posterior procesamiento en el análisis de datos."
   ]
  },
  {
   "cell_type": "code",
   "execution_count": 7,
   "id": "d9f2c623",
   "metadata": {
    "execution": {
     "iopub.execute_input": "2023-05-28T13:28:35.449472Z",
     "iopub.status.busy": "2023-05-28T13:28:35.448542Z",
     "iopub.status.idle": "2023-05-28T13:28:35.453917Z",
     "shell.execute_reply": "2023-05-28T13:28:35.453014Z"
    },
    "papermill": {
     "duration": 0.023183,
     "end_time": "2023-05-28T13:28:35.45606",
     "exception": false,
     "start_time": "2023-05-28T13:28:35.432877",
     "status": "completed"
    },
    "tags": []
   },
   "outputs": [],
   "source": [
    "filenames = data_path[::2]\n",
    "masks = data_path[1::2]"
   ]
  },
  {
   "cell_type": "markdown",
   "id": "faf21b03",
   "metadata": {},
   "source": [
    "En esta línea de código, se crea un DataFrame llamado `df` utilizando la biblioteca `pandas`. Este DataFrame se construye a partir de un diccionario que contiene dos claves: `\"patient_id\"` y `\"img_path\"`. La clave `\"patient_id\"` se asigna a la lista `filenames`, que contiene las rutas de las imágenes de los pacientes, mientras que la clave `\"img_path\"` se asigna a la lista `masks`, que contiene las rutas de las máscaras de segmentación correspondientes. Al final, el DataFrame `df` organiza esta información en un formato tabular, facilitando el acceso y la manipulación de los datos relacionados con las imágenes y sus respectivas máscaras para el análisis posterior."
   ]
  },
  {
   "cell_type": "code",
   "execution_count": 8,
   "id": "50fcf2fd",
   "metadata": {
    "execution": {
     "iopub.execute_input": "2023-05-28T13:28:35.486747Z",
     "iopub.status.busy": "2023-05-28T13:28:35.485938Z",
     "iopub.status.idle": "2023-05-28T13:28:35.499491Z",
     "shell.execute_reply": "2023-05-28T13:28:35.498554Z"
    },
    "papermill": {
     "duration": 0.031187,
     "end_time": "2023-05-28T13:28:35.501707",
     "exception": false,
     "start_time": "2023-05-28T13:28:35.47052",
     "status": "completed"
    },
    "tags": []
   },
   "outputs": [
    {
     "data": {
      "application/vnd.microsoft.datawrangler.viewer.v0+json": {
       "columns": [
        {
         "name": "index",
         "rawType": "int64",
         "type": "integer"
        },
        {
         "name": "patient_id",
         "rawType": "object",
         "type": "string"
        },
        {
         "name": "img_path",
         "rawType": "object",
         "type": "string"
        }
       ],
       "ref": "d7340769-f041-407f-b29e-75e88241ad4b",
       "rows": [
        [
         "0",
         "TCGA_CS_4941_19960909",
         "data\\input\\Brain MRI segmentation\\kaggle_3m\\TCGA_CS_4941_19960909\\TCGA_CS_4941_19960909_1.tif"
        ],
        [
         "1",
         "TCGA_CS_4941_19960909",
         "data\\input\\Brain MRI segmentation\\kaggle_3m\\TCGA_CS_4941_19960909\\TCGA_CS_4941_19960909_10.tif"
        ],
        [
         "2",
         "TCGA_CS_4941_19960909",
         "data\\input\\Brain MRI segmentation\\kaggle_3m\\TCGA_CS_4941_19960909\\TCGA_CS_4941_19960909_10_mask.tif"
        ],
        [
         "3",
         "TCGA_CS_4941_19960909",
         "data\\input\\Brain MRI segmentation\\kaggle_3m\\TCGA_CS_4941_19960909\\TCGA_CS_4941_19960909_11.tif"
        ],
        [
         "4",
         "TCGA_CS_4941_19960909",
         "data\\input\\Brain MRI segmentation\\kaggle_3m\\TCGA_CS_4941_19960909\\TCGA_CS_4941_19960909_11_mask.tif"
        ],
        [
         "5",
         "TCGA_CS_4941_19960909",
         "data\\input\\Brain MRI segmentation\\kaggle_3m\\TCGA_CS_4941_19960909\\TCGA_CS_4941_19960909_12.tif"
        ],
        [
         "6",
         "TCGA_CS_4941_19960909",
         "data\\input\\Brain MRI segmentation\\kaggle_3m\\TCGA_CS_4941_19960909\\TCGA_CS_4941_19960909_12_mask.tif"
        ],
        [
         "7",
         "TCGA_CS_4941_19960909",
         "data\\input\\Brain MRI segmentation\\kaggle_3m\\TCGA_CS_4941_19960909\\TCGA_CS_4941_19960909_13.tif"
        ],
        [
         "8",
         "TCGA_CS_4941_19960909",
         "data\\input\\Brain MRI segmentation\\kaggle_3m\\TCGA_CS_4941_19960909\\TCGA_CS_4941_19960909_13_mask.tif"
        ],
        [
         "9",
         "TCGA_CS_4941_19960909",
         "data\\input\\Brain MRI segmentation\\kaggle_3m\\TCGA_CS_4941_19960909\\TCGA_CS_4941_19960909_14.tif"
        ],
        [
         "10",
         "TCGA_CS_4941_19960909",
         "data\\input\\Brain MRI segmentation\\kaggle_3m\\TCGA_CS_4941_19960909\\TCGA_CS_4941_19960909_14_mask.tif"
        ],
        [
         "11",
         "TCGA_CS_4941_19960909",
         "data\\input\\Brain MRI segmentation\\kaggle_3m\\TCGA_CS_4941_19960909\\TCGA_CS_4941_19960909_15.tif"
        ],
        [
         "12",
         "TCGA_CS_4941_19960909",
         "data\\input\\Brain MRI segmentation\\kaggle_3m\\TCGA_CS_4941_19960909\\TCGA_CS_4941_19960909_15_mask.tif"
        ],
        [
         "13",
         "TCGA_CS_4941_19960909",
         "data\\input\\Brain MRI segmentation\\kaggle_3m\\TCGA_CS_4941_19960909\\TCGA_CS_4941_19960909_16.tif"
        ],
        [
         "14",
         "TCGA_CS_4941_19960909",
         "data\\input\\Brain MRI segmentation\\kaggle_3m\\TCGA_CS_4941_19960909\\TCGA_CS_4941_19960909_16_mask.tif"
        ],
        [
         "15",
         "TCGA_CS_4941_19960909",
         "data\\input\\Brain MRI segmentation\\kaggle_3m\\TCGA_CS_4941_19960909\\TCGA_CS_4941_19960909_17.tif"
        ],
        [
         "16",
         "TCGA_CS_4941_19960909",
         "data\\input\\Brain MRI segmentation\\kaggle_3m\\TCGA_CS_4941_19960909\\TCGA_CS_4941_19960909_17_mask.tif"
        ],
        [
         "17",
         "TCGA_CS_4941_19960909",
         "data\\input\\Brain MRI segmentation\\kaggle_3m\\TCGA_CS_4941_19960909\\TCGA_CS_4941_19960909_18.tif"
        ],
        [
         "18",
         "TCGA_CS_4941_19960909",
         "data\\input\\Brain MRI segmentation\\kaggle_3m\\TCGA_CS_4941_19960909\\TCGA_CS_4941_19960909_18_mask.tif"
        ],
        [
         "19",
         "TCGA_CS_4941_19960909",
         "data\\input\\Brain MRI segmentation\\kaggle_3m\\TCGA_CS_4941_19960909\\TCGA_CS_4941_19960909_19.tif"
        ],
        [
         "20",
         "TCGA_CS_4941_19960909",
         "data\\input\\Brain MRI segmentation\\kaggle_3m\\TCGA_CS_4941_19960909\\TCGA_CS_4941_19960909_19_mask.tif"
        ],
        [
         "21",
         "TCGA_CS_4941_19960909",
         "data\\input\\Brain MRI segmentation\\kaggle_3m\\TCGA_CS_4941_19960909\\TCGA_CS_4941_19960909_1_mask.tif"
        ],
        [
         "22",
         "TCGA_CS_4941_19960909",
         "data\\input\\Brain MRI segmentation\\kaggle_3m\\TCGA_CS_4941_19960909\\TCGA_CS_4941_19960909_2.tif"
        ],
        [
         "23",
         "TCGA_CS_4941_19960909",
         "data\\input\\Brain MRI segmentation\\kaggle_3m\\TCGA_CS_4941_19960909\\TCGA_CS_4941_19960909_20.tif"
        ],
        [
         "24",
         "TCGA_CS_4941_19960909",
         "data\\input\\Brain MRI segmentation\\kaggle_3m\\TCGA_CS_4941_19960909\\TCGA_CS_4941_19960909_20_mask.tif"
        ],
        [
         "25",
         "TCGA_CS_4941_19960909",
         "data\\input\\Brain MRI segmentation\\kaggle_3m\\TCGA_CS_4941_19960909\\TCGA_CS_4941_19960909_21.tif"
        ],
        [
         "26",
         "TCGA_CS_4941_19960909",
         "data\\input\\Brain MRI segmentation\\kaggle_3m\\TCGA_CS_4941_19960909\\TCGA_CS_4941_19960909_21_mask.tif"
        ],
        [
         "27",
         "TCGA_CS_4941_19960909",
         "data\\input\\Brain MRI segmentation\\kaggle_3m\\TCGA_CS_4941_19960909\\TCGA_CS_4941_19960909_22.tif"
        ],
        [
         "28",
         "TCGA_CS_4941_19960909",
         "data\\input\\Brain MRI segmentation\\kaggle_3m\\TCGA_CS_4941_19960909\\TCGA_CS_4941_19960909_22_mask.tif"
        ],
        [
         "29",
         "TCGA_CS_4941_19960909",
         "data\\input\\Brain MRI segmentation\\kaggle_3m\\TCGA_CS_4941_19960909\\TCGA_CS_4941_19960909_23.tif"
        ],
        [
         "30",
         "TCGA_CS_4941_19960909",
         "data\\input\\Brain MRI segmentation\\kaggle_3m\\TCGA_CS_4941_19960909\\TCGA_CS_4941_19960909_23_mask.tif"
        ],
        [
         "31",
         "TCGA_CS_4941_19960909",
         "data\\input\\Brain MRI segmentation\\kaggle_3m\\TCGA_CS_4941_19960909\\TCGA_CS_4941_19960909_2_mask.tif"
        ],
        [
         "32",
         "TCGA_CS_4941_19960909",
         "data\\input\\Brain MRI segmentation\\kaggle_3m\\TCGA_CS_4941_19960909\\TCGA_CS_4941_19960909_3.tif"
        ],
        [
         "33",
         "TCGA_CS_4941_19960909",
         "data\\input\\Brain MRI segmentation\\kaggle_3m\\TCGA_CS_4941_19960909\\TCGA_CS_4941_19960909_3_mask.tif"
        ],
        [
         "34",
         "TCGA_CS_4941_19960909",
         "data\\input\\Brain MRI segmentation\\kaggle_3m\\TCGA_CS_4941_19960909\\TCGA_CS_4941_19960909_4.tif"
        ],
        [
         "35",
         "TCGA_CS_4941_19960909",
         "data\\input\\Brain MRI segmentation\\kaggle_3m\\TCGA_CS_4941_19960909\\TCGA_CS_4941_19960909_4_mask.tif"
        ],
        [
         "36",
         "TCGA_CS_4941_19960909",
         "data\\input\\Brain MRI segmentation\\kaggle_3m\\TCGA_CS_4941_19960909\\TCGA_CS_4941_19960909_5.tif"
        ],
        [
         "37",
         "TCGA_CS_4941_19960909",
         "data\\input\\Brain MRI segmentation\\kaggle_3m\\TCGA_CS_4941_19960909\\TCGA_CS_4941_19960909_5_mask.tif"
        ],
        [
         "38",
         "TCGA_CS_4941_19960909",
         "data\\input\\Brain MRI segmentation\\kaggle_3m\\TCGA_CS_4941_19960909\\TCGA_CS_4941_19960909_6.tif"
        ],
        [
         "39",
         "TCGA_CS_4941_19960909",
         "data\\input\\Brain MRI segmentation\\kaggle_3m\\TCGA_CS_4941_19960909\\TCGA_CS_4941_19960909_6_mask.tif"
        ],
        [
         "40",
         "TCGA_CS_4941_19960909",
         "data\\input\\Brain MRI segmentation\\kaggle_3m\\TCGA_CS_4941_19960909\\TCGA_CS_4941_19960909_7.tif"
        ],
        [
         "41",
         "TCGA_CS_4941_19960909",
         "data\\input\\Brain MRI segmentation\\kaggle_3m\\TCGA_CS_4941_19960909\\TCGA_CS_4941_19960909_7_mask.tif"
        ],
        [
         "42",
         "TCGA_CS_4941_19960909",
         "data\\input\\Brain MRI segmentation\\kaggle_3m\\TCGA_CS_4941_19960909\\TCGA_CS_4941_19960909_8.tif"
        ],
        [
         "43",
         "TCGA_CS_4941_19960909",
         "data\\input\\Brain MRI segmentation\\kaggle_3m\\TCGA_CS_4941_19960909\\TCGA_CS_4941_19960909_8_mask.tif"
        ],
        [
         "44",
         "TCGA_CS_4941_19960909",
         "data\\input\\Brain MRI segmentation\\kaggle_3m\\TCGA_CS_4941_19960909\\TCGA_CS_4941_19960909_9.tif"
        ],
        [
         "45",
         "TCGA_CS_4941_19960909",
         "data\\input\\Brain MRI segmentation\\kaggle_3m\\TCGA_CS_4941_19960909\\TCGA_CS_4941_19960909_9_mask.tif"
        ],
        [
         "46",
         "TCGA_CS_4942_19970222",
         "data\\input\\Brain MRI segmentation\\kaggle_3m\\TCGA_CS_4942_19970222\\TCGA_CS_4942_19970222_1.tif"
        ],
        [
         "47",
         "TCGA_CS_4942_19970222",
         "data\\input\\Brain MRI segmentation\\kaggle_3m\\TCGA_CS_4942_19970222\\TCGA_CS_4942_19970222_10.tif"
        ],
        [
         "48",
         "TCGA_CS_4942_19970222",
         "data\\input\\Brain MRI segmentation\\kaggle_3m\\TCGA_CS_4942_19970222\\TCGA_CS_4942_19970222_10_mask.tif"
        ],
        [
         "49",
         "TCGA_CS_4942_19970222",
         "data\\input\\Brain MRI segmentation\\kaggle_3m\\TCGA_CS_4942_19970222\\TCGA_CS_4942_19970222_11.tif"
        ]
       ],
       "shape": {
        "columns": 2,
        "rows": 7858
       }
      },
      "text/html": [
       "<div>\n",
       "<style scoped>\n",
       "    .dataframe tbody tr th:only-of-type {\n",
       "        vertical-align: middle;\n",
       "    }\n",
       "\n",
       "    .dataframe tbody tr th {\n",
       "        vertical-align: top;\n",
       "    }\n",
       "\n",
       "    .dataframe thead th {\n",
       "        text-align: right;\n",
       "    }\n",
       "</style>\n",
       "<table border=\"1\" class=\"dataframe\">\n",
       "  <thead>\n",
       "    <tr style=\"text-align: right;\">\n",
       "      <th></th>\n",
       "      <th>patient_id</th>\n",
       "      <th>img_path</th>\n",
       "    </tr>\n",
       "  </thead>\n",
       "  <tbody>\n",
       "    <tr>\n",
       "      <th>0</th>\n",
       "      <td>TCGA_CS_4941_19960909</td>\n",
       "      <td>data\\input\\Brain MRI segmentation\\kaggle_3m\\TC...</td>\n",
       "    </tr>\n",
       "    <tr>\n",
       "      <th>1</th>\n",
       "      <td>TCGA_CS_4941_19960909</td>\n",
       "      <td>data\\input\\Brain MRI segmentation\\kaggle_3m\\TC...</td>\n",
       "    </tr>\n",
       "    <tr>\n",
       "      <th>2</th>\n",
       "      <td>TCGA_CS_4941_19960909</td>\n",
       "      <td>data\\input\\Brain MRI segmentation\\kaggle_3m\\TC...</td>\n",
       "    </tr>\n",
       "    <tr>\n",
       "      <th>3</th>\n",
       "      <td>TCGA_CS_4941_19960909</td>\n",
       "      <td>data\\input\\Brain MRI segmentation\\kaggle_3m\\TC...</td>\n",
       "    </tr>\n",
       "    <tr>\n",
       "      <th>4</th>\n",
       "      <td>TCGA_CS_4941_19960909</td>\n",
       "      <td>data\\input\\Brain MRI segmentation\\kaggle_3m\\TC...</td>\n",
       "    </tr>\n",
       "    <tr>\n",
       "      <th>...</th>\n",
       "      <td>...</td>\n",
       "      <td>...</td>\n",
       "    </tr>\n",
       "    <tr>\n",
       "      <th>7853</th>\n",
       "      <td>TCGA_HT_A61B_19991127</td>\n",
       "      <td>data\\input\\Brain MRI segmentation\\kaggle_3m\\TC...</td>\n",
       "    </tr>\n",
       "    <tr>\n",
       "      <th>7854</th>\n",
       "      <td>TCGA_HT_A61B_19991127</td>\n",
       "      <td>data\\input\\Brain MRI segmentation\\kaggle_3m\\TC...</td>\n",
       "    </tr>\n",
       "    <tr>\n",
       "      <th>7855</th>\n",
       "      <td>TCGA_HT_A61B_19991127</td>\n",
       "      <td>data\\input\\Brain MRI segmentation\\kaggle_3m\\TC...</td>\n",
       "    </tr>\n",
       "    <tr>\n",
       "      <th>7856</th>\n",
       "      <td>TCGA_HT_A61B_19991127</td>\n",
       "      <td>data\\input\\Brain MRI segmentation\\kaggle_3m\\TC...</td>\n",
       "    </tr>\n",
       "    <tr>\n",
       "      <th>7857</th>\n",
       "      <td>TCGA_HT_A61B_19991127</td>\n",
       "      <td>data\\input\\Brain MRI segmentation\\kaggle_3m\\TC...</td>\n",
       "    </tr>\n",
       "  </tbody>\n",
       "</table>\n",
       "<p>7858 rows × 2 columns</p>\n",
       "</div>"
      ],
      "text/plain": [
       "                 patient_id                                           img_path\n",
       "0     TCGA_CS_4941_19960909  data\\input\\Brain MRI segmentation\\kaggle_3m\\TC...\n",
       "1     TCGA_CS_4941_19960909  data\\input\\Brain MRI segmentation\\kaggle_3m\\TC...\n",
       "2     TCGA_CS_4941_19960909  data\\input\\Brain MRI segmentation\\kaggle_3m\\TC...\n",
       "3     TCGA_CS_4941_19960909  data\\input\\Brain MRI segmentation\\kaggle_3m\\TC...\n",
       "4     TCGA_CS_4941_19960909  data\\input\\Brain MRI segmentation\\kaggle_3m\\TC...\n",
       "...                     ...                                                ...\n",
       "7853  TCGA_HT_A61B_19991127  data\\input\\Brain MRI segmentation\\kaggle_3m\\TC...\n",
       "7854  TCGA_HT_A61B_19991127  data\\input\\Brain MRI segmentation\\kaggle_3m\\TC...\n",
       "7855  TCGA_HT_A61B_19991127  data\\input\\Brain MRI segmentation\\kaggle_3m\\TC...\n",
       "7856  TCGA_HT_A61B_19991127  data\\input\\Brain MRI segmentation\\kaggle_3m\\TC...\n",
       "7857  TCGA_HT_A61B_19991127  data\\input\\Brain MRI segmentation\\kaggle_3m\\TC...\n",
       "\n",
       "[7858 rows x 2 columns]"
      ]
     },
     "execution_count": 8,
     "metadata": {},
     "output_type": "execute_result"
    }
   ],
   "source": [
    "df = pd.DataFrame(data={\"patient_id\": filenames,\"img_path\": masks})\n",
    "df"
   ]
  },
  {
   "cell_type": "markdown",
   "id": "8752c92d",
   "metadata": {},
   "source": [
    "En estas líneas de código, se filtran las filas del DataFrame `df` para separar las imágenes originales de las máscaras de segmentación. La variable `original_img` se asigna a las filas del DataFrame que no contienen la palabra \"mask\" en la columna `'img_path'`, lo que significa que incluye solo las rutas de las imágenes originales de los pacientes. Por otro lado, la variable `mask_img` se asigna a las filas que sí contienen \"mask\" en la columna `'img_path'`, lo que indica que incluye solo las rutas de las máscaras de segmentación. Este proceso de filtrado permite organizar y acceder fácilmente a las imágenes y sus respectivas máscaras para su análisis posterior."
   ]
  },
  {
   "cell_type": "code",
   "execution_count": 9,
   "id": "c2177222",
   "metadata": {
    "execution": {
     "iopub.execute_input": "2023-05-28T13:28:35.532445Z",
     "iopub.status.busy": "2023-05-28T13:28:35.532172Z",
     "iopub.status.idle": "2023-05-28T13:28:35.548382Z",
     "shell.execute_reply": "2023-05-28T13:28:35.547535Z"
    },
    "papermill": {
     "duration": 0.033891,
     "end_time": "2023-05-28T13:28:35.550474",
     "exception": false,
     "start_time": "2023-05-28T13:28:35.516583",
     "status": "completed"
    },
    "tags": []
   },
   "outputs": [],
   "source": [
    "original_img = df[~df['img_path'].str.contains(\"mask\")]\n",
    "mask_img     = df[df['img_path'].str.contains(\"mask\")]"
   ]
  },
  {
   "cell_type": "markdown",
   "id": "e7128ec3",
   "metadata": {},
   "source": [
    "La línea de código print(original_img[\"img_path\"].values) se utiliza para mostrar en la consola las rutas de las imágenes originales almacenadas en la columna 'img_path' del DataFrame original_img. Al acceder a original_img[\"img_path\"], se obtiene una serie que contiene todas las rutas de las imágenes originales, y al utilizar .values, se extraen esos valores en forma de un arreglo de NumPy. Esto permite visualizar rápidamente las rutas de las imágenes originales, facilitando la verificación y el análisis de los datos."
   ]
  },
  {
   "cell_type": "code",
   "execution_count": 10,
   "id": "5a762e06",
   "metadata": {},
   "outputs": [
    {
     "name": "stdout",
     "output_type": "stream",
     "text": [
      "['data\\\\input\\\\Brain MRI segmentation\\\\kaggle_3m\\\\TCGA_CS_4941_19960909\\\\TCGA_CS_4941_19960909_1.tif'\n",
      " 'data\\\\input\\\\Brain MRI segmentation\\\\kaggle_3m\\\\TCGA_CS_4941_19960909\\\\TCGA_CS_4941_19960909_10.tif'\n",
      " 'data\\\\input\\\\Brain MRI segmentation\\\\kaggle_3m\\\\TCGA_CS_4941_19960909\\\\TCGA_CS_4941_19960909_11.tif'\n",
      " ...\n",
      " 'data\\\\input\\\\Brain MRI segmentation\\\\kaggle_3m\\\\TCGA_HT_A61B_19991127\\\\TCGA_HT_A61B_19991127_87.tif'\n",
      " 'data\\\\input\\\\Brain MRI segmentation\\\\kaggle_3m\\\\TCGA_HT_A61B_19991127\\\\TCGA_HT_A61B_19991127_88.tif'\n",
      " 'data\\\\input\\\\Brain MRI segmentation\\\\kaggle_3m\\\\TCGA_HT_A61B_19991127\\\\TCGA_HT_A61B_19991127_9.tif']\n"
     ]
    }
   ],
   "source": [
    "print(original_img[\"img_path\"].values)"
   ]
  },
  {
   "cell_type": "markdown",
   "id": "80faf400",
   "metadata": {},
   "source": [
    "La línea de código `print(mask_img[\"img_path\"].values)` se utiliza para mostrar en la consola las rutas de las máscaras de segmentación almacenadas en la columna `'img_path'` del DataFrame `mask_img`. Al acceder a `mask_img[\"img_path\"]`, se obtiene una serie que contiene todas las rutas de las máscaras, y al utilizar `.values`, se extraen esos valores en forma de un arreglo de NumPy. Esto permite visualizar rápidamente las rutas de las máscaras de segmentación, facilitando la verificación y el análisis de los datos relacionados con las imágenes."
   ]
  },
  {
   "cell_type": "code",
   "execution_count": 11,
   "id": "62459c4d",
   "metadata": {},
   "outputs": [
    {
     "name": "stdout",
     "output_type": "stream",
     "text": [
      "['data\\\\input\\\\Brain MRI segmentation\\\\kaggle_3m\\\\TCGA_CS_4941_19960909\\\\TCGA_CS_4941_19960909_10_mask.tif'\n",
      " 'data\\\\input\\\\Brain MRI segmentation\\\\kaggle_3m\\\\TCGA_CS_4941_19960909\\\\TCGA_CS_4941_19960909_11_mask.tif'\n",
      " 'data\\\\input\\\\Brain MRI segmentation\\\\kaggle_3m\\\\TCGA_CS_4941_19960909\\\\TCGA_CS_4941_19960909_12_mask.tif'\n",
      " ...\n",
      " 'data\\\\input\\\\Brain MRI segmentation\\\\kaggle_3m\\\\TCGA_HT_A61B_19991127\\\\TCGA_HT_A61B_19991127_88_mask.tif'\n",
      " 'data\\\\input\\\\Brain MRI segmentation\\\\kaggle_3m\\\\TCGA_HT_A61B_19991127\\\\TCGA_HT_A61B_19991127_8_mask.tif'\n",
      " 'data\\\\input\\\\Brain MRI segmentation\\\\kaggle_3m\\\\TCGA_HT_A61B_19991127\\\\TCGA_HT_A61B_19991127_9_mask.tif']\n"
     ]
    }
   ],
   "source": [
    "print(mask_img[\"img_path\"].values)"
   ]
  },
  {
   "cell_type": "code",
   "execution_count": 12,
   "id": "b0dca1e9",
   "metadata": {},
   "outputs": [
    {
     "data": {
      "text/plain": [
       "'1'"
      ]
     },
     "execution_count": 12,
     "metadata": {},
     "output_type": "execute_result"
    }
   ],
   "source": [
    "# Prueba de impresión del número que identifica al primer archivo\n",
    "original_img[\"img_path\"].values[0][88:-4]"
   ]
  },
  {
   "cell_type": "markdown",
   "id": "ea91d6e8",
   "metadata": {},
   "source": [
    "En este fragmento de código, se ordenan las rutas de las imágenes originales y las máscaras de segmentación. La variable imgs se asigna a las rutas de las imágenes originales, ordenadas utilizando la función sorted(). La clave de ordenación se define mediante una función lambda que convierte una parte de la ruta (específicamente, los caracteres entre las posiciones 88 y el final menos 4) en un entero, lo que permite ordenar las imágenes según un identificador numérico.\n",
    "\n",
    "De manera similar, la variable masks se asigna a las rutas de las máscaras, ordenadas de la misma manera, pero extrayendo los caracteres entre las posiciones 88 y el final menos 9 para ajustarse a la estructura de las rutas de las máscaras."
   ]
  },
  {
   "cell_type": "markdown",
   "id": "0aba8423",
   "metadata": {},
   "source": [
    "Luego, se genera un índice aleatorio idx utilizando random.randint(0, len(imgs)-1), que selecciona un número entero aleatorio entre 0 y el tamaño de la lista imgs menos uno. Esto asegura que el índice esté dentro del rango válido de la lista.\n",
    "\n",
    "Luego, se imprime en la consola la ruta de la imagen correspondiente al índice aleatorio (imgs[idx]) y la ruta de la máscara correspondiente al mismo índice (masks[idx]). La salida muestra ambas rutas, lo que permite al usuario verificar visualmente que las imágenes y sus respectivas máscaras están correctamente emparejadas y alineadas tras el proceso de ordenación."
   ]
  },
  {
   "cell_type": "code",
   "execution_count": 13,
   "id": "a726aff6",
   "metadata": {
    "execution": {
     "iopub.execute_input": "2023-05-28T13:28:35.626295Z",
     "iopub.status.busy": "2023-05-28T13:28:35.625505Z",
     "iopub.status.idle": "2023-05-28T13:28:35.636888Z",
     "shell.execute_reply": "2023-05-28T13:28:35.635609Z"
    },
    "papermill": {
     "duration": 0.02932,
     "end_time": "2023-05-28T13:28:35.639019",
     "exception": false,
     "start_time": "2023-05-28T13:28:35.609699",
     "status": "completed"
    },
    "tags": []
   },
   "outputs": [
    {
     "name": "stdout",
     "output_type": "stream",
     "text": [
      "Image path: data\\input\\Brain MRI segmentation\\kaggle_3m\\TCGA_DU_5849_19950405\\TCGA_DU_5849_19950405_24.tif \n",
      "Mask path: data\\input\\Brain MRI segmentation\\kaggle_3m\\TCGA_DU_5849_19950405\\TCGA_DU_5849_19950405_24_mask.tif\n"
     ]
    }
   ],
   "source": [
    "imgs = sorted(original_img[\"img_path\"].values, key=lambda x : int(x[88:-4]))\n",
    "masks = sorted(mask_img[\"img_path\"].values, key=lambda x : int(x[88:-9]))\n",
    "\n",
    "# Sorting check\n",
    "idx = random.randint(0, len(imgs)-1)\n",
    "print(\"Image path:\", imgs[idx], \"\\nMask path:\", masks[idx])"
   ]
  },
  {
   "cell_type": "markdown",
   "id": "b89db45a",
   "metadata": {},
   "source": [
    "En esta línea de código, se crea un nuevo DataFrame llamado `mri_df` utilizando la biblioteca `pandas`. Este DataFrame se construye a partir de un diccionario que contiene tres claves: `\"patient_id\"`, `\"img_path\"` y `\"mask_path\"`. La clave `\"patient_id\"` se asigna a los identificadores de los pacientes extraídos de `original_img.patient_id.values`, mientras que las claves `\"img_path\"` y `\"mask_path\"` se asignan a las listas `imgs` y `masks`, que contienen las rutas de las imágenes originales y sus respectivas máscaras, respectivamente. Al final, el DataFrame `mri_df` organiza esta información en un formato tabular, facilitando el acceso y la manipulación de los datos relacionados con las imágenes de resonancia magnética y sus máscaras de segmentación para análisis posteriores."
   ]
  },
  {
   "cell_type": "code",
   "execution_count": 14,
   "id": "5d86c839",
   "metadata": {
    "execution": {
     "iopub.execute_input": "2023-05-28T13:28:35.671125Z",
     "iopub.status.busy": "2023-05-28T13:28:35.670333Z",
     "iopub.status.idle": "2023-05-28T13:28:35.684253Z",
     "shell.execute_reply": "2023-05-28T13:28:35.68326Z"
    },
    "papermill": {
     "duration": 0.032153,
     "end_time": "2023-05-28T13:28:35.686311",
     "exception": false,
     "start_time": "2023-05-28T13:28:35.654158",
     "status": "completed"
    },
    "tags": []
   },
   "outputs": [
    {
     "data": {
      "application/vnd.microsoft.datawrangler.viewer.v0+json": {
       "columns": [
        {
         "name": "index",
         "rawType": "int64",
         "type": "integer"
        },
        {
         "name": "patient_id",
         "rawType": "object",
         "type": "string"
        },
        {
         "name": "img_path",
         "rawType": "object",
         "type": "string"
        },
        {
         "name": "mask_path",
         "rawType": "object",
         "type": "string"
        }
       ],
       "ref": "d49a59f7-a1b2-4045-8e36-9c23cdbc0e6b",
       "rows": [
        [
         "0",
         "TCGA_CS_4941_19960909",
         "data\\input\\Brain MRI segmentation\\kaggle_3m\\TCGA_CS_4941_19960909\\TCGA_CS_4941_19960909_1.tif",
         "data\\input\\Brain MRI segmentation\\kaggle_3m\\TCGA_CS_4941_19960909\\TCGA_CS_4941_19960909_1_mask.tif"
        ],
        [
         "1",
         "TCGA_CS_4941_19960909",
         "data\\input\\Brain MRI segmentation\\kaggle_3m\\TCGA_CS_4942_19970222\\TCGA_CS_4942_19970222_1.tif",
         "data\\input\\Brain MRI segmentation\\kaggle_3m\\TCGA_CS_4942_19970222\\TCGA_CS_4942_19970222_1_mask.tif"
        ],
        [
         "2",
         "TCGA_CS_4941_19960909",
         "data\\input\\Brain MRI segmentation\\kaggle_3m\\TCGA_CS_4943_20000902\\TCGA_CS_4943_20000902_1.tif",
         "data\\input\\Brain MRI segmentation\\kaggle_3m\\TCGA_CS_4943_20000902\\TCGA_CS_4943_20000902_1_mask.tif"
        ],
        [
         "3",
         "TCGA_CS_4941_19960909",
         "data\\input\\Brain MRI segmentation\\kaggle_3m\\TCGA_CS_4944_20010208\\TCGA_CS_4944_20010208_1.tif",
         "data\\input\\Brain MRI segmentation\\kaggle_3m\\TCGA_CS_4944_20010208\\TCGA_CS_4944_20010208_1_mask.tif"
        ],
        [
         "4",
         "TCGA_CS_4941_19960909",
         "data\\input\\Brain MRI segmentation\\kaggle_3m\\TCGA_CS_5393_19990606\\TCGA_CS_5393_19990606_1.tif",
         "data\\input\\Brain MRI segmentation\\kaggle_3m\\TCGA_CS_5393_19990606\\TCGA_CS_5393_19990606_1_mask.tif"
        ],
        [
         "5",
         "TCGA_CS_4941_19960909",
         "data\\input\\Brain MRI segmentation\\kaggle_3m\\TCGA_CS_5395_19981004\\TCGA_CS_5395_19981004_1.tif",
         "data\\input\\Brain MRI segmentation\\kaggle_3m\\TCGA_CS_5395_19981004\\TCGA_CS_5395_19981004_1_mask.tif"
        ],
        [
         "6",
         "TCGA_CS_4941_19960909",
         "data\\input\\Brain MRI segmentation\\kaggle_3m\\TCGA_CS_5396_20010302\\TCGA_CS_5396_20010302_1.tif",
         "data\\input\\Brain MRI segmentation\\kaggle_3m\\TCGA_CS_5396_20010302\\TCGA_CS_5396_20010302_1_mask.tif"
        ],
        [
         "7",
         "TCGA_CS_4941_19960909",
         "data\\input\\Brain MRI segmentation\\kaggle_3m\\TCGA_CS_5397_20010315\\TCGA_CS_5397_20010315_1.tif",
         "data\\input\\Brain MRI segmentation\\kaggle_3m\\TCGA_CS_5397_20010315\\TCGA_CS_5397_20010315_1_mask.tif"
        ],
        [
         "8",
         "TCGA_CS_4941_19960909",
         "data\\input\\Brain MRI segmentation\\kaggle_3m\\TCGA_CS_6186_20000601\\TCGA_CS_6186_20000601_1.tif",
         "data\\input\\Brain MRI segmentation\\kaggle_3m\\TCGA_CS_6186_20000601\\TCGA_CS_6186_20000601_1_mask.tif"
        ],
        [
         "9",
         "TCGA_CS_4941_19960909",
         "data\\input\\Brain MRI segmentation\\kaggle_3m\\TCGA_CS_6188_20010812\\TCGA_CS_6188_20010812_1.tif",
         "data\\input\\Brain MRI segmentation\\kaggle_3m\\TCGA_CS_6188_20010812\\TCGA_CS_6188_20010812_1_mask.tif"
        ],
        [
         "10",
         "TCGA_CS_4941_19960909",
         "data\\input\\Brain MRI segmentation\\kaggle_3m\\TCGA_CS_6290_20000917\\TCGA_CS_6290_20000917_1.tif",
         "data\\input\\Brain MRI segmentation\\kaggle_3m\\TCGA_CS_6290_20000917\\TCGA_CS_6290_20000917_1_mask.tif"
        ],
        [
         "11",
         "TCGA_CS_4941_19960909",
         "data\\input\\Brain MRI segmentation\\kaggle_3m\\TCGA_CS_6665_20010817\\TCGA_CS_6665_20010817_1.tif",
         "data\\input\\Brain MRI segmentation\\kaggle_3m\\TCGA_CS_6665_20010817\\TCGA_CS_6665_20010817_1_mask.tif"
        ],
        [
         "12",
         "TCGA_CS_4941_19960909",
         "data\\input\\Brain MRI segmentation\\kaggle_3m\\TCGA_CS_6666_20011109\\TCGA_CS_6666_20011109_1.tif",
         "data\\input\\Brain MRI segmentation\\kaggle_3m\\TCGA_CS_6666_20011109\\TCGA_CS_6666_20011109_1_mask.tif"
        ],
        [
         "13",
         "TCGA_CS_4941_19960909",
         "data\\input\\Brain MRI segmentation\\kaggle_3m\\TCGA_CS_6667_20011105\\TCGA_CS_6667_20011105_1.tif",
         "data\\input\\Brain MRI segmentation\\kaggle_3m\\TCGA_CS_6667_20011105\\TCGA_CS_6667_20011105_1_mask.tif"
        ],
        [
         "14",
         "TCGA_CS_4941_19960909",
         "data\\input\\Brain MRI segmentation\\kaggle_3m\\TCGA_CS_6668_20011025\\TCGA_CS_6668_20011025_1.tif",
         "data\\input\\Brain MRI segmentation\\kaggle_3m\\TCGA_CS_6668_20011025\\TCGA_CS_6668_20011025_1_mask.tif"
        ],
        [
         "15",
         "TCGA_CS_4941_19960909",
         "data\\input\\Brain MRI segmentation\\kaggle_3m\\TCGA_CS_6669_20020102\\TCGA_CS_6669_20020102_1.tif",
         "data\\input\\Brain MRI segmentation\\kaggle_3m\\TCGA_CS_6669_20020102\\TCGA_CS_6669_20020102_1_mask.tif"
        ],
        [
         "16",
         "TCGA_CS_4941_19960909",
         "data\\input\\Brain MRI segmentation\\kaggle_3m\\TCGA_DU_5849_19950405\\TCGA_DU_5849_19950405_1.tif",
         "data\\input\\Brain MRI segmentation\\kaggle_3m\\TCGA_DU_5849_19950405\\TCGA_DU_5849_19950405_1_mask.tif"
        ],
        [
         "17",
         "TCGA_CS_4941_19960909",
         "data\\input\\Brain MRI segmentation\\kaggle_3m\\TCGA_DU_5851_19950428\\TCGA_DU_5851_19950428_1.tif",
         "data\\input\\Brain MRI segmentation\\kaggle_3m\\TCGA_DU_5851_19950428\\TCGA_DU_5851_19950428_1_mask.tif"
        ],
        [
         "18",
         "TCGA_CS_4941_19960909",
         "data\\input\\Brain MRI segmentation\\kaggle_3m\\TCGA_DU_5852_19950709\\TCGA_DU_5852_19950709_1.tif",
         "data\\input\\Brain MRI segmentation\\kaggle_3m\\TCGA_DU_5852_19950709\\TCGA_DU_5852_19950709_1_mask.tif"
        ],
        [
         "19",
         "TCGA_CS_4941_19960909",
         "data\\input\\Brain MRI segmentation\\kaggle_3m\\TCGA_DU_5853_19950823\\TCGA_DU_5853_19950823_1.tif",
         "data\\input\\Brain MRI segmentation\\kaggle_3m\\TCGA_DU_5853_19950823\\TCGA_DU_5853_19950823_1_mask.tif"
        ],
        [
         "20",
         "TCGA_CS_4941_19960909",
         "data\\input\\Brain MRI segmentation\\kaggle_3m\\TCGA_DU_5854_19951104\\TCGA_DU_5854_19951104_1.tif",
         "data\\input\\Brain MRI segmentation\\kaggle_3m\\TCGA_DU_5854_19951104\\TCGA_DU_5854_19951104_1_mask.tif"
        ],
        [
         "21",
         "TCGA_CS_4941_19960909",
         "data\\input\\Brain MRI segmentation\\kaggle_3m\\TCGA_DU_5855_19951217\\TCGA_DU_5855_19951217_1.tif",
         "data\\input\\Brain MRI segmentation\\kaggle_3m\\TCGA_DU_5855_19951217\\TCGA_DU_5855_19951217_1_mask.tif"
        ],
        [
         "22",
         "TCGA_CS_4941_19960909",
         "data\\input\\Brain MRI segmentation\\kaggle_3m\\TCGA_DU_5871_19941206\\TCGA_DU_5871_19941206_1.tif",
         "data\\input\\Brain MRI segmentation\\kaggle_3m\\TCGA_DU_5871_19941206\\TCGA_DU_5871_19941206_1_mask.tif"
        ],
        [
         "23",
         "TCGA_CS_4942_19970222",
         "data\\input\\Brain MRI segmentation\\kaggle_3m\\TCGA_DU_5872_19950223\\TCGA_DU_5872_19950223_1.tif",
         "data\\input\\Brain MRI segmentation\\kaggle_3m\\TCGA_DU_5872_19950223\\TCGA_DU_5872_19950223_1_mask.tif"
        ],
        [
         "24",
         "TCGA_CS_4942_19970222",
         "data\\input\\Brain MRI segmentation\\kaggle_3m\\TCGA_DU_5874_19950510\\TCGA_DU_5874_19950510_1.tif",
         "data\\input\\Brain MRI segmentation\\kaggle_3m\\TCGA_DU_5874_19950510\\TCGA_DU_5874_19950510_1_mask.tif"
        ],
        [
         "25",
         "TCGA_CS_4942_19970222",
         "data\\input\\Brain MRI segmentation\\kaggle_3m\\TCGA_DU_6399_19830416\\TCGA_DU_6399_19830416_1.tif",
         "data\\input\\Brain MRI segmentation\\kaggle_3m\\TCGA_DU_6399_19830416\\TCGA_DU_6399_19830416_1_mask.tif"
        ],
        [
         "26",
         "TCGA_CS_4942_19970222",
         "data\\input\\Brain MRI segmentation\\kaggle_3m\\TCGA_DU_6400_19830518\\TCGA_DU_6400_19830518_1.tif",
         "data\\input\\Brain MRI segmentation\\kaggle_3m\\TCGA_DU_6400_19830518\\TCGA_DU_6400_19830518_1_mask.tif"
        ],
        [
         "27",
         "TCGA_CS_4942_19970222",
         "data\\input\\Brain MRI segmentation\\kaggle_3m\\TCGA_DU_6401_19831001\\TCGA_DU_6401_19831001_1.tif",
         "data\\input\\Brain MRI segmentation\\kaggle_3m\\TCGA_DU_6401_19831001\\TCGA_DU_6401_19831001_1_mask.tif"
        ],
        [
         "28",
         "TCGA_CS_4942_19970222",
         "data\\input\\Brain MRI segmentation\\kaggle_3m\\TCGA_DU_6404_19850629\\TCGA_DU_6404_19850629_1.tif",
         "data\\input\\Brain MRI segmentation\\kaggle_3m\\TCGA_DU_6404_19850629\\TCGA_DU_6404_19850629_1_mask.tif"
        ],
        [
         "29",
         "TCGA_CS_4942_19970222",
         "data\\input\\Brain MRI segmentation\\kaggle_3m\\TCGA_DU_6405_19851005\\TCGA_DU_6405_19851005_1.tif",
         "data\\input\\Brain MRI segmentation\\kaggle_3m\\TCGA_DU_6405_19851005\\TCGA_DU_6405_19851005_1_mask.tif"
        ],
        [
         "30",
         "TCGA_CS_4942_19970222",
         "data\\input\\Brain MRI segmentation\\kaggle_3m\\TCGA_DU_6407_19860514\\TCGA_DU_6407_19860514_1.tif",
         "data\\input\\Brain MRI segmentation\\kaggle_3m\\TCGA_DU_6407_19860514\\TCGA_DU_6407_19860514_1_mask.tif"
        ],
        [
         "31",
         "TCGA_CS_4942_19970222",
         "data\\input\\Brain MRI segmentation\\kaggle_3m\\TCGA_DU_6408_19860521\\TCGA_DU_6408_19860521_1.tif",
         "data\\input\\Brain MRI segmentation\\kaggle_3m\\TCGA_DU_6408_19860521\\TCGA_DU_6408_19860521_1_mask.tif"
        ],
        [
         "32",
         "TCGA_CS_4942_19970222",
         "data\\input\\Brain MRI segmentation\\kaggle_3m\\TCGA_DU_7008_19830723\\TCGA_DU_7008_19830723_1.tif",
         "data\\input\\Brain MRI segmentation\\kaggle_3m\\TCGA_DU_7008_19830723\\TCGA_DU_7008_19830723_1_mask.tif"
        ],
        [
         "33",
         "TCGA_CS_4942_19970222",
         "data\\input\\Brain MRI segmentation\\kaggle_3m\\TCGA_DU_7010_19860307\\TCGA_DU_7010_19860307_1.tif",
         "data\\input\\Brain MRI segmentation\\kaggle_3m\\TCGA_DU_7010_19860307\\TCGA_DU_7010_19860307_1_mask.tif"
        ],
        [
         "34",
         "TCGA_CS_4942_19970222",
         "data\\input\\Brain MRI segmentation\\kaggle_3m\\TCGA_DU_7013_19860523\\TCGA_DU_7013_19860523_1.tif",
         "data\\input\\Brain MRI segmentation\\kaggle_3m\\TCGA_DU_7013_19860523\\TCGA_DU_7013_19860523_1_mask.tif"
        ],
        [
         "35",
         "TCGA_CS_4942_19970222",
         "data\\input\\Brain MRI segmentation\\kaggle_3m\\TCGA_DU_7014_19860618\\TCGA_DU_7014_19860618_1.tif",
         "data\\input\\Brain MRI segmentation\\kaggle_3m\\TCGA_DU_7014_19860618\\TCGA_DU_7014_19860618_1_mask.tif"
        ],
        [
         "36",
         "TCGA_CS_4942_19970222",
         "data\\input\\Brain MRI segmentation\\kaggle_3m\\TCGA_DU_7018_19911220\\TCGA_DU_7018_19911220_1.tif",
         "data\\input\\Brain MRI segmentation\\kaggle_3m\\TCGA_DU_7018_19911220\\TCGA_DU_7018_19911220_1_mask.tif"
        ],
        [
         "37",
         "TCGA_CS_4942_19970222",
         "data\\input\\Brain MRI segmentation\\kaggle_3m\\TCGA_DU_7019_19940908\\TCGA_DU_7019_19940908_1.tif",
         "data\\input\\Brain MRI segmentation\\kaggle_3m\\TCGA_DU_7019_19940908\\TCGA_DU_7019_19940908_1_mask.tif"
        ],
        [
         "38",
         "TCGA_CS_4942_19970222",
         "data\\input\\Brain MRI segmentation\\kaggle_3m\\TCGA_DU_7294_19890104\\TCGA_DU_7294_19890104_1.tif",
         "data\\input\\Brain MRI segmentation\\kaggle_3m\\TCGA_DU_7294_19890104\\TCGA_DU_7294_19890104_1_mask.tif"
        ],
        [
         "39",
         "TCGA_CS_4942_19970222",
         "data\\input\\Brain MRI segmentation\\kaggle_3m\\TCGA_DU_7298_19910324\\TCGA_DU_7298_19910324_1.tif",
         "data\\input\\Brain MRI segmentation\\kaggle_3m\\TCGA_DU_7298_19910324\\TCGA_DU_7298_19910324_1_mask.tif"
        ],
        [
         "40",
         "TCGA_CS_4942_19970222",
         "data\\input\\Brain MRI segmentation\\kaggle_3m\\TCGA_DU_7299_19910417\\TCGA_DU_7299_19910417_1.tif",
         "data\\input\\Brain MRI segmentation\\kaggle_3m\\TCGA_DU_7299_19910417\\TCGA_DU_7299_19910417_1_mask.tif"
        ],
        [
         "41",
         "TCGA_CS_4942_19970222",
         "data\\input\\Brain MRI segmentation\\kaggle_3m\\TCGA_DU_7300_19910814\\TCGA_DU_7300_19910814_1.tif",
         "data\\input\\Brain MRI segmentation\\kaggle_3m\\TCGA_DU_7300_19910814\\TCGA_DU_7300_19910814_1_mask.tif"
        ],
        [
         "42",
         "TCGA_CS_4942_19970222",
         "data\\input\\Brain MRI segmentation\\kaggle_3m\\TCGA_DU_7301_19911112\\TCGA_DU_7301_19911112_1.tif",
         "data\\input\\Brain MRI segmentation\\kaggle_3m\\TCGA_DU_7301_19911112\\TCGA_DU_7301_19911112_1_mask.tif"
        ],
        [
         "43",
         "TCGA_CS_4943_20000902",
         "data\\input\\Brain MRI segmentation\\kaggle_3m\\TCGA_DU_7302_19911203\\TCGA_DU_7302_19911203_1.tif",
         "data\\input\\Brain MRI segmentation\\kaggle_3m\\TCGA_DU_7302_19911203\\TCGA_DU_7302_19911203_1_mask.tif"
        ],
        [
         "44",
         "TCGA_CS_4943_20000902",
         "data\\input\\Brain MRI segmentation\\kaggle_3m\\TCGA_DU_7304_19930325\\TCGA_DU_7304_19930325_1.tif",
         "data\\input\\Brain MRI segmentation\\kaggle_3m\\TCGA_DU_7304_19930325\\TCGA_DU_7304_19930325_1_mask.tif"
        ],
        [
         "45",
         "TCGA_CS_4943_20000902",
         "data\\input\\Brain MRI segmentation\\kaggle_3m\\TCGA_DU_7306_19930512\\TCGA_DU_7306_19930512_1.tif",
         "data\\input\\Brain MRI segmentation\\kaggle_3m\\TCGA_DU_7306_19930512\\TCGA_DU_7306_19930512_1_mask.tif"
        ],
        [
         "46",
         "TCGA_CS_4943_20000902",
         "data\\input\\Brain MRI segmentation\\kaggle_3m\\TCGA_DU_7309_19960831\\TCGA_DU_7309_19960831_1.tif",
         "data\\input\\Brain MRI segmentation\\kaggle_3m\\TCGA_DU_7309_19960831\\TCGA_DU_7309_19960831_1_mask.tif"
        ],
        [
         "47",
         "TCGA_CS_4943_20000902",
         "data\\input\\Brain MRI segmentation\\kaggle_3m\\TCGA_DU_8162_19961029\\TCGA_DU_8162_19961029_1.tif",
         "data\\input\\Brain MRI segmentation\\kaggle_3m\\TCGA_DU_8162_19961029\\TCGA_DU_8162_19961029_1_mask.tif"
        ],
        [
         "48",
         "TCGA_CS_4943_20000902",
         "data\\input\\Brain MRI segmentation\\kaggle_3m\\TCGA_DU_8163_19961119\\TCGA_DU_8163_19961119_1.tif",
         "data\\input\\Brain MRI segmentation\\kaggle_3m\\TCGA_DU_8163_19961119\\TCGA_DU_8163_19961119_1_mask.tif"
        ],
        [
         "49",
         "TCGA_CS_4943_20000902",
         "data\\input\\Brain MRI segmentation\\kaggle_3m\\TCGA_DU_8164_19970111\\TCGA_DU_8164_19970111_1.tif",
         "data\\input\\Brain MRI segmentation\\kaggle_3m\\TCGA_DU_8164_19970111\\TCGA_DU_8164_19970111_1_mask.tif"
        ]
       ],
       "shape": {
        "columns": 3,
        "rows": 3929
       }
      },
      "text/html": [
       "<div>\n",
       "<style scoped>\n",
       "    .dataframe tbody tr th:only-of-type {\n",
       "        vertical-align: middle;\n",
       "    }\n",
       "\n",
       "    .dataframe tbody tr th {\n",
       "        vertical-align: top;\n",
       "    }\n",
       "\n",
       "    .dataframe thead th {\n",
       "        text-align: right;\n",
       "    }\n",
       "</style>\n",
       "<table border=\"1\" class=\"dataframe\">\n",
       "  <thead>\n",
       "    <tr style=\"text-align: right;\">\n",
       "      <th></th>\n",
       "      <th>patient_id</th>\n",
       "      <th>img_path</th>\n",
       "      <th>mask_path</th>\n",
       "    </tr>\n",
       "  </thead>\n",
       "  <tbody>\n",
       "    <tr>\n",
       "      <th>0</th>\n",
       "      <td>TCGA_CS_4941_19960909</td>\n",
       "      <td>data\\input\\Brain MRI segmentation\\kaggle_3m\\TC...</td>\n",
       "      <td>data\\input\\Brain MRI segmentation\\kaggle_3m\\TC...</td>\n",
       "    </tr>\n",
       "    <tr>\n",
       "      <th>1</th>\n",
       "      <td>TCGA_CS_4941_19960909</td>\n",
       "      <td>data\\input\\Brain MRI segmentation\\kaggle_3m\\TC...</td>\n",
       "      <td>data\\input\\Brain MRI segmentation\\kaggle_3m\\TC...</td>\n",
       "    </tr>\n",
       "    <tr>\n",
       "      <th>2</th>\n",
       "      <td>TCGA_CS_4941_19960909</td>\n",
       "      <td>data\\input\\Brain MRI segmentation\\kaggle_3m\\TC...</td>\n",
       "      <td>data\\input\\Brain MRI segmentation\\kaggle_3m\\TC...</td>\n",
       "    </tr>\n",
       "    <tr>\n",
       "      <th>3</th>\n",
       "      <td>TCGA_CS_4941_19960909</td>\n",
       "      <td>data\\input\\Brain MRI segmentation\\kaggle_3m\\TC...</td>\n",
       "      <td>data\\input\\Brain MRI segmentation\\kaggle_3m\\TC...</td>\n",
       "    </tr>\n",
       "    <tr>\n",
       "      <th>4</th>\n",
       "      <td>TCGA_CS_4941_19960909</td>\n",
       "      <td>data\\input\\Brain MRI segmentation\\kaggle_3m\\TC...</td>\n",
       "      <td>data\\input\\Brain MRI segmentation\\kaggle_3m\\TC...</td>\n",
       "    </tr>\n",
       "    <tr>\n",
       "      <th>...</th>\n",
       "      <td>...</td>\n",
       "      <td>...</td>\n",
       "      <td>...</td>\n",
       "    </tr>\n",
       "    <tr>\n",
       "      <th>3924</th>\n",
       "      <td>TCGA_HT_A61B_19991127</td>\n",
       "      <td>data\\input\\Brain MRI segmentation\\kaggle_3m\\TC...</td>\n",
       "      <td>data\\input\\Brain MRI segmentation\\kaggle_3m\\TC...</td>\n",
       "    </tr>\n",
       "    <tr>\n",
       "      <th>3925</th>\n",
       "      <td>TCGA_HT_A61B_19991127</td>\n",
       "      <td>data\\input\\Brain MRI segmentation\\kaggle_3m\\TC...</td>\n",
       "      <td>data\\input\\Brain MRI segmentation\\kaggle_3m\\TC...</td>\n",
       "    </tr>\n",
       "    <tr>\n",
       "      <th>3926</th>\n",
       "      <td>TCGA_HT_A61B_19991127</td>\n",
       "      <td>data\\input\\Brain MRI segmentation\\kaggle_3m\\TC...</td>\n",
       "      <td>data\\input\\Brain MRI segmentation\\kaggle_3m\\TC...</td>\n",
       "    </tr>\n",
       "    <tr>\n",
       "      <th>3927</th>\n",
       "      <td>TCGA_HT_A61B_19991127</td>\n",
       "      <td>data\\input\\Brain MRI segmentation\\kaggle_3m\\TC...</td>\n",
       "      <td>data\\input\\Brain MRI segmentation\\kaggle_3m\\TC...</td>\n",
       "    </tr>\n",
       "    <tr>\n",
       "      <th>3928</th>\n",
       "      <td>TCGA_HT_A61B_19991127</td>\n",
       "      <td>data\\input\\Brain MRI segmentation\\kaggle_3m\\TC...</td>\n",
       "      <td>data\\input\\Brain MRI segmentation\\kaggle_3m\\TC...</td>\n",
       "    </tr>\n",
       "  </tbody>\n",
       "</table>\n",
       "<p>3929 rows × 3 columns</p>\n",
       "</div>"
      ],
      "text/plain": [
       "                 patient_id  \\\n",
       "0     TCGA_CS_4941_19960909   \n",
       "1     TCGA_CS_4941_19960909   \n",
       "2     TCGA_CS_4941_19960909   \n",
       "3     TCGA_CS_4941_19960909   \n",
       "4     TCGA_CS_4941_19960909   \n",
       "...                     ...   \n",
       "3924  TCGA_HT_A61B_19991127   \n",
       "3925  TCGA_HT_A61B_19991127   \n",
       "3926  TCGA_HT_A61B_19991127   \n",
       "3927  TCGA_HT_A61B_19991127   \n",
       "3928  TCGA_HT_A61B_19991127   \n",
       "\n",
       "                                               img_path  \\\n",
       "0     data\\input\\Brain MRI segmentation\\kaggle_3m\\TC...   \n",
       "1     data\\input\\Brain MRI segmentation\\kaggle_3m\\TC...   \n",
       "2     data\\input\\Brain MRI segmentation\\kaggle_3m\\TC...   \n",
       "3     data\\input\\Brain MRI segmentation\\kaggle_3m\\TC...   \n",
       "4     data\\input\\Brain MRI segmentation\\kaggle_3m\\TC...   \n",
       "...                                                 ...   \n",
       "3924  data\\input\\Brain MRI segmentation\\kaggle_3m\\TC...   \n",
       "3925  data\\input\\Brain MRI segmentation\\kaggle_3m\\TC...   \n",
       "3926  data\\input\\Brain MRI segmentation\\kaggle_3m\\TC...   \n",
       "3927  data\\input\\Brain MRI segmentation\\kaggle_3m\\TC...   \n",
       "3928  data\\input\\Brain MRI segmentation\\kaggle_3m\\TC...   \n",
       "\n",
       "                                              mask_path  \n",
       "0     data\\input\\Brain MRI segmentation\\kaggle_3m\\TC...  \n",
       "1     data\\input\\Brain MRI segmentation\\kaggle_3m\\TC...  \n",
       "2     data\\input\\Brain MRI segmentation\\kaggle_3m\\TC...  \n",
       "3     data\\input\\Brain MRI segmentation\\kaggle_3m\\TC...  \n",
       "4     data\\input\\Brain MRI segmentation\\kaggle_3m\\TC...  \n",
       "...                                                 ...  \n",
       "3924  data\\input\\Brain MRI segmentation\\kaggle_3m\\TC...  \n",
       "3925  data\\input\\Brain MRI segmentation\\kaggle_3m\\TC...  \n",
       "3926  data\\input\\Brain MRI segmentation\\kaggle_3m\\TC...  \n",
       "3927  data\\input\\Brain MRI segmentation\\kaggle_3m\\TC...  \n",
       "3928  data\\input\\Brain MRI segmentation\\kaggle_3m\\TC...  \n",
       "\n",
       "[3929 rows x 3 columns]"
      ]
     },
     "execution_count": 14,
     "metadata": {},
     "output_type": "execute_result"
    }
   ],
   "source": [
    "mri_df = pd.DataFrame({\"patient_id\": original_img.patient_id.values,\"img_path\": imgs,\n",
    "                           'mask_path':masks})\n",
    "mri_df"
   ]
  },
  {
   "cell_type": "markdown",
   "id": "82688fa3",
   "metadata": {},
   "source": [
    "En resumen, la función get_diagnosis determina si una imagen contiene información visual (no está completamente negra) y devuelve 1 si es así, o 0 si la imagen está completamente negra. Esta función podría ser útil en aplicaciones donde se necesita verificar la validez de una imagen antes de realizar análisis adicionales."
   ]
  },
  {
   "cell_type": "code",
   "execution_count": 36,
   "id": "7954e2ab",
   "metadata": {
    "execution": {
     "iopub.execute_input": "2023-05-28T13:28:35.718277Z",
     "iopub.status.busy": "2023-05-28T13:28:35.717737Z",
     "iopub.status.idle": "2023-05-28T13:28:35.723908Z",
     "shell.execute_reply": "2023-05-28T13:28:35.723046Z"
    },
    "papermill": {
     "duration": 0.024465,
     "end_time": "2023-05-28T13:28:35.726084",
     "exception": false,
     "start_time": "2023-05-28T13:28:35.701619",
     "status": "completed"
    },
    "tags": []
   },
   "outputs": [],
   "source": [
    "def get_diagnosis(img_path):\n",
    "    value = np.max(cv2.imread(img_path))\n",
    "    if value > 0 : \n",
    "        return 1\n",
    "    else:\n",
    "        return 0"
   ]
  },
  {
   "cell_type": "markdown",
   "id": "e79b3f64",
   "metadata": {},
   "source": [
    "En resumen, mri_df.head() muestra las primeras 5 filas del DataFrame mri_df, lo que permite al usuario obtener una vista preliminar de los datos que contiene, facilitando la exploración y el análisis inicial de la información."
   ]
  },
  {
   "cell_type": "code",
   "execution_count": 37,
   "id": "4a7c70e1",
   "metadata": {
    "execution": {
     "iopub.execute_input": "2023-05-28T13:28:35.757794Z",
     "iopub.status.busy": "2023-05-28T13:28:35.757524Z",
     "iopub.status.idle": "2023-05-28T13:28:35.767775Z",
     "shell.execute_reply": "2023-05-28T13:28:35.766786Z"
    },
    "papermill": {
     "duration": 0.028457,
     "end_time": "2023-05-28T13:28:35.769843",
     "exception": false,
     "start_time": "2023-05-28T13:28:35.741386",
     "status": "completed"
    },
    "tags": []
   },
   "outputs": [
    {
     "data": {
      "text/html": [
       "<div>\n",
       "<style scoped>\n",
       "    .dataframe tbody tr th:only-of-type {\n",
       "        vertical-align: middle;\n",
       "    }\n",
       "\n",
       "    .dataframe tbody tr th {\n",
       "        vertical-align: top;\n",
       "    }\n",
       "\n",
       "    .dataframe thead th {\n",
       "        text-align: right;\n",
       "    }\n",
       "</style>\n",
       "<table border=\"1\" class=\"dataframe\">\n",
       "  <thead>\n",
       "    <tr style=\"text-align: right;\">\n",
       "      <th></th>\n",
       "      <th>patient_id</th>\n",
       "      <th>img_path</th>\n",
       "      <th>mask_path</th>\n",
       "    </tr>\n",
       "  </thead>\n",
       "  <tbody>\n",
       "    <tr>\n",
       "      <th>0</th>\n",
       "      <td>TCGA_CS_4941_19960909</td>\n",
       "      <td>data\\input\\Brain MRI segmentation\\kaggle_3m\\TC...</td>\n",
       "      <td>data\\input\\Brain MRI segmentation\\kaggle_3m\\TC...</td>\n",
       "    </tr>\n",
       "    <tr>\n",
       "      <th>1</th>\n",
       "      <td>TCGA_CS_4941_19960909</td>\n",
       "      <td>data\\input\\Brain MRI segmentation\\kaggle_3m\\TC...</td>\n",
       "      <td>data\\input\\Brain MRI segmentation\\kaggle_3m\\TC...</td>\n",
       "    </tr>\n",
       "    <tr>\n",
       "      <th>2</th>\n",
       "      <td>TCGA_CS_4941_19960909</td>\n",
       "      <td>data\\input\\Brain MRI segmentation\\kaggle_3m\\TC...</td>\n",
       "      <td>data\\input\\Brain MRI segmentation\\kaggle_3m\\TC...</td>\n",
       "    </tr>\n",
       "    <tr>\n",
       "      <th>3</th>\n",
       "      <td>TCGA_CS_4941_19960909</td>\n",
       "      <td>data\\input\\Brain MRI segmentation\\kaggle_3m\\TC...</td>\n",
       "      <td>data\\input\\Brain MRI segmentation\\kaggle_3m\\TC...</td>\n",
       "    </tr>\n",
       "    <tr>\n",
       "      <th>4</th>\n",
       "      <td>TCGA_CS_4941_19960909</td>\n",
       "      <td>data\\input\\Brain MRI segmentation\\kaggle_3m\\TC...</td>\n",
       "      <td>data\\input\\Brain MRI segmentation\\kaggle_3m\\TC...</td>\n",
       "    </tr>\n",
       "  </tbody>\n",
       "</table>\n",
       "</div>"
      ],
      "text/plain": [
       "              patient_id                                           img_path  \\\n",
       "0  TCGA_CS_4941_19960909  data\\input\\Brain MRI segmentation\\kaggle_3m\\TC...   \n",
       "1  TCGA_CS_4941_19960909  data\\input\\Brain MRI segmentation\\kaggle_3m\\TC...   \n",
       "2  TCGA_CS_4941_19960909  data\\input\\Brain MRI segmentation\\kaggle_3m\\TC...   \n",
       "3  TCGA_CS_4941_19960909  data\\input\\Brain MRI segmentation\\kaggle_3m\\TC...   \n",
       "4  TCGA_CS_4941_19960909  data\\input\\Brain MRI segmentation\\kaggle_3m\\TC...   \n",
       "\n",
       "                                           mask_path  \n",
       "0  data\\input\\Brain MRI segmentation\\kaggle_3m\\TC...  \n",
       "1  data\\input\\Brain MRI segmentation\\kaggle_3m\\TC...  \n",
       "2  data\\input\\Brain MRI segmentation\\kaggle_3m\\TC...  \n",
       "3  data\\input\\Brain MRI segmentation\\kaggle_3m\\TC...  \n",
       "4  data\\input\\Brain MRI segmentation\\kaggle_3m\\TC...  "
      ]
     },
     "execution_count": 37,
     "metadata": {},
     "output_type": "execute_result"
    }
   ],
   "source": [
    "mri_df.head()"
   ]
  },
  {
   "cell_type": "code",
   "execution_count": 39,
   "id": "1ce4ed51",
   "metadata": {
    "execution": {
     "iopub.execute_input": "2023-05-28T13:28:35.802504Z",
     "iopub.status.busy": "2023-05-28T13:28:35.801746Z",
     "iopub.status.idle": "2023-05-28T13:28:57.437803Z",
     "shell.execute_reply": "2023-05-28T13:28:57.436824Z"
    },
    "papermill": {
     "duration": 21.654653,
     "end_time": "2023-05-28T13:28:57.439963",
     "exception": false,
     "start_time": "2023-05-28T13:28:35.78531",
     "status": "completed"
    },
    "tags": []
   },
   "outputs": [
    {
     "data": {
      "text/html": [
       "<div>\n",
       "<style scoped>\n",
       "    .dataframe tbody tr th:only-of-type {\n",
       "        vertical-align: middle;\n",
       "    }\n",
       "\n",
       "    .dataframe tbody tr th {\n",
       "        vertical-align: top;\n",
       "    }\n",
       "\n",
       "    .dataframe thead th {\n",
       "        text-align: right;\n",
       "    }\n",
       "</style>\n",
       "<table border=\"1\" class=\"dataframe\">\n",
       "  <thead>\n",
       "    <tr style=\"text-align: right;\">\n",
       "      <th></th>\n",
       "      <th>patient_id</th>\n",
       "      <th>img_path</th>\n",
       "      <th>mask_path</th>\n",
       "      <th>mask</th>\n",
       "    </tr>\n",
       "  </thead>\n",
       "  <tbody>\n",
       "    <tr>\n",
       "      <th>0</th>\n",
       "      <td>TCGA_CS_4941_19960909</td>\n",
       "      <td>data\\input\\Brain MRI segmentation\\kaggle_3m\\TC...</td>\n",
       "      <td>data\\input\\Brain MRI segmentation\\kaggle_3m\\TC...</td>\n",
       "      <td>0</td>\n",
       "    </tr>\n",
       "    <tr>\n",
       "      <th>1</th>\n",
       "      <td>TCGA_CS_4941_19960909</td>\n",
       "      <td>data\\input\\Brain MRI segmentation\\kaggle_3m\\TC...</td>\n",
       "      <td>data\\input\\Brain MRI segmentation\\kaggle_3m\\TC...</td>\n",
       "      <td>0</td>\n",
       "    </tr>\n",
       "    <tr>\n",
       "      <th>2</th>\n",
       "      <td>TCGA_CS_4941_19960909</td>\n",
       "      <td>data\\input\\Brain MRI segmentation\\kaggle_3m\\TC...</td>\n",
       "      <td>data\\input\\Brain MRI segmentation\\kaggle_3m\\TC...</td>\n",
       "      <td>0</td>\n",
       "    </tr>\n",
       "    <tr>\n",
       "      <th>3</th>\n",
       "      <td>TCGA_CS_4941_19960909</td>\n",
       "      <td>data\\input\\Brain MRI segmentation\\kaggle_3m\\TC...</td>\n",
       "      <td>data\\input\\Brain MRI segmentation\\kaggle_3m\\TC...</td>\n",
       "      <td>0</td>\n",
       "    </tr>\n",
       "    <tr>\n",
       "      <th>4</th>\n",
       "      <td>TCGA_CS_4941_19960909</td>\n",
       "      <td>data\\input\\Brain MRI segmentation\\kaggle_3m\\TC...</td>\n",
       "      <td>data\\input\\Brain MRI segmentation\\kaggle_3m\\TC...</td>\n",
       "      <td>0</td>\n",
       "    </tr>\n",
       "    <tr>\n",
       "      <th>...</th>\n",
       "      <td>...</td>\n",
       "      <td>...</td>\n",
       "      <td>...</td>\n",
       "      <td>...</td>\n",
       "    </tr>\n",
       "    <tr>\n",
       "      <th>3924</th>\n",
       "      <td>TCGA_HT_A61B_19991127</td>\n",
       "      <td>data\\input\\Brain MRI segmentation\\kaggle_3m\\TC...</td>\n",
       "      <td>data\\input\\Brain MRI segmentation\\kaggle_3m\\TC...</td>\n",
       "      <td>0</td>\n",
       "    </tr>\n",
       "    <tr>\n",
       "      <th>3925</th>\n",
       "      <td>TCGA_HT_A61B_19991127</td>\n",
       "      <td>data\\input\\Brain MRI segmentation\\kaggle_3m\\TC...</td>\n",
       "      <td>data\\input\\Brain MRI segmentation\\kaggle_3m\\TC...</td>\n",
       "      <td>0</td>\n",
       "    </tr>\n",
       "    <tr>\n",
       "      <th>3926</th>\n",
       "      <td>TCGA_HT_A61B_19991127</td>\n",
       "      <td>data\\input\\Brain MRI segmentation\\kaggle_3m\\TC...</td>\n",
       "      <td>data\\input\\Brain MRI segmentation\\kaggle_3m\\TC...</td>\n",
       "      <td>0</td>\n",
       "    </tr>\n",
       "    <tr>\n",
       "      <th>3927</th>\n",
       "      <td>TCGA_HT_A61B_19991127</td>\n",
       "      <td>data\\input\\Brain MRI segmentation\\kaggle_3m\\TC...</td>\n",
       "      <td>data\\input\\Brain MRI segmentation\\kaggle_3m\\TC...</td>\n",
       "      <td>0</td>\n",
       "    </tr>\n",
       "    <tr>\n",
       "      <th>3928</th>\n",
       "      <td>TCGA_HT_A61B_19991127</td>\n",
       "      <td>data\\input\\Brain MRI segmentation\\kaggle_3m\\TC...</td>\n",
       "      <td>data\\input\\Brain MRI segmentation\\kaggle_3m\\TC...</td>\n",
       "      <td>0</td>\n",
       "    </tr>\n",
       "  </tbody>\n",
       "</table>\n",
       "<p>3929 rows × 4 columns</p>\n",
       "</div>"
      ],
      "text/plain": [
       "                 patient_id  \\\n",
       "0     TCGA_CS_4941_19960909   \n",
       "1     TCGA_CS_4941_19960909   \n",
       "2     TCGA_CS_4941_19960909   \n",
       "3     TCGA_CS_4941_19960909   \n",
       "4     TCGA_CS_4941_19960909   \n",
       "...                     ...   \n",
       "3924  TCGA_HT_A61B_19991127   \n",
       "3925  TCGA_HT_A61B_19991127   \n",
       "3926  TCGA_HT_A61B_19991127   \n",
       "3927  TCGA_HT_A61B_19991127   \n",
       "3928  TCGA_HT_A61B_19991127   \n",
       "\n",
       "                                               img_path  \\\n",
       "0     data\\input\\Brain MRI segmentation\\kaggle_3m\\TC...   \n",
       "1     data\\input\\Brain MRI segmentation\\kaggle_3m\\TC...   \n",
       "2     data\\input\\Brain MRI segmentation\\kaggle_3m\\TC...   \n",
       "3     data\\input\\Brain MRI segmentation\\kaggle_3m\\TC...   \n",
       "4     data\\input\\Brain MRI segmentation\\kaggle_3m\\TC...   \n",
       "...                                                 ...   \n",
       "3924  data\\input\\Brain MRI segmentation\\kaggle_3m\\TC...   \n",
       "3925  data\\input\\Brain MRI segmentation\\kaggle_3m\\TC...   \n",
       "3926  data\\input\\Brain MRI segmentation\\kaggle_3m\\TC...   \n",
       "3927  data\\input\\Brain MRI segmentation\\kaggle_3m\\TC...   \n",
       "3928  data\\input\\Brain MRI segmentation\\kaggle_3m\\TC...   \n",
       "\n",
       "                                              mask_path  mask  \n",
       "0     data\\input\\Brain MRI segmentation\\kaggle_3m\\TC...     0  \n",
       "1     data\\input\\Brain MRI segmentation\\kaggle_3m\\TC...     0  \n",
       "2     data\\input\\Brain MRI segmentation\\kaggle_3m\\TC...     0  \n",
       "3     data\\input\\Brain MRI segmentation\\kaggle_3m\\TC...     0  \n",
       "4     data\\input\\Brain MRI segmentation\\kaggle_3m\\TC...     0  \n",
       "...                                                 ...   ...  \n",
       "3924  data\\input\\Brain MRI segmentation\\kaggle_3m\\TC...     0  \n",
       "3925  data\\input\\Brain MRI segmentation\\kaggle_3m\\TC...     0  \n",
       "3926  data\\input\\Brain MRI segmentation\\kaggle_3m\\TC...     0  \n",
       "3927  data\\input\\Brain MRI segmentation\\kaggle_3m\\TC...     0  \n",
       "3928  data\\input\\Brain MRI segmentation\\kaggle_3m\\TC...     0  \n",
       "\n",
       "[3929 rows x 4 columns]"
      ]
     },
     "execution_count": 39,
     "metadata": {},
     "output_type": "execute_result"
    }
   ],
   "source": [
    "mri_df['mask'] = mri_df['mask_path'].apply(lambda x: get_diagnosis(x))\n",
    "\n",
    "mri_df['mask_path'] = mri_df['mask_path'].apply(lambda x: str(x))\n",
    "mri_df"
   ]
  },
  {
   "cell_type": "code",
   "execution_count": null,
   "id": "c06da9e0",
   "metadata": {
    "execution": {
     "iopub.execute_input": "2023-05-28T13:28:57.473227Z",
     "iopub.status.busy": "2023-05-28T13:28:57.472905Z",
     "iopub.status.idle": "2023-05-28T13:28:57.47845Z",
     "shell.execute_reply": "2023-05-28T13:28:57.47746Z"
    },
    "papermill": {
     "duration": 0.024496,
     "end_time": "2023-05-28T13:28:57.480577",
     "exception": false,
     "start_time": "2023-05-28T13:28:57.456081",
     "status": "completed"
    },
    "tags": []
   },
   "outputs": [],
   "source": [
    "mri_df.drop(columns=['patient_id'],inplace=True)"
   ]
  },
  {
   "cell_type": "code",
   "execution_count": null,
   "id": "a616abcc",
   "metadata": {
    "execution": {
     "iopub.execute_input": "2023-05-28T13:28:57.513955Z",
     "iopub.status.busy": "2023-05-28T13:28:57.513188Z",
     "iopub.status.idle": "2023-05-28T13:28:57.531361Z",
     "shell.execute_reply": "2023-05-28T13:28:57.530429Z"
    },
    "papermill": {
     "duration": 0.037056,
     "end_time": "2023-05-28T13:28:57.53345",
     "exception": false,
     "start_time": "2023-05-28T13:28:57.496394",
     "status": "completed"
    },
    "tags": []
   },
   "outputs": [],
   "source": [
    "mri_train, mri_test = train_test_split(mri_df,test_size = 0.1)\n",
    "mri_train, mri_val = train_test_split(mri_train,test_size = 0.2)\n",
    "\n",
    "print('Training data shape is {0}'.format(mri_train.values.shape))\n",
    "print('Test data shape is {0}'.format(mri_test.values.shape))\n",
    "mri_train.sample(n=5)"
   ]
  },
  {
   "cell_type": "markdown",
   "id": "830736f6",
   "metadata": {
    "papermill": {
     "duration": 0.016109,
     "end_time": "2023-05-28T13:28:57.56562",
     "exception": false,
     "start_time": "2023-05-28T13:28:57.549511",
     "status": "completed"
    },
    "tags": []
   },
   "source": [
    "# <h2 class=\"list-group-item list-group-item-action active\" style=\"color:#FF0000;background-color:white;font-size:25px\">EDA</h2> <a id=2></a> <br>\n",
    "\n",
    "Check Balancing in Data"
   ]
  },
  {
   "cell_type": "code",
   "execution_count": null,
   "id": "5a3a1aa2",
   "metadata": {
    "execution": {
     "iopub.execute_input": "2023-05-28T13:28:57.599039Z",
     "iopub.status.busy": "2023-05-28T13:28:57.598754Z",
     "iopub.status.idle": "2023-05-28T13:28:57.811562Z",
     "shell.execute_reply": "2023-05-28T13:28:57.810789Z"
    },
    "papermill": {
     "duration": 0.231869,
     "end_time": "2023-05-28T13:28:57.813615",
     "exception": false,
     "start_time": "2023-05-28T13:28:57.581746",
     "status": "completed"
    },
    "tags": []
   },
   "outputs": [],
   "source": [
    "%matplotlib inline\n",
    "mri_df['mask'].value_counts().plot(kind='bar',color=['g','r'],\n",
    "                title='Count of Tumour vs No Tumour')"
   ]
  },
  {
   "cell_type": "code",
   "execution_count": null,
   "id": "aa41ec11",
   "metadata": {
    "execution": {
     "iopub.execute_input": "2023-05-28T13:28:57.848482Z",
     "iopub.status.busy": "2023-05-28T13:28:57.848199Z",
     "iopub.status.idle": "2023-05-28T13:28:57.855779Z",
     "shell.execute_reply": "2023-05-28T13:28:57.854748Z"
    },
    "papermill": {
     "duration": 0.028555,
     "end_time": "2023-05-28T13:28:57.858928",
     "exception": false,
     "start_time": "2023-05-28T13:28:57.830373",
     "status": "completed"
    },
    "tags": []
   },
   "outputs": [],
   "source": [
    "mri_df['mask'].value_counts()"
   ]
  },
  {
   "cell_type": "markdown",
   "id": "ff1e51b5",
   "metadata": {
    "papermill": {
     "duration": 0.016477,
     "end_time": "2023-05-28T13:28:57.892031",
     "exception": false,
     "start_time": "2023-05-28T13:28:57.875554",
     "status": "completed"
    },
    "tags": []
   },
   "source": [
    "# <span class=\"list-group-item list-group-item-action active\" style=\"color:#FF0000;background-color:white;font-size:25px\">Image Visualization</span> <a id=2.1></a> <br>\n",
    "\n",
    "Visualising the Brain MRI with Tumour"
   ]
  },
  {
   "cell_type": "code",
   "execution_count": null,
   "id": "d11001e4",
   "metadata": {
    "execution": {
     "iopub.execute_input": "2023-05-28T13:28:57.926752Z",
     "iopub.status.busy": "2023-05-28T13:28:57.926466Z",
     "iopub.status.idle": "2023-05-28T13:28:59.53804Z",
     "shell.execute_reply": "2023-05-28T13:28:59.537177Z"
    },
    "papermill": {
     "duration": 1.636457,
     "end_time": "2023-05-28T13:28:59.545306",
     "exception": false,
     "start_time": "2023-05-28T13:28:57.908849",
     "status": "completed"
    },
    "tags": []
   },
   "outputs": [],
   "source": [
    "count = 0\n",
    "i = 0\n",
    "fig,axs = plt.subplots(3,3, figsize=(20,15))\n",
    "for mask in mri_df['mask']:\n",
    "    if (mask==1):\n",
    "        img = io.imread(mri_df.img_path[i])\n",
    "        axs[count][0].title.set_text(\"Brain MRI\")\n",
    "        axs[count][0].imshow(img)\n",
    "        \n",
    "        mask = io.imread(mri_df.mask_path[i])\n",
    "        axs[count][1].title.set_text(\"Mask =\" + str(mri_df['mask'][i]))\n",
    "        axs[count][1].imshow(mask, cmap='gray')\n",
    "        \n",
    "        img[mask==255] = (255,0,0)  # change pixel color at the position of mask\n",
    "        axs[count][2].title.set_text(\"MRI with Mask =\" + str(mri_df['mask'][i]))\n",
    "        axs[count][2].imshow(img)\n",
    "        count +=1\n",
    "    i += 1\n",
    "    if (count==3):\n",
    "        break\n",
    "        \n",
    "fig.tight_layout()"
   ]
  },
  {
   "cell_type": "markdown",
   "id": "4bab893b",
   "metadata": {
    "papermill": {
     "duration": 0.022411,
     "end_time": "2023-05-28T13:28:59.590446",
     "exception": false,
     "start_time": "2023-05-28T13:28:59.568035",
     "status": "completed"
    },
    "tags": []
   },
   "source": [
    "# <span class=\"list-group-item list-group-item-action active\" style=\"color:#FF0000;background-color:white;font-size:25px\">Data Generator</span> <a id=3></a> <br>\n",
    "### Reference : **[UNet](https://github.com/zhixuhao/unet)**"
   ]
  },
  {
   "cell_type": "code",
   "execution_count": null,
   "id": "3e423984",
   "metadata": {
    "execution": {
     "iopub.execute_input": "2023-05-28T13:28:59.636973Z",
     "iopub.status.busy": "2023-05-28T13:28:59.636659Z",
     "iopub.status.idle": "2023-05-28T13:28:59.641361Z",
     "shell.execute_reply": "2023-05-28T13:28:59.640409Z"
    },
    "papermill": {
     "duration": 0.030515,
     "end_time": "2023-05-28T13:28:59.643526",
     "exception": false,
     "start_time": "2023-05-28T13:28:59.613011",
     "status": "completed"
    },
    "tags": []
   },
   "outputs": [],
   "source": [
    "from keras_preprocessing.image import ImageDataGenerator"
   ]
  },
  {
   "cell_type": "code",
   "execution_count": null,
   "id": "5865f9d6",
   "metadata": {
    "execution": {
     "iopub.execute_input": "2023-05-28T13:28:59.689836Z",
     "iopub.status.busy": "2023-05-28T13:28:59.689555Z",
     "iopub.status.idle": "2023-05-28T13:28:59.698997Z",
     "shell.execute_reply": "2023-05-28T13:28:59.698048Z"
    },
    "papermill": {
     "duration": 0.035313,
     "end_time": "2023-05-28T13:28:59.701212",
     "exception": false,
     "start_time": "2023-05-28T13:28:59.665899",
     "status": "completed"
    },
    "tags": []
   },
   "outputs": [],
   "source": [
    "def train_generator(data_frame, batch_size, aug_dict,\n",
    "        image_color_mode=\"rgb\",\n",
    "        mask_color_mode=\"grayscale\",\n",
    "        image_save_prefix=\"image\",\n",
    "        mask_save_prefix=\"mask\",\n",
    "        save_to_dir=None,\n",
    "        target_size=(256,256),\n",
    "        seed=1):\n",
    "\n",
    "    image_datagen = ImageDataGenerator(**aug_dict)\n",
    "    mask_datagen = ImageDataGenerator(**aug_dict)\n",
    "    \n",
    "    image_generator = image_datagen.flow_from_dataframe(\n",
    "        data_frame,\n",
    "        x_col = \"img_path\",\n",
    "        class_mode = None,\n",
    "        color_mode = image_color_mode,\n",
    "        target_size = target_size,\n",
    "        batch_size = batch_size,\n",
    "        save_to_dir = save_to_dir,\n",
    "        save_prefix  = image_save_prefix,\n",
    "        seed = seed)\n",
    "\n",
    "    mask_generator = mask_datagen.flow_from_dataframe(\n",
    "        data_frame,\n",
    "        x_col = \"mask_path\",\n",
    "        class_mode = None,\n",
    "        color_mode = mask_color_mode,\n",
    "        target_size = target_size,\n",
    "        batch_size = batch_size,\n",
    "        save_to_dir = save_to_dir,\n",
    "        save_prefix  = mask_save_prefix,\n",
    "        seed = seed)\n",
    "\n",
    "    train_gen = zip(image_generator, mask_generator)\n",
    "    \n",
    "    for (img, mask) in train_gen:\n",
    "        img, mask = adjust_data(img, mask)\n",
    "        yield (img,mask)\n"
   ]
  },
  {
   "cell_type": "code",
   "execution_count": null,
   "id": "36420b41",
   "metadata": {
    "execution": {
     "iopub.execute_input": "2023-05-28T13:28:59.747477Z",
     "iopub.status.busy": "2023-05-28T13:28:59.747159Z",
     "iopub.status.idle": "2023-05-28T13:28:59.752378Z",
     "shell.execute_reply": "2023-05-28T13:28:59.75146Z"
    },
    "papermill": {
     "duration": 0.031248,
     "end_time": "2023-05-28T13:28:59.754669",
     "exception": false,
     "start_time": "2023-05-28T13:28:59.723421",
     "status": "completed"
    },
    "tags": []
   },
   "outputs": [],
   "source": [
    "def adjust_data(img,mask):\n",
    "    img = img / 255\n",
    "    mask = mask / 255\n",
    "    mask[mask > 0.5] = 1\n",
    "    mask[mask <= 0.5] = 0\n",
    "    \n",
    "    return (img, mask)"
   ]
  },
  {
   "cell_type": "code",
   "execution_count": null,
   "id": "fddf8edf",
   "metadata": {
    "execution": {
     "iopub.execute_input": "2023-05-28T13:28:59.80054Z",
     "iopub.status.busy": "2023-05-28T13:28:59.800265Z",
     "iopub.status.idle": "2023-05-28T13:28:59.807009Z",
     "shell.execute_reply": "2023-05-28T13:28:59.806071Z"
    },
    "papermill": {
     "duration": 0.032341,
     "end_time": "2023-05-28T13:28:59.809163",
     "exception": false,
     "start_time": "2023-05-28T13:28:59.776822",
     "status": "completed"
    },
    "tags": []
   },
   "outputs": [],
   "source": [
    "train_generator_args = dict(rotation_range=0.2,\n",
    "                            width_shift_range=0.05,\n",
    "                            height_shift_range=0.05,\n",
    "                            shear_range=0.05,\n",
    "                            zoom_range=0.05,\n",
    "                            horizontal_flip=True,\n",
    "                            fill_mode='nearest')\n",
    "\n",
    "train_gen = train_generator(mri_train, 32,\n",
    "                                train_generator_args,\n",
    "                                target_size=(256, 256))\n",
    "    \n",
    "val_gen = train_generator(mri_val, 32,\n",
    "                                dict(),\n",
    "                                target_size=(256, 256))\n"
   ]
  },
  {
   "cell_type": "markdown",
   "id": "3f65dbd7",
   "metadata": {
    "papermill": {
     "duration": 0.023621,
     "end_time": "2023-05-28T13:28:59.855934",
     "exception": false,
     "start_time": "2023-05-28T13:28:59.832313",
     "status": "completed"
    },
    "tags": []
   },
   "source": [
    "# <p style=\"color:#FF0000;background-color:white;font-size:25px\">Build UNet Model</span> <a id=4></a> <br>\n",
    "\n",
    "# <span class=\"list-group-item list-group-item-action active\" style=\"color:#FF0000;background-color:white;font-size:25px\">UNet Architecture</span> <a id=4.1></a>\n",
    "\n",
    "<center><img src= \"https://miro.medium.com/max/1200/1*f7YOaE4TWubwaFF7Z1fzNw.png\" alt =\"UNet\" style='width:800px;'></center>"
   ]
  },
  {
   "cell_type": "markdown",
   "id": "45e39dbf",
   "metadata": {
    "papermill": {
     "duration": 0.02265,
     "end_time": "2023-05-28T13:28:59.902759",
     "exception": false,
     "start_time": "2023-05-28T13:28:59.880109",
     "status": "completed"
    },
    "tags": []
   },
   "source": [
    "UNet is named after the shape of it's architecture (U - shaped). UNet model is used to solve Image Segmentation problems especially in Medical related problems.\n",
    "\n",
    "The input layer has 572x572x1 dimension in the above architecture. The 1 column dimension specifies the input is b/w image. If the input dimension was 572x572x3 , the input image is rgb coloured image.\n",
    "After the input layer,we can divide this UNet architecture into 4 parts\n",
    "* Encoder Part (Contracting path)\n",
    "* Upsampling2D\n",
    "* Decoder part (Expanding Path)\n",
    "* Skip Connection (Residual connection)\n",
    "\n",
    "\n",
    "Briefly into the Details of these parts: <br>\n",
    "**Encoder Part**\n",
    "The initial half of the U-shaped architecture is the Contracting path(Encoder part). As the name Contracting path denotes, the dimension of the input image keeps reducing as it passes through 2 Conv2D 3X3 kernel size, ReLU activation and filters=64 followed by Maxpool2D layer (reduces size divided by 2). Now again 2 - Conv2D layers (128 filters) and 1 Maxpooling2D , 2 - Conv2D layers (256 filters) and 1 Maxpooling2D completely contracts the output dimension through layers. This is similar to the Zoom in of the image through each layer. \n",
    "\n",
    "**Upsampling2D**\n",
    "The Upsampling2D layer upsamples the layer output dimension by duplicating the row values twice.The concatenation of the upsampling2D and contracting path happens here leading into the Expanding path.\n",
    "The Upsampling layer is present after 2 conv2D layers in Decoder part, similar to presence of  Maxpooling as in Encoder part.\n",
    "\n",
    "**Decoder Path**\n",
    "The second half of the U-shaped architecture is the Expanding path(Decoder part). As the name Expanding path denotes, the dimension of the image keeps expanding as it passes through 2 Conv2D 3X3 kernel size, ReLU activation and filters=512 followed by Upsampling2D layer (duplicates size divided by 2). Now again 2 - Conv2D layers (256 filters) and 1 Upsampling2D ,2 - Conv2D layers (128 filters) and 1 Upsampling2D, 2 - Conv2D layers (64 filters) completely expands the output dimension through layers. This is similar to the Zoom in of the image through each layer. \n",
    "\n",
    "**Skip Connection (Residual connection)**\n",
    "The Skip Connection (Residual connection) alias the identity mapping is present after each of the 2 Conv2D layers in Encoder to the corresponding same shaped dimension layer in the Decoder part . In the above architecture the copy and crop does residual connection task.The Concatenate layer does the work of adding those two layers. This skip connection doesnot harm the model in any way even in worst case but definitely benificial to the output in the model.\n",
    "\n",
    "Finally the decoder part ends with the Output Segmentation map with filters 2. This layer is again passed through a Conv2D with Sigmoid activation and filters 1. The output classifies each pixel if tumour is present or not in it. \n",
    "\n",
    "**UNet Model build**\n",
    "Here in the model built below, after each of second Convolutional layer,Batch Normalization layer with axis=3 is added to prevent \"internal covariance shift\" , the Activation layer \"relu\" is added here instead of that second Convolutional layer.\n",
    "\n",
    "### Reference : [UNet](https://github.com/zhixuhao/unet)"
   ]
  },
  {
   "cell_type": "code",
   "execution_count": null,
   "id": "c993cb22",
   "metadata": {
    "execution": {
     "iopub.execute_input": "2023-05-28T13:28:59.949363Z",
     "iopub.status.busy": "2023-05-28T13:28:59.949009Z",
     "iopub.status.idle": "2023-05-28T13:28:59.976223Z",
     "shell.execute_reply": "2023-05-28T13:28:59.975339Z"
    },
    "papermill": {
     "duration": 0.053145,
     "end_time": "2023-05-28T13:28:59.978375",
     "exception": false,
     "start_time": "2023-05-28T13:28:59.92523",
     "status": "completed"
    },
    "tags": []
   },
   "outputs": [],
   "source": [
    "def unet(pretrained_weights = None,input_size = (256,256,3)):\n",
    "    inputs = Input(input_size)\n",
    "    conv1 = Conv2D(64, 3, activation = 'relu', padding = 'same', kernel_initializer = 'he_normal')(inputs)\n",
    "    conv1 = Conv2D(64, 3, activation = None, padding = 'same', kernel_initializer = 'he_normal')(conv1)\n",
    "    bn_1 = BatchNormalization(axis=3)(conv1)\n",
    "    act_1 = Activation('relu')(bn_1)\n",
    "    pool1 = MaxPooling2D(pool_size=(2, 2))(act_1)\n",
    "    conv2 = Conv2D(128, 3, activation = 'relu', padding = 'same', kernel_initializer = 'he_normal')(pool1)\n",
    "    conv2 = Conv2D(128, 3, activation = None, padding = 'same', kernel_initializer = 'he_normal')(conv2)\n",
    "    bn_2 = BatchNormalization(axis=3)(conv2)\n",
    "    act_2 = Activation('relu')(bn_2)\n",
    "    pool2 = MaxPooling2D(pool_size=(2, 2))(act_2)\n",
    "    conv3 = Conv2D(256, 3, activation = 'relu', padding = 'same', kernel_initializer = 'he_normal')(pool2)\n",
    "    conv3 = Conv2D(256, 3, activation = None, padding = 'same', kernel_initializer = 'he_normal')(conv3)\n",
    "    bn_3 = BatchNormalization(axis=3)(conv3)\n",
    "    act_3 = Activation('relu')(bn_3)\n",
    "    pool3 = MaxPooling2D(pool_size=(2, 2))(act_3)\n",
    "    conv4 = Conv2D(512, 3, activation = 'relu', padding = 'same', kernel_initializer = 'he_normal')(pool3)\n",
    "    conv4 = Conv2D(512, 3, activation = None, padding = 'same', kernel_initializer = 'he_normal')(conv4)\n",
    "    bn_4 = BatchNormalization(axis=3)(conv4)\n",
    "    act_4 = Activation('relu')(bn_4)\n",
    "    pool4 = MaxPooling2D(pool_size=(2, 2))(act_4)\n",
    "\n",
    "    conv5 = Conv2D(1024, 3, activation = 'relu', padding = 'same', kernel_initializer = 'he_normal')(pool4)\n",
    "    conv5 = Conv2D(1024, 3, activation = None, padding = 'same', kernel_initializer = 'he_normal')(conv5)\n",
    "    bn_5 = BatchNormalization(axis=3)(conv5)\n",
    "    act_5 = Activation('relu')(bn_5)\n",
    "\n",
    "    up6 = Conv2D(512, 2, activation = 'relu', padding = 'same', kernel_initializer = 'he_normal')(UpSampling2D(size = (2,2))(act_5))\n",
    "    merge6 = concatenate([conv4,up6], axis = 3)\n",
    "    conv6 = Conv2D(512, 3, activation = 'relu', padding = 'same', kernel_initializer = 'he_normal')(merge6)\n",
    "    conv6 = Conv2D(512, 3, activation = None, padding = 'same', kernel_initializer = 'he_normal')(conv6)\n",
    "    bn_6 = BatchNormalization(axis=3)(conv6)\n",
    "    act_6 = Activation('relu')(bn_6)\n",
    "    \n",
    "    up7 = Conv2D(256, 2, activation = 'relu', padding = 'same', kernel_initializer = 'he_normal')(UpSampling2D(size = (2,2))(act_6))\n",
    "    merge7 = concatenate([conv3,up7], axis = 3)\n",
    "    conv7 = Conv2D(256, 3, activation = 'relu', padding = 'same', kernel_initializer = 'he_normal')(merge7)\n",
    "    conv7 = Conv2D(256, 3, activation = None, padding = 'same', kernel_initializer = 'he_normal')(conv7)\n",
    "    bn_7 = BatchNormalization(axis=3)(conv7)\n",
    "    act_7 = Activation('relu')(bn_7)\n",
    "\n",
    "    \n",
    "    up8 = Conv2D(128, 2, activation = 'relu', padding = 'same', kernel_initializer = 'he_normal')(UpSampling2D(size = (2,2))(act_7))\n",
    "    merge8 = concatenate([conv2,up8], axis = 3)\n",
    "    conv8 = Conv2D(128, 3, activation = 'relu', padding = 'same', kernel_initializer = 'he_normal')(merge8)\n",
    "    conv8 = Conv2D(128, 3, activation = None, padding = 'same', kernel_initializer = 'he_normal')(conv8)\n",
    "    bn_8 = BatchNormalization(axis=3)(conv8)\n",
    "    act_8 = Activation('relu')(bn_8)\n",
    "    \n",
    "    up9 = Conv2D(64, 2, activation = 'relu', padding = 'same', kernel_initializer = 'he_normal')(UpSampling2D(size = (2,2))(act_8))\n",
    "    merge9 = concatenate([conv1,up9], axis = 3)\n",
    "    conv9 = Conv2D(64, 3, activation = 'relu', padding = 'same', kernel_initializer = 'he_normal')(merge9)\n",
    "    conv9 = Conv2D(64, 3, activation = 'relu', padding = 'same', kernel_initializer = 'he_normal')(conv9)\n",
    "    conv9 = Conv2D(2, 3, activation = None, padding = 'same', kernel_initializer = 'he_normal')(conv9)\n",
    "    bn_9 = BatchNormalization(axis=3)(conv9)\n",
    "    act_9 = Activation('relu')(bn_9)\n",
    "    \n",
    "    conv10 = Conv2D(1, 1, activation = 'sigmoid')(act_9)\n",
    "\n",
    "    model = model = Model(inputs=[inputs] , outputs = [conv10])    \n",
    "    return model"
   ]
  },
  {
   "cell_type": "code",
   "execution_count": null,
   "id": "de7501b4",
   "metadata": {
    "_kg_hide-output": true,
    "execution": {
     "iopub.execute_input": "2023-05-28T13:29:00.025544Z",
     "iopub.status.busy": "2023-05-28T13:29:00.024553Z",
     "iopub.status.idle": "2023-05-28T13:29:03.103019Z",
     "shell.execute_reply": "2023-05-28T13:29:03.099156Z"
    },
    "papermill": {
     "duration": 3.104487,
     "end_time": "2023-05-28T13:29:03.105291",
     "exception": false,
     "start_time": "2023-05-28T13:29:00.000804",
     "status": "completed"
    },
    "tags": []
   },
   "outputs": [],
   "source": [
    "model = unet()\n",
    "model.summary()"
   ]
  },
  {
   "cell_type": "markdown",
   "id": "8b92de5d",
   "metadata": {
    "papermill": {
     "duration": 0.022701,
     "end_time": "2023-05-28T13:29:03.151208",
     "exception": false,
     "start_time": "2023-05-28T13:29:03.128507",
     "status": "completed"
    },
    "tags": []
   },
   "source": [
    "# <span class=\"list-group-item list-group-item-action active\" style=\"color:#FF0000;background-color:white;font-size:25px\">UNet Model architecture</span> <a id=5></a>\n"
   ]
  },
  {
   "cell_type": "code",
   "execution_count": null,
   "id": "d3769e87",
   "metadata": {
    "_kg_hide-input": true,
    "execution": {
     "iopub.execute_input": "2023-05-28T13:29:03.197841Z",
     "iopub.status.busy": "2023-05-28T13:29:03.197524Z",
     "iopub.status.idle": "2023-05-28T13:29:04.589457Z",
     "shell.execute_reply": "2023-05-28T13:29:04.588256Z"
    },
    "papermill": {
     "duration": 1.425224,
     "end_time": "2023-05-28T13:29:04.59897",
     "exception": false,
     "start_time": "2023-05-28T13:29:03.173746",
     "status": "completed"
    },
    "tags": []
   },
   "outputs": [],
   "source": [
    "plot_model(model, to_file='unet_model.png', show_shapes=True)\n",
    "Image(\"unet_model.png\")"
   ]
  },
  {
   "cell_type": "markdown",
   "id": "9d3978d6",
   "metadata": {
    "papermill": {
     "duration": 0.031044,
     "end_time": "2023-05-28T13:29:04.661692",
     "exception": false,
     "start_time": "2023-05-28T13:29:04.630648",
     "status": "completed"
    },
    "tags": []
   },
   "source": [
    "# <span class=\"list-group-item list-group-item-action active\" style=\"color:#FF0000;background-color:white;font-size:25px\">Callbacks</span> <a id=5.1></a> <br>\n",
    "\n",
    "The Callbacks used are \n",
    "* Learning Rate reduction\n",
    "* Early Stopping\n",
    "* Model Checkpoint"
   ]
  },
  {
   "cell_type": "code",
   "execution_count": null,
   "id": "7ea7ea65",
   "metadata": {
    "execution": {
     "iopub.execute_input": "2023-05-28T13:29:04.725046Z",
     "iopub.status.busy": "2023-05-28T13:29:04.72468Z",
     "iopub.status.idle": "2023-05-28T13:29:04.731162Z",
     "shell.execute_reply": "2023-05-28T13:29:04.730155Z"
    },
    "papermill": {
     "duration": 0.041016,
     "end_time": "2023-05-28T13:29:04.733282",
     "exception": false,
     "start_time": "2023-05-28T13:29:04.692266",
     "status": "completed"
    },
    "tags": []
   },
   "outputs": [],
   "source": [
    "lr_reduction = ReduceLROnPlateau(monitor='val_iou',patience=8, verbose=1,\n",
    "                                 factor=0.4, min_lr=0.0001)\n",
    "\n",
    "early_stop = EarlyStopping(monitor='val_iou', min_delta=0.00001, patience=6, \n",
    "                           mode='auto', restore_best_weights=True)\n",
    "\n",
    "model_checkpoint = ModelCheckpoint('unet_membrane.hdf5', verbose=1,monitor='val_iou',\n",
    "                                   save_best_only=True)"
   ]
  },
  {
   "cell_type": "markdown",
   "id": "b741f5bb",
   "metadata": {
    "papermill": {
     "duration": 0.030292,
     "end_time": "2023-05-28T13:29:04.793751",
     "exception": false,
     "start_time": "2023-05-28T13:29:04.763459",
     "status": "completed"
    },
    "tags": []
   },
   "source": [
    "# <span class=\"list-group-item list-group-item-action active\" style=\"color:#FF0000;background-color:white;font-size:25px\">Performance Metrics</span> <a id=5.2></a>\n"
   ]
  },
  {
   "cell_type": "code",
   "execution_count": null,
   "id": "4f6a1eb0",
   "metadata": {
    "execution": {
     "iopub.execute_input": "2023-05-28T13:29:04.857473Z",
     "iopub.status.busy": "2023-05-28T13:29:04.856068Z",
     "iopub.status.idle": "2023-05-28T13:29:04.862584Z",
     "shell.execute_reply": "2023-05-28T13:29:04.861704Z"
    },
    "papermill": {
     "duration": 0.040424,
     "end_time": "2023-05-28T13:29:04.864707",
     "exception": false,
     "start_time": "2023-05-28T13:29:04.824283",
     "status": "completed"
    },
    "tags": []
   },
   "outputs": [],
   "source": [
    "smooth =100\n",
    "def iou(y_true, y_pred):\n",
    "    intersection = K.sum(y_true * y_pred)\n",
    "    sum_ = K.sum(y_true + y_pred)\n",
    "    jac = (intersection + smooth) / (sum_ - intersection + smooth)\n",
    "    return jac"
   ]
  },
  {
   "cell_type": "code",
   "execution_count": null,
   "id": "1706ff5e",
   "metadata": {
    "_kg_hide-input": true,
    "execution": {
     "iopub.execute_input": "2023-05-28T13:29:04.92857Z",
     "iopub.status.busy": "2023-05-28T13:29:04.927404Z",
     "iopub.status.idle": "2023-05-28T13:29:04.934352Z",
     "shell.execute_reply": "2023-05-28T13:29:04.93334Z"
    },
    "papermill": {
     "duration": 0.041383,
     "end_time": "2023-05-28T13:29:04.936537",
     "exception": false,
     "start_time": "2023-05-28T13:29:04.895154",
     "status": "completed"
    },
    "tags": []
   },
   "outputs": [],
   "source": [
    "def dice_coef(y_true, y_pred):\n",
    "    y_truef=K.flatten(y_true)\n",
    "    y_predf=K.flatten(y_pred)\n",
    "    And=K.sum(y_truef* y_predf)\n",
    "    return((2* And + smooth) / (K.sum(y_truef) + K.sum(y_predf) + smooth))\n",
    "\n",
    "def dice_coef_loss(y_true, y_pred):\n",
    "    return 1-dice_coef(y_true, y_pred)"
   ]
  },
  {
   "cell_type": "markdown",
   "id": "c18def17",
   "metadata": {
    "papermill": {
     "duration": 0.030279,
     "end_time": "2023-05-28T13:29:04.996915",
     "exception": false,
     "start_time": "2023-05-28T13:29:04.966636",
     "status": "completed"
    },
    "tags": []
   },
   "source": [
    "# <span class=\"list-group-item list-group-item-action active\" style=\"color:#FF0000;background-color:white;font-size:25px\">Model Fit</span> <a id=5.3></a>\n"
   ]
  },
  {
   "cell_type": "code",
   "execution_count": null,
   "id": "f76336e9",
   "metadata": {
    "execution": {
     "iopub.execute_input": "2023-05-28T13:29:05.061309Z",
     "iopub.status.busy": "2023-05-28T13:29:05.059463Z",
     "iopub.status.idle": "2023-05-28T13:29:05.064871Z",
     "shell.execute_reply": "2023-05-28T13:29:05.063957Z"
    },
    "papermill": {
     "duration": 0.039704,
     "end_time": "2023-05-28T13:29:05.066969",
     "exception": false,
     "start_time": "2023-05-28T13:29:05.027265",
     "status": "completed"
    },
    "tags": []
   },
   "outputs": [],
   "source": [
    "EPOCH = 100\n",
    "learning_rate = 1e-3"
   ]
  },
  {
   "cell_type": "code",
   "execution_count": null,
   "id": "9612f197",
   "metadata": {
    "execution": {
     "iopub.execute_input": "2023-05-28T13:29:05.130059Z",
     "iopub.status.busy": "2023-05-28T13:29:05.129243Z",
     "iopub.status.idle": "2023-05-28T13:29:05.147931Z",
     "shell.execute_reply": "2023-05-28T13:29:05.147026Z"
    },
    "papermill": {
     "duration": 0.052824,
     "end_time": "2023-05-28T13:29:05.150075",
     "exception": false,
     "start_time": "2023-05-28T13:29:05.097251",
     "status": "completed"
    },
    "tags": []
   },
   "outputs": [],
   "source": [
    "model.compile(optimizer=Adam(learning_rate=1e-3, beta_1=0.9, beta_2=0.999, epsilon=None, decay=1e-3/32, amsgrad=False), \n",
    "              loss=dice_coef_loss, metrics=[\"binary_accuracy\", iou, dice_coef])"
   ]
  },
  {
   "cell_type": "code",
   "execution_count": null,
   "id": "969929e7",
   "metadata": {
    "_kg_hide-input": true,
    "execution": {
     "iopub.execute_input": "2023-05-28T13:29:05.21462Z",
     "iopub.status.busy": "2023-05-28T13:29:05.212959Z",
     "iopub.status.idle": "2023-05-28T16:14:32.683438Z",
     "shell.execute_reply": "2023-05-28T16:14:32.682373Z"
    },
    "papermill": {
     "duration": 9927.506398,
     "end_time": "2023-05-28T16:14:32.686781",
     "exception": false,
     "start_time": "2023-05-28T13:29:05.180383",
     "status": "completed"
    },
    "tags": []
   },
   "outputs": [],
   "source": [
    "history = model.fit(train_gen,steps_per_epoch=len(mri_train)/32,\n",
    "                    epochs=EPOCH ,validation_data=val_gen,validation_steps=len(mri_val) / 32,\n",
    "                    callbacks=[model_checkpoint])"
   ]
  },
  {
   "cell_type": "markdown",
   "id": "f771dc68",
   "metadata": {
    "papermill": {
     "duration": 0.79267,
     "end_time": "2023-05-28T16:14:34.270559",
     "exception": false,
     "start_time": "2023-05-28T16:14:33.477889",
     "status": "completed"
    },
    "tags": []
   },
   "source": [
    "# <span class=\"list-group-item list-group-item-action active\" style=\"color:#FF0000;background-color:white;font-size:25px\">Save Model</span> <a id=5.4></a>\n"
   ]
  },
  {
   "cell_type": "code",
   "execution_count": null,
   "id": "3c0ddc80",
   "metadata": {
    "execution": {
     "iopub.execute_input": "2023-05-28T16:14:35.687668Z",
     "iopub.status.busy": "2023-05-28T16:14:35.687297Z",
     "iopub.status.idle": "2023-05-28T16:14:37.360596Z",
     "shell.execute_reply": "2023-05-28T16:14:37.359336Z"
    },
    "papermill": {
     "duration": 2.384672,
     "end_time": "2023-05-28T16:14:37.363563",
     "exception": false,
     "start_time": "2023-05-28T16:14:34.978891",
     "status": "completed"
    },
    "tags": []
   },
   "outputs": [],
   "source": [
    "!mkdir -p saved_model\n",
    "model.save('saved_model/my_model.h5')"
   ]
  },
  {
   "cell_type": "code",
   "execution_count": null,
   "id": "5315ff48",
   "metadata": {
    "execution": {
     "iopub.execute_input": "2023-05-28T16:14:38.861911Z",
     "iopub.status.busy": "2023-05-28T16:14:38.861281Z",
     "iopub.status.idle": "2023-05-28T16:14:38.889144Z",
     "shell.execute_reply": "2023-05-28T16:14:38.888243Z"
    },
    "papermill": {
     "duration": 0.751676,
     "end_time": "2023-05-28T16:14:38.891458",
     "exception": false,
     "start_time": "2023-05-28T16:14:38.139782",
     "status": "completed"
    },
    "tags": []
   },
   "outputs": [],
   "source": [
    "# saving model achitecture in json file\n",
    "model_json = model.to_json()\n",
    "with open(\"UNet-seg-model.json\", \"w\") as json_file:\n",
    "    json_file.write(model_json)"
   ]
  },
  {
   "cell_type": "markdown",
   "id": "130a9b48",
   "metadata": {
    "papermill": {
     "duration": 0.791296,
     "end_time": "2023-05-28T16:14:40.39291",
     "exception": false,
     "start_time": "2023-05-28T16:14:39.601614",
     "status": "completed"
    },
    "tags": []
   },
   "source": [
    "# <span class=\"list-group-item list-group-item-action active\" style=\"color:#FF0000;background-color:white;font-size:25px\">Evaluation</span> <a id=6></a>\n",
    "\n",
    "Evaluation metrics are listed below"
   ]
  },
  {
   "cell_type": "code",
   "execution_count": null,
   "id": "61c44e70",
   "metadata": {
    "execution": {
     "iopub.execute_input": "2023-05-28T16:14:41.801663Z",
     "iopub.status.busy": "2023-05-28T16:14:41.801272Z",
     "iopub.status.idle": "2023-05-28T16:14:41.808392Z",
     "shell.execute_reply": "2023-05-28T16:14:41.807318Z"
    },
    "papermill": {
     "duration": 0.715685,
     "end_time": "2023-05-28T16:14:41.812042",
     "exception": false,
     "start_time": "2023-05-28T16:14:41.096357",
     "status": "completed"
    },
    "tags": []
   },
   "outputs": [],
   "source": [
    "history.history.keys()"
   ]
  },
  {
   "cell_type": "markdown",
   "id": "57167665",
   "metadata": {
    "papermill": {
     "duration": 0.772316,
     "end_time": "2023-05-28T16:14:43.285393",
     "exception": false,
     "start_time": "2023-05-28T16:14:42.513077",
     "status": "completed"
    },
    "tags": []
   },
   "source": [
    "**Loss function** :  IOU - Intersection over Union"
   ]
  },
  {
   "cell_type": "markdown",
   "id": "d04097ec",
   "metadata": {
    "papermill": {
     "duration": 0.806134,
     "end_time": "2023-05-28T16:14:44.814365",
     "exception": false,
     "start_time": "2023-05-28T16:14:44.008231",
     "status": "completed"
    },
    "tags": []
   },
   "source": [
    "![Performance metric : Intersection over Union](data:image/png;base64,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)\n",
    "\n",
    "![IOU](data:image/png;base64,iVBORw0KGgoAAAANSUhEUgAAAV0AAACQCAMAAACcV0hbAAABL1BMVEX///8A/wD/AAD29vb8//wAAADe/95e/146/zrt/+2K/4qW/5bV/9Xw//D/9PT0//T/tbX/EBCu/67l/+X/bW3/19f/7u5B/0H/ZGRL/0sd/yH/zMz/Xl7/lJTyEwD/ISEd7wD/KCj/5ub/Tk7/6O6n/6rF/9yElkv/3d3/RkayPwBm/2bs7OwAABMAAA2RkZN4eHtXV1tNTVIODhvQ/9Dg4OAyMjlDQ0giIit9/323/7elpacrKzIZGSNsbG++vr+d/53Ozs/E/8Rx/3FW/1bI/8iO/45ubnKysrReXmKEhIfl5eaA/4Cr/qpq/Wq7/LvvRTHWRgDnRkGT8pnXXxhI10vLXgAA1wDLXjz/kJDhIAC4OgB9nDe2/8/J79O335ye5H3oX0e8XwDVX1KxuLJfWSj/AAAKOklEQVR4nO2dC3eiSBaAq6QKNdEwrZsx2j2d6e5xt3sD+EBAUUQieah5zD57Z1/zyv//DXsL0klmelRE6Jxs3+90K2Lg1v2oupToUUIQBEEQ5P8d9mBZEf8ZW/anKQdlYShFYYQx5VctyQDlYei7mzTZ7YVxBgq7ug1WCqbhEhsopFJwyHWhHsjho7Qo7UahS2RyHK1RBgG0g01r9aB6UavvVIN63VGm+VJqMcsXYfuPJ6S3e7vKKVTEXSVwiDINSkQe1EGvvLtsFwloTMRtiVYZLUbNoNNaXixMqezQXXpdrBQCRo5oeplORBaE1ZokmERrjgoDEf74EuL1JrTJnCmt5utTWk4rpkxlcXdagB4TrRHJgd4dukPl/NWEssbRRY0wWk+vG5HGZYnS3SotMtqjTRG0oJREpk6DFoMLMsiTHt0Vj6qpxZwExYDmi0GT5J1aACsU2mNRRxrAw116QpRCvkRlpXCdVkyZVk8plSc14gTNsCPlB+QCotUnhA6OiVwo0fqVTAY0SLE+NJyriwqVIR6tDkSVcGqKDF2mSgf0+OiUXOSJUqGXdNCopBZ1MnUaJXp9BHYvLydE2C2xmrArU2hC9YIqpNTIF1K125CpM5hWwG6tmhep5HfIKdjdqR3RIxi8g2M6uAgg0VovrZjC7pFThlwVRsvhkHAKDI6zXKWUNho70JkcxgqTBjyU04o5EUlC4MqHygB2ScGRGfRqUryEVI97MGiozBpOWjGFXdacXtZFZQgTDQZkp64Ue80JPanSAPpTtQTFgqbZeRvODqWFMux0KtMJrGABpRCwBClDtAY9qVFaL5FimpXh6Bh23IPAjXItrIJNEYPuMDiCPWjK6Sk8X5lQmk8tUegx0EN2j2HvTiWsDGFy9aACoauiJymQ+ICRSj3FyiAX2YlTJmUHau51eA4pVhzRgQiBEVJqgmWnUo4epYVSItVJkbBeUyal6GTpVIrkshgGkSE+OYHAJAqcDqwHOfYYqTaPiXIdChTJnZyQXrNMTi4vK4w5YqSw9M7eCIIgCIIgCIJkz94X2/H6sROIzRe5hHyVOOTeu6QxP7CXooBMOcy9SkTuXeIU957lDn63Ba9y+2kayJLDw+dffpOArew+26rzHTwlu6/JSXNzct9eLn1usvrqJdj9cpsmv3hKdr8R1+k2pZH709crnl55/fLWrlJOhnKQewt3n+C91e0BuxUaTHY3Jffnvyx9rrb60ntktxrUEvLX3N9qtcLFU9Ab2t38jdG9VXX3Ko7dnQQjJuLvuffiLsVL0JkR2t3ZeLNVdlk+nl2HsESIussSv2u9/zwZUpJgj2i3snHUiPCsltTu86Rz7H8UTjaP9rnZ/S73zz8m4F+5l7S2+UcfPje7X+X+/Z/fb85/X71M8sGSz8/uH5J8+ub1IdqNAdhN8tYz2o0F2l0D2l25LdpdA9qNBdqNBdqNBdpdA9pduS3aXQPajQXajQXajQXaXQPaXbkt2l0D2o0F2o0F2o0F2l0D2l25LdpdA9qNBdqNBdqNBdpdA9pduS3aXQPajQXajQXajQXaXQPaXbkt2l0D2o0F2o0F2o0F2l0D2l25LdpdA9qNBdqNBdqNBdpdA9pduS3aXQPajQXajQXajcUnt+sksEvQbhwOD59///6HtxuDduPwLOn3FaDdGDw/ePHjTz+/2Jg3y79XCe0+pEJPk2y2FLT7kCRzhlWg3Yeg3fU8KbtwRjxNbPfgMewm++YW8ih2n+/v//D++/1EvH2zrd29zXn7dOwmnQTesdV3On37JgHvnj0Vu2T/xcHBwc8//XiQjBfiq3+T2t1/mfCIfvdU7IYkr7shSe2Wv05II8n3kZHHspt8zhBylfSbCqeNhIS/OrU5j2V3IpeSk/h7IFk1KcniPVZl2JIn8utSj2O3PM1vQ9BMtc3Z8Th2PxfQbpag3SxBu1mCdrME7WYJ2s0StJslaDdL0G6WoN0sQbtZkrZdgnYfUKGnSjFNjtDuPRXaKKQKRbv3VBvbXsj+NVdP4bfPEARBEARBEASJS6KfbEViIaHdDEG7WYJ2s2QDu2pElq35CMn0/DURVXPLJqkfWGVCNRcJIsW3q3Ysgd3+hH5vbM75aL4y4pifbRekNQoTs/reij8a8q50xse/8Yx0PjSXbbWB3a4xsu2RbhifTG+La9ZZR9fsVX90prW3jKK5PGSlXb0jtbXfOo6SsXzDTexqc7g7H2lDsd3dOIqWmAS3arrXb33NaMNez/u8FbXgw2G9Dw4L29s1OJEEv1h7VyjUMKt7u/fBowZJfT0du2GSM8hGbXXtbkvsezEXSwoxu+1Fy/I3yWotY8MK7+d2KHlm22ORhySCh9XCm9kdr52G3Yj5uM2IP5styOLMtrtDiGqObXvmP7A77ITB1fbYn0ODVG/WdzuzJRI3t9vR5qoFo9XQbZWYI1jS+Iz43O6sHlsbwyxjfv9oqHPL4vycSLauR8F919Bsbhlb29XNEGIa+lCyYaSYI+5CsDHxjDCqd2e3zbnt8pmkWq7tgobxudV3LWtJsdyo7o4973xmcL+l27CdDZ1mpnWh/1p6y9Rdy0+3Mpgj7Rzuhi1AWnADDt1Q01hLh1ykrjYjHQMKsqptb7cfll3Y2Y1miIxYR4wHn+t+34Am3Oj2rd22z60FDF8+VC1jLNoDbUmpMrgGtEF3W+BVlF7YteSKnOG8MPN1I9WOS0K7Igx0HYOrIjtog6V7nXDtuWbsWaH9FCqDezYGxEBpG65liq4LxYD5vqeNhtCj+ty/tTvXZp7nzbWuammQr6mPzLTqrtER3ciHvmqIAuvpI9/ti9nIUO/6+mixXZIfNy0a8+fnUBjVuSZmQxKUpW6YDBxNf+SKZrT01Oqu2K07Fr2WR0Pd0/qGpml9zYvsjs9cFx4bfQP6bsp2o7orepA4btB9Rgs39NzSOr5upW0XOlI/vD/XuNrSxZkDau6wq4se62maOtJuYGmeol3WMQywZrpcdBrfG2q2DwVZXUi3fRf+LUxzoS6ys0vaegduZ5BWB8ofPMOHJk/frmkYM1OSfMvlqslFR73RDWmud6HJY30MRX8mJkQpnNUW4VltQeaaNdRclXR0SNU3DL8vDqA6HrNbux7vQq++6Qwf2tXStWta+qw14/aCQPhxq8s7kp+BXThja1a3C6WQL+Bkbc3nfcgaam8HgkM4mDPM5t1RCnV3JHCHkI0HxQemCpo7nlvQe4baqD0Xs4hbu/DKsNuCmaJ5W3e5sOvane1nZDa/myCZM53zdjh6YB6mw4tjn/eXvh5Mjg+zL9325mCX3MDpzRalQBXBz0Q0b8T5fNhtrdvNauAVYQhvWeJFtanxIUx6OXdbMAW66cJL8eH9K2E2h1N7F849IzH99Llrkpar861nZL+EqR8vZYFk3g+JBy+S7hYy+3SP9CHGR/l9HHPp9R+8ApklaDdL0G6WoN0sQbtZgnazBO1mCdrNErSbJVL0lhKSDf8D6qFZBFLloPwAAAAASUVORK5CYII=)"
   ]
  },
  {
   "cell_type": "code",
   "execution_count": null,
   "id": "36aa4090",
   "metadata": {
    "execution": {
     "iopub.execute_input": "2023-05-28T16:14:46.380997Z",
     "iopub.status.busy": "2023-05-28T16:14:46.380614Z",
     "iopub.status.idle": "2023-05-28T16:14:46.638129Z",
     "shell.execute_reply": "2023-05-28T16:14:46.637035Z"
    },
    "papermill": {
     "duration": 1.035168,
     "end_time": "2023-05-28T16:14:46.640394",
     "exception": false,
     "start_time": "2023-05-28T16:14:45.605226",
     "status": "completed"
    },
    "tags": []
   },
   "outputs": [],
   "source": [
    "plt.figure(figsize=(12,5))\n",
    "plt.subplot(1,2,1)\n",
    "plt.plot(history.history['iou']);\n",
    "plt.plot(history.history['val_iou']);\n",
    "plt.title(\"Segmentation Model IOU Loss\");\n",
    "plt.ylabel(\"IOU loss\");\n",
    "plt.xlabel(\"Epochs\");\n",
    "plt.legend(['train', 'val']);"
   ]
  },
  {
   "cell_type": "markdown",
   "id": "bee94c43",
   "metadata": {
    "papermill": {
     "duration": 0.991727,
     "end_time": "2023-05-28T16:14:48.429775",
     "exception": false,
     "start_time": "2023-05-28T16:14:47.438048",
     "status": "completed"
    },
    "tags": []
   },
   "source": [
    "# <span class=\"list-group-item list-group-item-action active\" style=\"color:#FF0000;background-color:white;font-size:25px\">Prediction</span> <a id=7></a>\n"
   ]
  },
  {
   "cell_type": "code",
   "execution_count": null,
   "id": "91d35834",
   "metadata": {
    "execution": {
     "iopub.execute_input": "2023-05-28T16:14:49.953886Z",
     "iopub.status.busy": "2023-05-28T16:14:49.953503Z",
     "iopub.status.idle": "2023-05-28T16:14:49.960084Z",
     "shell.execute_reply": "2023-05-28T16:14:49.959039Z"
    },
    "papermill": {
     "duration": 0.716799,
     "end_time": "2023-05-28T16:14:49.962385",
     "exception": false,
     "start_time": "2023-05-28T16:14:49.245586",
     "status": "completed"
    },
    "tags": []
   },
   "outputs": [],
   "source": [
    "test_ids = list(mri_test.img_path)\n",
    "test_mask = list(mri_test.mask_path)"
   ]
  },
  {
   "cell_type": "code",
   "execution_count": null,
   "id": "0ad90904",
   "metadata": {
    "execution": {
     "iopub.execute_input": "2023-05-28T16:14:51.430603Z",
     "iopub.status.busy": "2023-05-28T16:14:51.430212Z",
     "iopub.status.idle": "2023-05-28T16:14:51.441291Z",
     "shell.execute_reply": "2023-05-28T16:14:51.440336Z"
    },
    "papermill": {
     "duration": 0.783956,
     "end_time": "2023-05-28T16:14:51.443567",
     "exception": false,
     "start_time": "2023-05-28T16:14:50.659611",
     "status": "completed"
    },
    "tags": []
   },
   "outputs": [],
   "source": [
    "def prediction(test, model_seg):\n",
    "  \n",
    "    # empty list to store results\n",
    "    mask, image_id,has_mask = [], [], []\n",
    "    \n",
    "    #itetrating through each image in test data\n",
    "    for i in test.img_path:\n",
    "        \n",
    "\n",
    "        \n",
    "        #Creating a empty array of shape 1,256,256,1\n",
    "        X = np.empty((1,256,256,3))\n",
    "        # read the image\n",
    "        img = io.imread(i)\n",
    "        #resizing the image and coverting them to array of type float64\n",
    "        img = cv2.resize(img, (256,256))\n",
    "        img = np.array(img, dtype=np.float64)\n",
    "        \n",
    "        # standardising the image\n",
    "        img -= img.mean()\n",
    "        img /= img.std()\n",
    "        #converting the shape of image from 256,256,3 to 1,256,256,3\n",
    "        X[0,] = img\n",
    "        \n",
    "        #make prediction of mask\n",
    "        predict = model_seg.predict(X)\n",
    "        \n",
    "        # if sum of predicted mask is 0 then there is not tumour\n",
    "        if predict.round().astype(int).sum()==0:\n",
    "            image_id.append(i)\n",
    "            has_mask.append(0)\n",
    "            mask.append('No mask :)')\n",
    "        else:\n",
    "        #if the sum of pixel values are more than 0, then there is tumour\n",
    "            image_id.append(i)\n",
    "            has_mask.append(1)\n",
    "            mask.append(predict)\n",
    "            \n",
    "    return pd.DataFrame({'img_path': image_id,'predicted_mask': mask,'has_mask': has_mask})"
   ]
  },
  {
   "cell_type": "code",
   "execution_count": null,
   "id": "6ef11a6d",
   "metadata": {
    "execution": {
     "iopub.execute_input": "2023-05-28T16:14:52.839666Z",
     "iopub.status.busy": "2023-05-28T16:14:52.839294Z",
     "iopub.status.idle": "2023-05-28T16:15:38.589082Z",
     "shell.execute_reply": "2023-05-28T16:15:38.588054Z"
    },
    "papermill": {
     "duration": 47.153659,
     "end_time": "2023-05-28T16:15:39.292488",
     "exception": false,
     "start_time": "2023-05-28T16:14:52.138829",
     "status": "completed"
    },
    "tags": []
   },
   "outputs": [],
   "source": [
    "df_pred = prediction(mri_test, model)\n",
    "df_pred"
   ]
  },
  {
   "cell_type": "code",
   "execution_count": null,
   "id": "cf0f2f12",
   "metadata": {
    "execution": {
     "iopub.execute_input": "2023-05-28T16:15:40.853597Z",
     "iopub.status.busy": "2023-05-28T16:15:40.853228Z",
     "iopub.status.idle": "2023-05-28T16:15:49.73633Z",
     "shell.execute_reply": "2023-05-28T16:15:49.735185Z"
    },
    "papermill": {
     "duration": 9.59447,
     "end_time": "2023-05-28T16:15:49.738785",
     "exception": false,
     "start_time": "2023-05-28T16:15:40.144315",
     "status": "completed"
    },
    "tags": []
   },
   "outputs": [],
   "source": [
    "df_pred = mri_test.merge(df_pred, on='img_path')\n",
    "df_pred.head()"
   ]
  },
  {
   "cell_type": "code",
   "execution_count": null,
   "id": "dc7fd0b4",
   "metadata": {
    "execution": {
     "iopub.execute_input": "2023-05-28T16:15:51.662056Z",
     "iopub.status.busy": "2023-05-28T16:15:51.661542Z",
     "iopub.status.idle": "2023-05-28T16:15:54.574217Z",
     "shell.execute_reply": "2023-05-28T16:15:54.573183Z"
    },
    "papermill": {
     "duration": 4.01808,
     "end_time": "2023-05-28T16:15:54.581001",
     "exception": false,
     "start_time": "2023-05-28T16:15:50.562921",
     "status": "completed"
    },
    "tags": []
   },
   "outputs": [],
   "source": [
    "count = 0\n",
    "fig, axs = plt.subplots(3,5, figsize=(30,15))\n",
    "\n",
    "for i in range(len(df_pred)):\n",
    "    if df_pred.has_mask[i]==1 and count<15:\n",
    "        #read mri images\n",
    "        img = io.imread(df_pred.img_path[i])\n",
    "        img = cv2.cvtColor(img, cv2.COLOR_BGR2RGB)\n",
    "        axs[count][0].imshow(img)\n",
    "        axs[count][0].title.set_text('Brain MRI')\n",
    "        \n",
    "        #read original mask\n",
    "        mask = io.imread(df_pred.mask_path[i])\n",
    "        axs[count][1].imshow(mask)\n",
    "        axs[count][1].title.set_text('Ground Truth')\n",
    "        \n",
    "        #read predicted mask\n",
    "        pred = np.array(df_pred.predicted_mask[i]).squeeze().round()\n",
    "        axs[count][2].imshow(pred)\n",
    "        axs[count][2].title.set_text('predicted mask')\n",
    "        \n",
    "        #overlay original mask with MRI\n",
    "        img[mask==255] = (255,0,0)\n",
    "        axs[count][3].imshow(img)\n",
    "        axs[count][3].title.set_text('Brain MRI with original mask (Ground Truth)')\n",
    "        \n",
    "        #overlay predicted mask and MRI\n",
    "        img_ = io.imread(df_pred.img_path[i])\n",
    "        img_ = cv2.cvtColor(img_, cv2.COLOR_BGR2RGB)\n",
    "        img_[pred==1] = (0,255,150)\n",
    "        axs[count][4].imshow(img_)\n",
    "        axs[count][4].title.set_text('MRI with PREDICTED MASK')\n",
    "        \n",
    "        count +=1\n",
    "    if (count==3):\n",
    "        break\n",
    "\n",
    "fig.tight_layout()"
   ]
  },
  {
   "cell_type": "markdown",
   "id": "b45a262a",
   "metadata": {
    "papermill": {
     "duration": 0.7305,
     "end_time": "2023-05-28T16:15:56.104295",
     "exception": false,
     "start_time": "2023-05-28T16:15:55.373795",
     "status": "completed"
    },
    "tags": []
   },
   "source": [
    "**Reference:** \n",
    "* [UNet model Original creator Reference link](https://github.com/zhixuhao/unet)\n",
    "* [Kaggle Notebook - SAMUEL CORTINHAS](https://www.kaggle.com/code/samuelcortinhas/case-study-u-net-from-scratch#Application:-Tumor-detection)"
   ]
  }
 ],
 "metadata": {
  "kernelspec": {
   "display_name": ".venv-3.12",
   "language": "python",
   "name": "python3"
  },
  "language_info": {
   "codemirror_mode": {
    "name": "ipython",
    "version": 3
   },
   "file_extension": ".py",
   "mimetype": "text/x-python",
   "name": "python",
   "nbconvert_exporter": "python",
   "pygments_lexer": "ipython3",
   "version": "3.12.8"
  },
  "papermill": {
   "default_parameters": {},
   "duration": 10061.252484,
   "end_time": "2023-05-28T16:15:59.685538",
   "environment_variables": {},
   "exception": null,
   "input_path": "__notebook__.ipynb",
   "output_path": "__notebook__.ipynb",
   "parameters": {},
   "start_time": "2023-05-28T13:28:18.433054",
   "version": "2.3.4"
  }
 },
 "nbformat": 4,
 "nbformat_minor": 5
}
